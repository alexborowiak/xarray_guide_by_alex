{
 "cells": [
  {
   "cell_type": "markdown",
   "metadata": {
    "heading_collapsed": true
   },
   "source": [
    "# Packages"
   ]
  },
  {
   "cell_type": "code",
   "execution_count": 18,
   "metadata": {
    "hidden": true
   },
   "outputs": [],
   "source": [
    "# Base packages needed for python. Most things done here will be using these two packages in the background.\n",
    "import numpy as np\n",
    "import pandas as pd\n",
    "\n",
    "# Needed for plotting\n",
    "import matplotlib.pyplot as plt\n",
    "\n",
    "# This is the main package that is going to be used here.\n",
    "import xarray as xr"
   ]
  },
  {
   "cell_type": "markdown",
   "metadata": {},
   "source": [
    "# Opening Files \n",
    "The files used in this tutorial are all files from the OPeNDAP NOAA site: <br>http://nomads.ncep.noaa.gov:80/dods/gfs_0p25/gfs.\n",
    "<br> <br>\n",
    "There are three seperate netcdf files that will be used in this tutorial."
   ]
  },
  {
   "cell_type": "markdown",
   "metadata": {},
   "source": [
    "Each netcdf file can be open separately using <b> xr.open_dataset </b>"
   ]
  },
  {
   "cell_type": "code",
   "execution_count": 19,
   "metadata": {},
   "outputs": [],
   "source": [
    "d1 = xr.open_dataset('data/d1.nc')"
   ]
  },
  {
   "cell_type": "markdown",
   "metadata": {},
   "source": [
    "Printing this dataset will show that is contain three dimension of time, lat and lon with one variable tmpsfc (surface temperature)."
   ]
  },
  {
   "cell_type": "code",
   "execution_count": 56,
   "metadata": {},
   "outputs": [
    {
     "data": {
      "text/plain": [
       "<xarray.Dataset>\n",
       "Dimensions:  (lat: 209, lon: 294, time: 81)\n",
       "Coordinates:\n",
       "  * time     (time) datetime64[ns] 2020-11-25 2020-11-25T03:00:00 ... 2020-12-05\n",
       "  * lat      (lat) float64 -55.75 -55.5 -55.25 -55.0 ... -4.5 -4.25 -4.0 -3.75\n",
       "  * lon      (lon) float64 106.0 106.2 106.5 106.8 ... 178.5 178.8 179.0 179.2\n",
       "Data variables:\n",
       "    tmpsfc   (time, lat, lon) float32 274.43408 274.43408 ... 302.03525"
      ]
     },
     "execution_count": 56,
     "metadata": {},
     "output_type": "execute_result"
    }
   ],
   "source": [
    "d1"
   ]
  },
  {
   "cell_type": "markdown",
   "metadata": {},
   "source": [
    "To access the values of any coordinate or variable:"
   ]
  },
  {
   "cell_type": "code",
   "execution_count": 57,
   "metadata": {},
   "outputs": [
    {
     "data": {
      "text/plain": [
       "array([[[274.43408, 274.43408, 274.43408, ..., 279.7341 , 279.83408,\n",
       "         279.83408],\n",
       "        [274.5341 , 274.5341 , 274.5341 , ..., 279.93408, 279.93408,\n",
       "         279.93408],\n",
       "        [274.6341 , 274.6341 , 274.7341 , ..., 279.93408, 280.0341 ,\n",
       "         280.1341 ],\n",
       "        ...,\n",
       "        [302.43408, 302.43408, 302.43408, ..., 302.1341 , 302.0341 ,\n",
       "         302.0341 ],\n",
       "        [301.7341 , 302.43408, 302.43408, ..., 302.1341 , 302.0341 ,\n",
       "         302.0341 ],\n",
       "        [302.6341 , 302.5341 , 302.43408, ..., 302.0341 , 301.93408,\n",
       "         301.93408]],\n",
       "\n",
       "       [[274.49997, 274.49997, 274.49997, ..., 279.9    , 279.99997,\n",
       "         279.99997],\n",
       "        [274.59998, 274.49997, 274.59998, ..., 279.99997, 280.09998,\n",
       "         280.09998],\n",
       "        [274.59998, 274.59998, 274.69998, ..., 279.8    , 279.9    ,\n",
       "         279.99997],\n",
       "        ...,\n",
       "        [302.49997, 302.4    , 302.4    , ..., 302.19998, 302.19998,\n",
       "         302.09998],\n",
       "        [302.19998, 302.4    , 302.4    , ..., 302.19998, 302.09998,\n",
       "         302.09998],\n",
       "        [302.59998, 302.4    , 302.4    , ..., 302.09998, 301.99997,\n",
       "         301.99997]],\n",
       "\n",
       "       [[274.5102 , 274.5102 , 274.5102 , ..., 279.6102 , 279.71017,\n",
       "         279.71017],\n",
       "        [274.6102 , 274.5102 , 274.6102 , ..., 279.71017, 279.9102 ,\n",
       "         279.9102 ],\n",
       "        [274.6102 , 274.6102 , 274.71017, ..., 279.81018, 279.9102 ,\n",
       "         280.0102 ],\n",
       "        ...,\n",
       "        [302.9102 , 302.5102 , 302.5102 , ..., 302.0102 , 301.9102 ,\n",
       "         301.9102 ],\n",
       "        [303.0102 , 302.71017, 302.6102 , ..., 302.0102 , 301.9102 ,\n",
       "         301.9102 ],\n",
       "        [303.1102 , 302.9102 , 302.5102 , ..., 301.9102 , 301.9102 ,\n",
       "         301.81018]],\n",
       "\n",
       "       ...,\n",
       "\n",
       "       [[274.79947, 274.79947, 274.79947, ..., 279.69946, 279.79947,\n",
       "         279.79947],\n",
       "        [274.79947, 274.79947, 274.89948, ..., 279.79947, 279.99948,\n",
       "         279.99948],\n",
       "        [274.89948, 274.89948, 274.89948, ..., 279.89948, 279.99948,\n",
       "         280.09946],\n",
       "        ...,\n",
       "        [302.19946, 302.19946, 302.19946, ..., 301.99948, 301.99948,\n",
       "         301.99948],\n",
       "        [301.49948, 302.19946, 302.19946, ..., 301.99948, 301.89948,\n",
       "         301.89948],\n",
       "        [302.39948, 302.29947, 302.19946, ..., 301.99948, 301.89948,\n",
       "         301.89948]],\n",
       "\n",
       "       [[274.7242 , 274.7242 , 274.7242 , ..., 279.7242 , 279.7242 ,\n",
       "         279.8242 ],\n",
       "        [274.9242 , 274.8242 , 274.9242 , ..., 279.8242 , 279.9242 ,\n",
       "         279.9242 ],\n",
       "        [275.0242 , 274.9242 , 274.9242 , ..., 279.9242 , 280.0242 ,\n",
       "         280.0242 ],\n",
       "        ...,\n",
       "        [302.2242 , 302.2242 , 302.2242 , ..., 302.1242 , 302.0242 ,\n",
       "         302.0242 ],\n",
       "        [301.3242 , 302.2242 , 302.2242 , ..., 302.0242 , 302.0242 ,\n",
       "         301.9242 ],\n",
       "        [302.3242 , 302.2242 , 302.2242 , ..., 302.0242 , 301.9242 ,\n",
       "         301.9242 ]],\n",
       "\n",
       "       [[274.93527, 274.93527, 274.83527, ..., 279.73526, 279.83527,\n",
       "         279.83527],\n",
       "        [274.93527, 274.93527, 274.93527, ..., 279.93527, 280.03525,\n",
       "         280.03525],\n",
       "        [275.03525, 275.03525, 275.13525, ..., 280.13525, 280.13525,\n",
       "         280.13525],\n",
       "        ...,\n",
       "        [302.23526, 302.23526, 302.23526, ..., 302.23526, 302.23526,\n",
       "         302.13525],\n",
       "        [301.53525, 302.23526, 302.23526, ..., 302.23526, 302.13525,\n",
       "         302.13525],\n",
       "        [302.33527, 302.23526, 302.23526, ..., 302.13525, 302.03525,\n",
       "         302.03525]]], dtype=float32)"
      ]
     },
     "execution_count": 57,
     "metadata": {},
     "output_type": "execute_result"
    }
   ],
   "source": [
    "d1.tmpsfc.values"
   ]
  },
  {
   "cell_type": "markdown",
   "metadata": {},
   "source": [
    "or"
   ]
  },
  {
   "cell_type": "code",
   "execution_count": 58,
   "metadata": {},
   "outputs": [
    {
     "data": {
      "text/plain": [
       "array(['2020-11-25T00:00:00.000000000', '2020-11-25T03:00:00.000000000',\n",
       "       '2020-11-25T06:00:00.000000000', '2020-11-25T09:00:00.000000000',\n",
       "       '2020-11-25T12:00:00.000000000', '2020-11-25T15:00:00.000000000',\n",
       "       '2020-11-25T18:00:00.000000000', '2020-11-25T21:00:00.000000000',\n",
       "       '2020-11-26T00:00:00.000000000', '2020-11-26T03:00:00.000000000',\n",
       "       '2020-11-26T06:00:00.000000000', '2020-11-26T09:00:00.000000000',\n",
       "       '2020-11-26T12:00:00.000000000', '2020-11-26T15:00:00.000000000',\n",
       "       '2020-11-26T18:00:00.000000000', '2020-11-26T21:00:00.000000000',\n",
       "       '2020-11-27T00:00:00.000000000', '2020-11-27T03:00:00.000000000',\n",
       "       '2020-11-27T06:00:00.000000000', '2020-11-27T09:00:00.000000000',\n",
       "       '2020-11-27T12:00:00.000000000', '2020-11-27T15:00:00.000000000',\n",
       "       '2020-11-27T18:00:00.000000000', '2020-11-27T21:00:00.000000000',\n",
       "       '2020-11-28T00:00:00.000000000', '2020-11-28T03:00:00.000000000',\n",
       "       '2020-11-28T06:00:00.000000000', '2020-11-28T09:00:00.000000000',\n",
       "       '2020-11-28T12:00:00.000000000', '2020-11-28T15:00:00.000000000',\n",
       "       '2020-11-28T18:00:00.000000000', '2020-11-28T21:00:00.000000000',\n",
       "       '2020-11-29T00:00:00.000000000', '2020-11-29T03:00:00.000000000',\n",
       "       '2020-11-29T06:00:00.000000000', '2020-11-29T09:00:00.000000000',\n",
       "       '2020-11-29T12:00:00.000000000', '2020-11-29T15:00:00.000000000',\n",
       "       '2020-11-29T18:00:00.000000000', '2020-11-29T21:00:00.000000000',\n",
       "       '2020-11-30T00:00:00.000000000', '2020-11-30T03:00:00.000000000',\n",
       "       '2020-11-30T06:00:00.000000000', '2020-11-30T09:00:00.000000000',\n",
       "       '2020-11-30T12:00:00.000000000', '2020-11-30T15:00:00.000000000',\n",
       "       '2020-11-30T18:00:00.000000000', '2020-11-30T21:00:00.000000000',\n",
       "       '2020-12-01T00:00:00.000000000', '2020-12-01T03:00:00.000000000',\n",
       "       '2020-12-01T06:00:00.000000000', '2020-12-01T09:00:00.000000000',\n",
       "       '2020-12-01T12:00:00.000000000', '2020-12-01T15:00:00.000000000',\n",
       "       '2020-12-01T18:00:00.000000000', '2020-12-01T21:00:00.000000000',\n",
       "       '2020-12-02T00:00:00.000000000', '2020-12-02T03:00:00.000000000',\n",
       "       '2020-12-02T06:00:00.000000000', '2020-12-02T09:00:00.000000000',\n",
       "       '2020-12-02T12:00:00.000000000', '2020-12-02T15:00:00.000000000',\n",
       "       '2020-12-02T18:00:00.000000000', '2020-12-02T21:00:00.000000000',\n",
       "       '2020-12-03T00:00:00.000000000', '2020-12-03T03:00:00.000000000',\n",
       "       '2020-12-03T06:00:00.000000000', '2020-12-03T09:00:00.000000000',\n",
       "       '2020-12-03T12:00:00.000000000', '2020-12-03T15:00:00.000000000',\n",
       "       '2020-12-03T18:00:00.000000000', '2020-12-03T21:00:00.000000000',\n",
       "       '2020-12-04T00:00:00.000000000', '2020-12-04T03:00:00.000000000',\n",
       "       '2020-12-04T06:00:00.000000000', '2020-12-04T09:00:00.000000000',\n",
       "       '2020-12-04T12:00:00.000000000', '2020-12-04T15:00:00.000000000',\n",
       "       '2020-12-04T18:00:00.000000000', '2020-12-04T21:00:00.000000000',\n",
       "       '2020-12-05T00:00:00.000000000'], dtype='datetime64[ns]')"
      ]
     },
     "execution_count": 58,
     "metadata": {},
     "output_type": "execute_result"
    }
   ],
   "source": [
    "d1['time'].values"
   ]
  },
  {
   "cell_type": "markdown",
   "metadata": {},
   "source": [
    "The type of both of these objects is a numpy array"
   ]
  },
  {
   "cell_type": "code",
   "execution_count": 60,
   "metadata": {},
   "outputs": [
    {
     "data": {
      "text/plain": [
       "(numpy.ndarray, numpy.ndarray)"
      ]
     },
     "execution_count": 60,
     "metadata": {},
     "output_type": "execute_result"
    }
   ],
   "source": [
    "type(d1.time.values), type(d1['tmpsfc'].values)"
   ]
  },
  {
   "cell_type": "markdown",
   "metadata": {},
   "source": [
    "For the remaining files they can all be opened in the same way or they can all be opened together as long as they are in the same directory using the wild card symbol * and <b> xr.open_mfdataset </b> (mf standing for multi-file)."
   ]
  },
  {
   "cell_type": "code",
   "execution_count": 61,
   "metadata": {},
   "outputs": [],
   "source": [
    "d3 = xr.open_dataset('data/d3.nc')\n",
    "d4 = xr.open_dataset('data/d4.nc')"
   ]
  },
  {
   "cell_type": "code",
   "execution_count": 62,
   "metadata": {},
   "outputs": [
    {
     "data": {
      "text/plain": [
       "<xarray.Dataset>\n",
       "Dimensions:  (lat: 209, lon: 294, time: 35)\n",
       "Coordinates:\n",
       "  * time     (time) datetime64[ns] 2020-11-25 ... 2020-11-29T06:00:00\n",
       "  * lat      (lat) float64 -55.75 -55.5 -55.25 -55.0 ... -4.5 -4.25 -4.0 -3.75\n",
       "  * lon      (lon) float64 106.0 106.2 106.5 106.8 ... 178.5 178.8 179.0 179.2\n",
       "Data variables:\n",
       "    tmax2m   (time, lat, lon) float32 ..."
      ]
     },
     "execution_count": 62,
     "metadata": {},
     "output_type": "execute_result"
    }
   ],
   "source": [
    "d4"
   ]
  },
  {
   "cell_type": "code",
   "execution_count": 63,
   "metadata": {},
   "outputs": [],
   "source": [
    "data = xr.open_mfdataset('data/*.nc')"
   ]
  },
  {
   "cell_type": "code",
   "execution_count": 64,
   "metadata": {},
   "outputs": [
    {
     "data": {
      "text/plain": [
       "<xarray.Dataset>\n",
       "Dimensions:  (lat: 209, lon: 294, time: 81)\n",
       "Coordinates:\n",
       "  * time     (time) datetime64[ns] 2020-11-25 2020-11-25T03:00:00 ... 2020-12-05\n",
       "  * lat      (lat) float64 -55.75 -55.5 -55.25 -55.0 ... -4.5 -4.25 -4.0 -3.75\n",
       "  * lon      (lon) float64 106.0 106.2 106.5 106.8 ... 178.5 178.8 179.0 179.2\n",
       "Data variables:\n",
       "    tmax2m   (time, lat, lon) float32 dask.array<shape=(81, 209, 294), chunksize=(81, 209, 294)>\n",
       "    tmin2m   (time, lat, lon) float32 dask.array<shape=(81, 209, 294), chunksize=(81, 209, 294)>\n",
       "    tmpsfc   (time, lat, lon) float32 dask.array<shape=(81, 209, 294), chunksize=(81, 209, 294)>"
      ]
     },
     "execution_count": 64,
     "metadata": {},
     "output_type": "execute_result"
    }
   ],
   "source": [
    "data"
   ]
  },
  {
   "cell_type": "markdown",
   "metadata": {},
   "source": [
    "You can now see in this file that they the variables from all three dataset are now listed under data variables."
   ]
  },
  {
   "cell_type": "markdown",
   "metadata": {},
   "source": [
    "!!! Notice that even though d4 contained fewer time steps that the other two datasets, using the open_mfdataset there where will 81 time steps listed. Xarray matched all the time steps together, and then filled in the missing steps with np.nan (not a number) values automatically."
   ]
  },
  {
   "cell_type": "markdown",
   "metadata": {},
   "source": [
    "If the files are already read in and you need to combine, this can be done with <b> xr.merge </b>"
   ]
  },
  {
   "cell_type": "code",
   "execution_count": 65,
   "metadata": {},
   "outputs": [
    {
     "data": {
      "text/plain": [
       "<xarray.Dataset>\n",
       "Dimensions:  (lat: 209, lon: 294, time: 81)\n",
       "Coordinates:\n",
       "  * time     (time) datetime64[ns] 2020-11-25 2020-11-25T03:00:00 ... 2020-12-05\n",
       "  * lat      (lat) float64 -55.75 -55.5 -55.25 -55.0 ... -4.5 -4.25 -4.0 -3.75\n",
       "  * lon      (lon) float64 106.0 106.2 106.5 106.8 ... 178.5 178.8 179.0 179.2\n",
       "Data variables:\n",
       "    tmpsfc   (time, lat, lon) float32 274.43408 274.43408 ... 302.03525\n",
       "    tmin2m   (time, lat, lon) float32 ...\n",
       "    tmax2m   (time, lat, lon) float32 nan nan nan nan nan ... nan nan nan nan"
      ]
     },
     "execution_count": 65,
     "metadata": {},
     "output_type": "execute_result"
    }
   ],
   "source": [
    "xr.merge([d1,d3,d4])"
   ]
  },
  {
   "cell_type": "markdown",
   "metadata": {},
   "source": [
    "# Indexing"
   ]
  },
  {
   "cell_type": "markdown",
   "metadata": {},
   "source": [
    "Indexing by integer using <b> .isel() </b>"
   ]
  },
  {
   "cell_type": "code",
   "execution_count": 66,
   "metadata": {},
   "outputs": [
    {
     "data": {
      "text/plain": [
       "<xarray.Dataset>\n",
       "Dimensions:  (lat: 209, lon: 294)\n",
       "Coordinates:\n",
       "    time     datetime64[ns] 2020-11-26T06:00:00\n",
       "  * lat      (lat) float64 -55.75 -55.5 -55.25 -55.0 ... -4.5 -4.25 -4.0 -3.75\n",
       "  * lon      (lon) float64 106.0 106.2 106.5 106.8 ... 178.5 178.8 179.0 179.2\n",
       "Data variables:\n",
       "    tmpsfc   (lat, lon) float32 274.7 274.6 274.7 274.6 ... 302.0 301.9 301.9"
      ]
     },
     "execution_count": 66,
     "metadata": {},
     "output_type": "execute_result"
    }
   ],
   "source": [
    "# This gets the 10th time entry\n",
    "d1.isel(time = 10)"
   ]
  },
  {
   "cell_type": "code",
   "execution_count": 67,
   "metadata": {},
   "outputs": [
    {
     "data": {
      "text/plain": [
       "<xarray.Dataset>\n",
       "Dimensions:  (lat: 209, lon: 294, time: 10)\n",
       "Coordinates:\n",
       "  * time     (time) datetime64[ns] 2020-11-25 ... 2020-11-26T03:00:00\n",
       "  * lat      (lat) float64 -55.75 -55.5 -55.25 -55.0 ... -4.5 -4.25 -4.0 -3.75\n",
       "  * lon      (lon) float64 106.0 106.2 106.5 106.8 ... 178.5 178.8 179.0 179.2\n",
       "Data variables:\n",
       "    tmpsfc   (time, lat, lon) float32 274.43408 274.43408 ... 301.84805"
      ]
     },
     "execution_count": 67,
     "metadata": {},
     "output_type": "execute_result"
    }
   ],
   "source": [
    "# Getting a multiple time values (first 10)\n",
    "d1.isel(time = slice(0,10))"
   ]
  },
  {
   "cell_type": "markdown",
   "metadata": {},
   "source": [
    "Indexing by values using <b> .sel() </b>"
   ]
  },
  {
   "cell_type": "code",
   "execution_count": 68,
   "metadata": {},
   "outputs": [
    {
     "data": {
      "text/plain": [
       "<xarray.Dataset>\n",
       "Dimensions:  (lon: 294, time: 81)\n",
       "Coordinates:\n",
       "  * time     (time) datetime64[ns] 2020-11-25 2020-11-25T03:00:00 ... 2020-12-05\n",
       "    lat      float64 -55.75\n",
       "  * lon      (lon) float64 106.0 106.2 106.5 106.8 ... 178.5 178.8 179.0 179.2\n",
       "Data variables:\n",
       "    tmpsfc   (time, lon) float32 274.43408 274.43408 ... 279.83527 279.83527"
      ]
     },
     "execution_count": 68,
     "metadata": {},
     "output_type": "execute_result"
    }
   ],
   "source": [
    "d1.sel(lat = -55.75)"
   ]
  },
  {
   "cell_type": "code",
   "execution_count": 69,
   "metadata": {},
   "outputs": [
    {
     "data": {
      "text/plain": [
       "<xarray.Dataset>\n",
       "Dimensions:  (lat: 204, lon: 4, time: 81)\n",
       "Coordinates:\n",
       "  * time     (time) datetime64[ns] 2020-11-25 2020-11-25T03:00:00 ... 2020-12-05\n",
       "  * lat      (lat) float64 -55.75 -55.5 -55.25 -55.0 ... -5.75 -5.5 -5.25 -5.0\n",
       "  * lon      (lon) float64 106.0 106.2 106.5 106.8\n",
       "Data variables:\n",
       "    tmpsfc   (time, lat, lon) float32 274.43408 274.43408 ... 302.13525"
      ]
     },
     "execution_count": 69,
     "metadata": {},
     "output_type": "execute_result"
    }
   ],
   "source": [
    "d1.sel(lat = slice(-55.75,-5), lon = slice(106,106.8))"
   ]
  },
  {
   "cell_type": "markdown",
   "metadata": {},
   "source": [
    "Chaining together multiple selections"
   ]
  },
  {
   "cell_type": "code",
   "execution_count": 70,
   "metadata": {},
   "outputs": [
    {
     "data": {
      "text/plain": [
       "<xarray.Dataset>\n",
       "Dimensions:  (lon: 4)\n",
       "Coordinates:\n",
       "    time     datetime64[ns] 2020-11-26T06:00:00\n",
       "    lat      float64 -55.75\n",
       "  * lon      (lon) float64 106.0 106.2 106.5 106.8\n",
       "Data variables:\n",
       "    tmpsfc   (lon) float32 274.7 274.6 274.7 274.6"
      ]
     },
     "execution_count": 70,
     "metadata": {},
     "output_type": "execute_result"
    }
   ],
   "source": [
    "d1.isel(time = 10).sel(lat = -55.75, lon = slice(106,106.8))"
   ]
  },
  {
   "cell_type": "markdown",
   "metadata": {},
   "source": [
    "# Plotting"
   ]
  },
  {
   "cell_type": "markdown",
   "metadata": {},
   "source": [
    "Plotting in xarray is quite easy. Xarray is combined with matplotlib, and can be plotted using <b> .plot() </b>\n",
    "<br>\n",
    "Note: the name of the variable must be called in order to plot"
   ]
  },
  {
   "cell_type": "code",
   "execution_count": 71,
   "metadata": {},
   "outputs": [
    {
     "data": {
      "text/plain": [
       "[<matplotlib.lines.Line2D at 0x7f836a718630>]"
      ]
     },
     "execution_count": 71,
     "metadata": {},
     "output_type": "execute_result"
    },
    {
     "data": {
      "image/png": "[encoded data removed]",
      "text/plain": [
       "<Figure size 432x288 with 1 Axes>"
      ]
     },
     "metadata": {
      "needs_background": "light"
     },
     "output_type": "display_data"
    }
   ],
   "source": [
    "# A single grid-cell for all time steps/\\.\n",
    "d1.tmpsfc.sel(lat = -30, lon = 135).plot()"
   ]
  },
  {
   "cell_type": "code",
   "execution_count": 72,
   "metadata": {},
   "outputs": [
    {
     "data": {
      "text/plain": [
       "<matplotlib.collections.QuadMesh at 0x7f836a804898>"
      ]
     },
     "execution_count": 72,
     "metadata": {},
     "output_type": "execute_result"
    },
    {
     "data": {
      "image/png": "[encoded data removed]",
      "text/plain": [
       "<Figure size 432x288 with 2 Axes>"
      ]
     },
     "metadata": {
      "needs_background": "light"
     },
     "output_type": "display_data"
    }
   ],
   "source": [
    "# Specifying only timestep.\n",
    "d1.tmpsfc.isel(time = 10).plot()"
   ]
  },
  {
   "cell_type": "code",
   "execution_count": 73,
   "metadata": {},
   "outputs": [
    {
     "data": {
      "text/plain": [
       "(array([1.260000e+02, 3.696370e+05, 1.344402e+06, 1.140501e+06,\n",
       "        1.773674e+06, 1.534330e+05, 1.078560e+05, 7.125300e+04,\n",
       "        1.589800e+04, 3.460000e+02]),\n",
       " array([261.32922, 270.53723, 279.7452 , 288.9532 , 298.1612 , 307.3692 ,\n",
       "        316.57718, 325.78516, 334.99316, 344.20117, 353.40915],\n",
       "       dtype=float32),\n",
       " <a list of 10 Patch objects>)"
      ]
     },
     "execution_count": 73,
     "metadata": {},
     "output_type": "execute_result"
    },
    {
     "data": {
      "image/png": "[encoded data removed]",
      "text/plain": [
       "<Figure size 432x288 with 1 Axes>"
      ]
     },
     "metadata": {
      "needs_background": "light"
     },
     "output_type": "display_data"
    }
   ],
   "source": [
    "# Specifying all value will create a pdf of data.\n",
    "d1.tmpsfc.plot()"
   ]
  },
  {
   "cell_type": "markdown",
   "metadata": {},
   "source": [
    "<h1> Where Statement <h1>"
   ]
  },
  {
   "cell_type": "markdown",
   "metadata": {},
   "source": [
    "<b> Where </b> is used to find the locations of conditions"
   ]
  },
  {
   "cell_type": "code",
   "execution_count": 74,
   "metadata": {},
   "outputs": [
    {
     "data": {
      "text/plain": [
       "<xarray.DataArray 'tmpsfc' (time: 81, lat: 209, lon: 294)>\n",
       "array([[[ True,  True, ...,  True,  True],\n",
       "        [ True,  True, ...,  True,  True],\n",
       "        ...,\n",
       "        [ True,  True, ...,  True,  True],\n",
       "        [ True,  True, ...,  True,  True]],\n",
       "\n",
       "       [[ True,  True, ...,  True,  True],\n",
       "        [ True,  True, ...,  True,  True],\n",
       "        ...,\n",
       "        [ True,  True, ...,  True,  True],\n",
       "        [ True,  True, ...,  True,  True]],\n",
       "\n",
       "       ...,\n",
       "\n",
       "       [[ True,  True, ...,  True,  True],\n",
       "        [ True,  True, ...,  True,  True],\n",
       "        ...,\n",
       "        [ True,  True, ...,  True,  True],\n",
       "        [ True,  True, ...,  True,  True]],\n",
       "\n",
       "       [[ True,  True, ...,  True,  True],\n",
       "        [ True,  True, ...,  True,  True],\n",
       "        ...,\n",
       "        [ True,  True, ...,  True,  True],\n",
       "        [ True,  True, ...,  True,  True]]])\n",
       "Coordinates:\n",
       "  * time     (time) datetime64[ns] 2020-11-25 2020-11-25T03:00:00 ... 2020-12-05\n",
       "  * lat      (lat) float64 -55.75 -55.5 -55.25 -55.0 ... -4.5 -4.25 -4.0 -3.75\n",
       "  * lon      (lon) float64 106.0 106.2 106.5 106.8 ... 178.5 178.8 179.0 179.2"
      ]
     },
     "execution_count": 74,
     "metadata": {},
     "output_type": "execute_result"
    }
   ],
   "source": [
    "d1.tmpsfc > 20"
   ]
  },
  {
   "cell_type": "code",
   "execution_count": 75,
   "metadata": {},
   "outputs": [
    {
     "data": {
      "text/plain": [
       "<xarray.DataArray 'tmpsfc' (time: 81, lat: 209, lon: 294)>\n",
       "array([[[False, False, ..., False, False],\n",
       "        [False, False, ..., False, False],\n",
       "        ...,\n",
       "        [ True,  True, ...,  True,  True],\n",
       "        [ True,  True, ...,  True,  True]],\n",
       "\n",
       "       [[False, False, ..., False, False],\n",
       "        [False, False, ..., False, False],\n",
       "        ...,\n",
       "        [ True,  True, ...,  True,  True],\n",
       "        [ True,  True, ...,  True,  True]],\n",
       "\n",
       "       ...,\n",
       "\n",
       "       [[False, False, ..., False, False],\n",
       "        [False, False, ..., False, False],\n",
       "        ...,\n",
       "        [ True,  True, ...,  True,  True],\n",
       "        [ True,  True, ...,  True,  True]],\n",
       "\n",
       "       [[False, False, ..., False, False],\n",
       "        [False, False, ..., False, False],\n",
       "        ...,\n",
       "        [ True,  True, ...,  True,  True],\n",
       "        [ True,  True, ...,  True,  True]]])\n",
       "Coordinates:\n",
       "  * time     (time) datetime64[ns] 2020-11-25 2020-11-25T03:00:00 ... 2020-12-05\n",
       "  * lat      (lat) float64 -55.75 -55.5 -55.25 -55.0 ... -4.5 -4.25 -4.0 -3.75\n",
       "  * lon      (lon) float64 106.0 106.2 106.5 106.8 ... 178.5 178.8 179.0 179.2"
      ]
     },
     "execution_count": 75,
     "metadata": {},
     "output_type": "execute_result"
    }
   ],
   "source": [
    "# e.g finding all the locations where temperature is greater than 20 degrees (293 K).\n",
    "d1.tmpsfc > (20 + 273) # + 273 as tmperature units are in kelvin"
   ]
  },
  {
   "cell_type": "code",
   "execution_count": 76,
   "metadata": {},
   "outputs": [
    {
     "data": {
      "text/plain": [
       "<xarray.DataArray 'tmpsfc' (time: 81, lat: 209, lon: 294)>\n",
       "array([[[      nan,       nan, ...,       nan,       nan],\n",
       "        [      nan,       nan, ...,       nan,       nan],\n",
       "        ...,\n",
       "        [301.7341 , 302.43408, ..., 302.0341 , 302.0341 ],\n",
       "        [302.6341 , 302.5341 , ..., 301.93408, 301.93408]],\n",
       "\n",
       "       [[      nan,       nan, ...,       nan,       nan],\n",
       "        [      nan,       nan, ...,       nan,       nan],\n",
       "        ...,\n",
       "        [302.19998, 302.4    , ..., 302.09998, 302.09998],\n",
       "        [302.59998, 302.4    , ..., 301.99997, 301.99997]],\n",
       "\n",
       "       ...,\n",
       "\n",
       "       [[      nan,       nan, ...,       nan,       nan],\n",
       "        [      nan,       nan, ...,       nan,       nan],\n",
       "        ...,\n",
       "        [301.3242 , 302.2242 , ..., 302.0242 , 301.9242 ],\n",
       "        [302.3242 , 302.2242 , ..., 301.9242 , 301.9242 ]],\n",
       "\n",
       "       [[      nan,       nan, ...,       nan,       nan],\n",
       "        [      nan,       nan, ...,       nan,       nan],\n",
       "        ...,\n",
       "        [301.53525, 302.23526, ..., 302.13525, 302.13525],\n",
       "        [302.33527, 302.23526, ..., 302.03525, 302.03525]]], dtype=float32)\n",
       "Coordinates:\n",
       "  * time     (time) datetime64[ns] 2020-11-25 2020-11-25T03:00:00 ... 2020-12-05\n",
       "  * lat      (lat) float64 -55.75 -55.5 -55.25 -55.0 ... -4.5 -4.25 -4.0 -3.75\n",
       "  * lon      (lon) float64 106.0 106.2 106.5 106.8 ... 178.5 178.8 179.0 179.2\n",
       "Attributes:\n",
       "    long_name:  ** surface temperature [k] "
      ]
     },
     "execution_count": 76,
     "metadata": {},
     "output_type": "execute_result"
    }
   ],
   "source": [
    "# Applyting the conditional statements will now replace all the values below 20 with nan values.\n",
    "d1.tmpsfc.where(d1.tmpsfc > 293)"
   ]
  },
  {
   "cell_type": "code",
   "execution_count": 77,
   "metadata": {},
   "outputs": [
    {
     "data": {
      "text/plain": [
       "<xarray.DataArray 'tmpsfc' (time: 81, lat: 209, lon: 294)>\n",
       "array([[[99999.      , 99999.      , ..., 99999.      , 99999.      ],\n",
       "        [99999.      , 99999.      , ..., 99999.      , 99999.      ],\n",
       "        ...,\n",
       "        [  301.7341  ,   302.434082, ...,   302.034088,   302.034088],\n",
       "        [  302.634094,   302.534088, ...,   301.934082,   301.934082]],\n",
       "\n",
       "       [[99999.      , 99999.      , ..., 99999.      , 99999.      ],\n",
       "        [99999.      , 99999.      , ..., 99999.      , 99999.      ],\n",
       "        ...,\n",
       "        [  302.199982,   302.399994, ...,   302.099976,   302.099976],\n",
       "        [  302.599976,   302.399994, ...,   301.999969,   301.999969]],\n",
       "\n",
       "       ...,\n",
       "\n",
       "       [[99999.      , 99999.      , ..., 99999.      , 99999.      ],\n",
       "        [99999.      , 99999.      , ..., 99999.      , 99999.      ],\n",
       "        ...,\n",
       "        [  301.324188,   302.224213, ...,   302.0242  ,   301.924194],\n",
       "        [  302.324188,   302.224213, ...,   301.924194,   301.924194]],\n",
       "\n",
       "       [[99999.      , 99999.      , ..., 99999.      , 99999.      ],\n",
       "        [99999.      , 99999.      , ..., 99999.      , 99999.      ],\n",
       "        ...,\n",
       "        [  301.535248,   302.23526 , ...,   302.135254,   302.135254],\n",
       "        [  302.335266,   302.23526 , ...,   302.035248,   302.035248]]])\n",
       "Coordinates:\n",
       "  * time     (time) datetime64[ns] 2020-11-25 2020-11-25T03:00:00 ... 2020-12-05\n",
       "  * lat      (lat) float64 -55.75 -55.5 -55.25 -55.0 ... -4.5 -4.25 -4.0 -3.75\n",
       "  * lon      (lon) float64 106.0 106.2 106.5 106.8 ... 178.5 178.8 179.0 179.2\n",
       "Attributes:\n",
       "    long_name:  ** surface temperature [k] "
      ]
     },
     "execution_count": 77,
     "metadata": {},
     "output_type": "execute_result"
    }
   ],
   "source": [
    "# By adding a second arguement to the where statement, all the values instead\n",
    "# of being replaced with nan will now be replaced with that values (99999 in this exmple).\n",
    "d1.tmpsfc.where(d1.tmpsfc > 293, 99999)"
   ]
  },
  {
   "cell_type": "markdown",
   "metadata": {},
   "source": [
    "<b> drop = True </b>"
   ]
  },
  {
   "cell_type": "markdown",
   "metadata": {},
   "source": [
    "This keyword will remove the coordinates where the where condition is not met."
   ]
  },
  {
   "cell_type": "code",
   "execution_count": 78,
   "metadata": {},
   "outputs": [],
   "source": [
    "# In the above exmpale this will not work, as there will be values for each time/lat/lon that still have \n",
    "# non-nan values and will thus, not be removed."
   ]
  },
  {
   "cell_type": "code",
   "execution_count": 79,
   "metadata": {},
   "outputs": [
    {
     "data": {
      "text/plain": [
       "<xarray.DataArray 'tmpsfc' (time: 81, lat: 173, lon: 294)>\n",
       "array([[[      nan,       nan, ...,       nan,       nan],\n",
       "        [      nan,       nan, ...,       nan,       nan],\n",
       "        ...,\n",
       "        [301.7341 , 302.43408, ..., 302.0341 , 302.0341 ],\n",
       "        [302.6341 , 302.5341 , ..., 301.93408, 301.93408]],\n",
       "\n",
       "       [[      nan,       nan, ...,       nan,       nan],\n",
       "        [      nan,       nan, ...,       nan,       nan],\n",
       "        ...,\n",
       "        [302.19998, 302.4    , ..., 302.09998, 302.09998],\n",
       "        [302.59998, 302.4    , ..., 301.99997, 301.99997]],\n",
       "\n",
       "       ...,\n",
       "\n",
       "       [[      nan,       nan, ...,       nan,       nan],\n",
       "        [      nan,       nan, ...,       nan,       nan],\n",
       "        ...,\n",
       "        [301.3242 , 302.2242 , ..., 302.0242 , 301.9242 ],\n",
       "        [302.3242 , 302.2242 , ..., 301.9242 , 301.9242 ]],\n",
       "\n",
       "       [[      nan,       nan, ...,       nan,       nan],\n",
       "        [      nan,       nan, ...,       nan,       nan],\n",
       "        ...,\n",
       "        [301.53525, 302.23526, ..., 302.13525, 302.13525],\n",
       "        [302.33527, 302.23526, ..., 302.03525, 302.03525]]], dtype=float32)\n",
       "Coordinates:\n",
       "  * time     (time) datetime64[ns] 2020-11-25 2020-11-25T03:00:00 ... 2020-12-05\n",
       "  * lat      (lat) float64 -46.75 -46.5 -46.25 -46.0 ... -4.5 -4.25 -4.0 -3.75\n",
       "  * lon      (lon) float64 106.0 106.2 106.5 106.8 ... 178.5 178.8 179.0 179.2\n",
       "Attributes:\n",
       "    long_name:  ** surface temperature [k] "
      ]
     },
     "execution_count": 79,
     "metadata": {},
     "output_type": "execute_result"
    }
   ],
   "source": [
    "d1.tmpsfc.where(d1.tmpsfc > 293, drop = True)"
   ]
  },
  {
   "cell_type": "markdown",
   "metadata": {},
   "source": [
    "However, when looking at say a single timeseries, this will remove time values"
   ]
  },
  {
   "cell_type": "code",
   "execution_count": 80,
   "metadata": {},
   "outputs": [
    {
     "data": {
      "text/plain": [
       "[<matplotlib.lines.Line2D at 0x7f83634bdb70>]"
      ]
     },
     "execution_count": 80,
     "metadata": {},
     "output_type": "execute_result"
    },
    {
     "data": {
      "image/png": "[encoded data removed]",
      "text/plain": [
       "<Figure size 432x288 with 1 Axes>"
      ]
     },
     "metadata": {
      "needs_background": "light"
     },
     "output_type": "display_data"
    }
   ],
   "source": [
    "d1.tmpsfc.sel(lat = -30, lon = 135).plot()"
   ]
  },
  {
   "cell_type": "code",
   "execution_count": 81,
   "metadata": {},
   "outputs": [
    {
     "data": {
      "text/plain": [
       "[<matplotlib.lines.Line2D at 0x7f835519b8d0>]"
      ]
     },
     "execution_count": 81,
     "metadata": {},
     "output_type": "execute_result"
    },
    {
     "data": {
      "image/png": "[encoded data removed]",
      "text/plain": [
       "<Figure size 432x288 with 1 Axes>"
      ]
     },
     "metadata": {
      "needs_background": "light"
     },
     "output_type": "display_data"
    }
   ],
   "source": [
    "# No drop statment (time values are still there will nans in place).\n",
    "d1.tmpsfc.sel(lat = -30, lon = 135).where(d1.tmpsfc.sel(lat = -30, lon = 135) > 310).plot()"
   ]
  },
  {
   "cell_type": "markdown",
   "metadata": {},
   "source": [
    "The above statement was getting quite long for a single line. This could be made more manageable."
   ]
  },
  {
   "cell_type": "code",
   "execution_count": 82,
   "metadata": {},
   "outputs": [
    {
     "data": {
      "text/plain": [
       "[<matplotlib.lines.Line2D at 0x7f8368b68588>]"
      ]
     },
     "execution_count": 82,
     "metadata": {},
     "output_type": "execute_result"
    },
    {
     "data": {
      "image/png": "[encoded data removed]",
      "text/plain": [
       "<Figure size 432x288 with 1 Axes>"
      ]
     },
     "metadata": {
      "needs_background": "light"
     },
     "output_type": "display_data"
    }
   ],
   "source": [
    "single_cell = d1.tmpsfc.sel(lat = -30, lon = 135)\n",
    "single_cell.where(single_cell > 310).plot()"
   ]
  },
  {
   "cell_type": "code",
   "execution_count": 83,
   "metadata": {},
   "outputs": [
    {
     "data": {
      "text/plain": [
       "[<matplotlib.lines.Line2D at 0x7f8353cb1b00>]"
      ]
     },
     "execution_count": 83,
     "metadata": {},
     "output_type": "execute_result"
    },
    {
     "data": {
      "image/png": "[encoded data removed]",
      "text/plain": [
       "<Figure size 432x288 with 1 Axes>"
      ]
     },
     "metadata": {
      "needs_background": "light"
     },
     "output_type": "display_data"
    }
   ],
   "source": [
    "# Drop now included.\n",
    "single_cell = d1.tmpsfc.sel(lat = -30, lon = 135)\n",
    "single_cell.where(single_cell > 310, drop = True).plot()"
   ]
  },
  {
   "cell_type": "markdown",
   "metadata": {},
   "source": [
    "<h1> Simple Maths </h1>"
   ]
  },
  {
   "cell_type": "markdown",
   "metadata": {},
   "source": [
    "Xarray has many built in commands that can be used on xarray datasets."
   ]
  },
  {
   "cell_type": "code",
   "execution_count": 84,
   "metadata": {},
   "outputs": [
    {
     "data": {
      "text/plain": [
       "<xarray.Dataset>\n",
       "Dimensions:  (lat: 209, lon: 294, time: 81)\n",
       "Coordinates:\n",
       "  * time     (time) datetime64[ns] 2020-11-25 2020-11-25T03:00:00 ... 2020-12-05\n",
       "  * lat      (lat) float64 -55.75 -55.5 -55.25 -55.0 ... -4.5 -4.25 -4.0 -3.75\n",
       "  * lon      (lon) float64 106.0 106.2 106.5 106.8 ... 178.5 178.8 179.0 179.2\n",
       "Data variables:\n",
       "    tmpsfc   (time, lat, lon) float32 274.43408 274.43408 ... 302.03525"
      ]
     },
     "execution_count": 84,
     "metadata": {},
     "output_type": "execute_result"
    }
   ],
   "source": [
    "d1"
   ]
  },
  {
   "cell_type": "code",
   "execution_count": 85,
   "metadata": {},
   "outputs": [
    {
     "data": {
      "text/plain": [
       "<xarray.Dataset>\n",
       "Dimensions:  ()\n",
       "Data variables:\n",
       "    tmpsfc   float32 1466821600.0"
      ]
     },
     "execution_count": 85,
     "metadata": {},
     "output_type": "execute_result"
    }
   ],
   "source": [
    "# Summing all values across the dataset.\n",
    "d1.sum()"
   ]
  },
  {
   "cell_type": "code",
   "execution_count": 86,
   "metadata": {},
   "outputs": [
    {
     "data": {
      "text/plain": [
       "<xarray.Dataset>\n",
       "Dimensions:  ()\n",
       "Data variables:\n",
       "    tmpsfc   int64 4977126"
      ]
     },
     "execution_count": 86,
     "metadata": {},
     "output_type": "execute_result"
    }
   ],
   "source": [
    "d1.count()"
   ]
  },
  {
   "cell_type": "code",
   "execution_count": 87,
   "metadata": {},
   "outputs": [
    {
     "data": {
      "text/plain": [
       "<xarray.Dataset>\n",
       "Dimensions:  ()\n",
       "Data variables:\n",
       "    tmpsfc   float32 294.7126"
      ]
     },
     "execution_count": 87,
     "metadata": {},
     "output_type": "execute_result"
    }
   ],
   "source": [
    "d1.mean()"
   ]
  },
  {
   "cell_type": "code",
   "execution_count": 88,
   "metadata": {},
   "outputs": [
    {
     "data": {
      "text/plain": [
       "<xarray.Dataset>\n",
       "Dimensions:  ()\n",
       "Data variables:\n",
       "    tmpsfc   float32 11.100646"
      ]
     },
     "execution_count": 88,
     "metadata": {},
     "output_type": "execute_result"
    }
   ],
   "source": [
    "d1.std()"
   ]
  },
  {
   "cell_type": "code",
   "execution_count": 89,
   "metadata": {},
   "outputs": [
    {
     "data": {
      "text/plain": [
       "<xarray.Dataset>\n",
       "Dimensions:  ()\n",
       "Data variables:\n",
       "    tmpsfc   float32 353.40915"
      ]
     },
     "execution_count": 89,
     "metadata": {},
     "output_type": "execute_result"
    }
   ],
   "source": [
    "d1.max()"
   ]
  },
  {
   "cell_type": "code",
   "execution_count": 90,
   "metadata": {},
   "outputs": [
    {
     "data": {
      "text/plain": [
       "<xarray.Dataset>\n",
       "Dimensions:  ()\n",
       "Data variables:\n",
       "    tmpsfc   float32 261.32922"
      ]
     },
     "execution_count": 90,
     "metadata": {},
     "output_type": "execute_result"
    }
   ],
   "source": [
    "d1.min()"
   ]
  },
  {
   "cell_type": "markdown",
   "metadata": {},
   "source": [
    "Percentiles"
   ]
  },
  {
   "cell_type": "code",
   "execution_count": 91,
   "metadata": {},
   "outputs": [
    {
     "data": {
      "text/plain": [
       "<xarray.Dataset>\n",
       "Dimensions:  ()\n",
       "Data variables:\n",
       "    tmpsfc   float64 304.2"
      ]
     },
     "execution_count": 91,
     "metadata": {},
     "output_type": "execute_result"
    }
   ],
   "source": [
    "d1.reduce(np.nanpercentile, q = 90)"
   ]
  },
  {
   "cell_type": "markdown",
   "metadata": {},
   "source": [
    "These can then also be applied across specific dimensions."
   ]
  },
  {
   "cell_type": "code",
   "execution_count": 92,
   "metadata": {},
   "outputs": [
    {
     "data": {
      "text/plain": [
       "<xarray.Dataset>\n",
       "Dimensions:  (lat: 209, lon: 294)\n",
       "Coordinates:\n",
       "  * lat      (lat) float64 -55.75 -55.5 -55.25 -55.0 ... -4.5 -4.25 -4.0 -3.75\n",
       "  * lon      (lon) float64 106.0 106.2 106.5 106.8 ... 178.5 178.8 179.0 179.2\n",
       "Data variables:\n",
       "    tmpsfc   (lat, lon) float32 22252.88 22252.285 ... 24454.893 24452.664"
      ]
     },
     "execution_count": 92,
     "metadata": {},
     "output_type": "execute_result"
    }
   ],
   "source": [
    "d1.sum(dim = 'time')"
   ]
  },
  {
   "cell_type": "code",
   "execution_count": 93,
   "metadata": {},
   "outputs": [
    {
     "data": {
      "text/plain": [
       "<xarray.Dataset>\n",
       "Dimensions:  (lon: 294, time: 81)\n",
       "Coordinates:\n",
       "  * time     (time) datetime64[ns] 2020-11-25 2020-11-25T03:00:00 ... 2020-12-05\n",
       "  * lon      (lon) float64 106.0 106.2 106.5 106.8 ... 178.5 178.8 179.0 179.2\n",
       "Data variables:\n",
       "    tmpsfc   (time, lon) float32 60781.145 60779.145 ... 61459.06 61462.453"
      ]
     },
     "execution_count": 93,
     "metadata": {},
     "output_type": "execute_result"
    }
   ],
   "source": [
    "d1.sum(dim = 'lat')"
   ]
  },
  {
   "cell_type": "code",
   "execution_count": 94,
   "metadata": {},
   "outputs": [
    {
     "data": {
      "text/plain": [
       "<xarray.Dataset>\n",
       "Dimensions:  (lat: 209, lon: 294)\n",
       "Coordinates:\n",
       "  * lat      (lat) float64 -55.75 -55.5 -55.25 -55.0 ... -4.5 -4.25 -4.0 -3.75\n",
       "  * lon      (lon) float64 106.0 106.2 106.5 106.8 ... 178.5 178.8 179.0 179.2\n",
       "Data variables:\n",
       "    tmpsfc   (lat, lon) float32 274.72693 274.71957 ... 301.91226 301.88474"
      ]
     },
     "execution_count": 94,
     "metadata": {},
     "output_type": "execute_result"
    }
   ],
   "source": [
    "d1.mean(dim = 'time')"
   ]
  },
  {
   "cell_type": "code",
   "execution_count": 95,
   "metadata": {},
   "outputs": [
    {
     "data": {
      "text/plain": [
       "<xarray.Dataset>\n",
       "Dimensions:  (lat: 209, lon: 294)\n",
       "Coordinates:\n",
       "  * lat      (lat) float64 -55.75 -55.5 -55.25 -55.0 ... -4.5 -4.25 -4.0 -3.75\n",
       "  * lon      (lon) float64 106.0 106.2 106.5 106.8 ... 178.5 178.8 179.0 179.2\n",
       "Data variables:\n",
       "    tmpsfc   (lat, lon) float64 274.9 274.9 274.9 274.8 ... 302.1 302.0 302.0"
      ]
     },
     "execution_count": 95,
     "metadata": {},
     "output_type": "execute_result"
    }
   ],
   "source": [
    "d1.reduce(np.nanpercentile, q = 90, dim = 'time')"
   ]
  },
  {
   "cell_type": "markdown",
   "metadata": {},
   "source": [
    "# Merging/Combining"
   ]
  },
  {
   "cell_type": "markdown",
   "metadata": {},
   "source": [
    "Merging two data sets that have the same coodinates."
   ]
  },
  {
   "cell_type": "code",
   "execution_count": 96,
   "metadata": {},
   "outputs": [
    {
     "data": {
      "text/plain": [
       "<xarray.Dataset>\n",
       "Dimensions:  (lat: 209, lon: 294, time: 81)\n",
       "Coordinates:\n",
       "  * time     (time) datetime64[ns] 2020-11-25 2020-11-25T03:00:00 ... 2020-12-05\n",
       "  * lat      (lat) float64 -55.75 -55.5 -55.25 -55.0 ... -4.5 -4.25 -4.0 -3.75\n",
       "  * lon      (lon) float64 106.0 106.2 106.5 106.8 ... 178.5 178.8 179.0 179.2\n",
       "Data variables:\n",
       "    tmpsfc   (time, lat, lon) float32 274.43408 274.43408 ... 302.03525\n",
       "    tmin2m   (time, lat, lon) float32 ..."
      ]
     },
     "execution_count": 96,
     "metadata": {},
     "output_type": "execute_result"
    }
   ],
   "source": [
    "xr.merge([d1, d3])"
   ]
  },
  {
   "cell_type": "markdown",
   "metadata": {},
   "source": [
    "Adding a numpy array to an xarray file"
   ]
  },
  {
   "cell_type": "code",
   "execution_count": 103,
   "metadata": {},
   "outputs": [
    {
     "data": {
      "text/plain": [
       "<xarray.Dataset>\n",
       "Dimensions:   (lat: 209, lon: 294, time: 35)\n",
       "Coordinates:\n",
       "  * time      (time) datetime64[ns] 2020-11-25 ... 2020-11-29T06:00:00\n",
       "  * lat       (lat) float64 -55.75 -55.5 -55.25 -55.0 ... -4.5 -4.25 -4.0 -3.75\n",
       "  * lon       (lon) float64 106.0 106.2 106.5 106.8 ... 178.5 178.8 179.0 179.2\n",
       "Data variables:\n",
       "    tmax2m    (time, lat, lon) float32 nan nan nan ... 301.81326 301.82324\n",
       "    new_item  (time, lat, lon) float32 nan nan nan ... 91091.24 91097.266"
      ]
     },
     "execution_count": 103,
     "metadata": {},
     "output_type": "execute_result"
    }
   ],
   "source": [
    "d4['new_item'] = (('time','lat','lon'), d4.tmax2m.values ** 2)\n",
    "d4"
   ]
  },
  {
   "cell_type": "markdown",
   "metadata": {},
   "source": [
    "<b> Combining into the one coordinate (xr.concat) <b/>"
   ]
  },
  {
   "cell_type": "markdown",
   "metadata": {},
   "source": [
    "For example, say I had variables in different xarray files that where all different elevation levels of the same variable. I don't want a coordinate for each level, it would be much better to have the one coordinate called level and then a number (float) for each level. The data I'm using isn't different levels, but for the purpose of this example I will pretened it is."
   ]
  },
  {
   "cell_type": "code",
   "execution_count": 104,
   "metadata": {},
   "outputs": [
    {
     "data": {
      "text/plain": [
       "<xarray.DataArray (height: 3, time: 81, lat: 209, lon: 294)>\n",
       "array([[[[274.43408, ..., 279.83408],\n",
       "         ...,\n",
       "         [302.6341 , ..., 301.93408]],\n",
       "\n",
       "        ...,\n",
       "\n",
       "        [[274.93527, ..., 279.83527],\n",
       "         ...,\n",
       "         [302.33527, ..., 302.03525]]],\n",
       "\n",
       "\n",
       "       ...,\n",
       "\n",
       "\n",
       "       [[[      nan, ...,       nan],\n",
       "         ...,\n",
       "         [      nan, ...,       nan]],\n",
       "\n",
       "        ...,\n",
       "\n",
       "        [[      nan, ...,       nan],\n",
       "         ...,\n",
       "         [      nan, ...,       nan]]]], dtype=float32)\n",
       "Coordinates:\n",
       "  * time     (time) datetime64[ns] 2020-11-25 2020-11-25T03:00:00 ... 2020-12-05\n",
       "  * lat      (lat) float64 -55.75 -55.5 -55.25 -55.0 ... -4.5 -4.25 -4.0 -3.75\n",
       "  * lon      (lon) float64 106.0 106.2 106.5 106.8 ... 178.5 178.8 179.0 179.2\n",
       "  * height   (height) int64 0 10 20"
      ]
     },
     "execution_count": 104,
     "metadata": {},
     "output_type": "execute_result"
    }
   ],
   "source": [
    "xr.concat([d1.tmpsfc, d3.tmin2m, d4.tmax2m], pd.Index([0,10,20], name = 'height'))"
   ]
  },
  {
   "cell_type": "markdown",
   "metadata": {},
   "source": [
    "Note: even though these arrays are off different shape, xarray was still able to concatenate them together."
   ]
  },
  {
   "cell_type": "markdown",
   "metadata": {
    "heading_collapsed": true
   },
   "source": [
    "# Resampling"
   ]
  },
  {
   "cell_type": "markdown",
   "metadata": {
    "hidden": true
   },
   "source": [
    "This is can be done in two ways: <b> groupby() </b> or <b> resample <b>."
   ]
  },
  {
   "cell_type": "code",
   "execution_count": null,
   "metadata": {
    "hidden": true
   },
   "outputs": [],
   "source": [
    "d1"
   ]
  },
  {
   "cell_type": "code",
   "execution_count": null,
   "metadata": {
    "hidden": true
   },
   "outputs": [],
   "source": [
    "# The average temperature each day.\n",
    "d1.groupby('time.day').mean(dim = 'time')"
   ]
  },
  {
   "cell_type": "code",
   "execution_count": null,
   "metadata": {
    "hidden": true
   },
   "outputs": [],
   "source": [
    "# Also the everage temperature each day.\n",
    "d1.resample(time = 'D').mean()"
   ]
  },
  {
   "cell_type": "markdown",
   "metadata": {
    "hidden": true
   },
   "source": [
    "With this data it is hard to show the difference between the two approaches. However, with a longer dataset the differences would become more apparent. \n",
    "<br>\n",
    "* groupby('time.day').mean(dim = 'time') when applied to multiple years would group all the same days together (e.g 01-02-2008, 01-02-2009, 01-02-2020...) and take the mean this way.\n",
    "* resample(time = 'D').mean() finds the mean for each separate day."
   ]
  },
  {
   "cell_type": "markdown",
   "metadata": {
    "heading_collapsed": true
   },
   "source": [
    "# Applying Function to All Cells Individually"
   ]
  },
  {
   "cell_type": "markdown",
   "metadata": {
    "hidden": true
   },
   "source": [
    "This can be done by creating a function then vectorising the function."
   ]
  },
  {
   "cell_type": "code",
   "execution_count": null,
   "metadata": {
    "hidden": true
   },
   "outputs": [],
   "source": [
    "def hot_or_not(temp):\n",
    "    if temp < (25 + 273):\n",
    "        return 'not hot'\n",
    "    if temp < (30 + 273):\n",
    "        return 'a smidgen hot'\n",
    "    return 'hot hot hot hot hot'"
   ]
  },
  {
   "cell_type": "code",
   "execution_count": null,
   "metadata": {
    "hidden": true
   },
   "outputs": [],
   "source": [
    "hot_or_not_vec = np.vectorize(hot_or_not)"
   ]
  },
  {
   "cell_type": "code",
   "execution_count": null,
   "metadata": {
    "hidden": true
   },
   "outputs": [],
   "source": [
    "hot_or_not_vec(d1.tmpsfc)"
   ]
  },
  {
   "cell_type": "markdown",
   "metadata": {},
   "source": [
    "# Applying Function Along Axis (e.g. trends and spearman correlation)"
   ]
  },
  {
   "cell_type": "markdown",
   "metadata": {
    "heading_collapsed": true
   },
   "source": [
    "## Linear Trends"
   ]
  },
  {
   "cell_type": "markdown",
   "metadata": {
    "hidden": true
   },
   "source": [
    "This is done using the np.apply_along axis. This requires a few more steps than the other methods that have been used previously. \n",
    "https://numpy.org/doc/stable/reference/generated/numpy.apply_along_axis.html"
   ]
  },
  {
   "cell_type": "markdown",
   "metadata": {
    "hidden": true
   },
   "source": [
    "np.apply_along_axis takes several arguments. These arguments, in order are:\n",
    "* a function that will be applied along an axis (e.g the linear trends)\n",
    "* the number of the axis that it will be applied along\n",
    "* the data that you will be applying it to\n",
    "* an extra info (e.g. if we are using it for linear trends then this is where the time values might go into the function)"
   ]
  },
  {
   "cell_type": "markdown",
   "metadata": {
    "hidden": true
   },
   "source": [
    "The example below will be for calculating the trend of our data set. As are data set is just random temperature values then we will not be expecting any trend."
   ]
  },
  {
   "cell_type": "code",
   "execution_count": null,
   "metadata": {
    "hidden": true
   },
   "outputs": [],
   "source": [
    "d1"
   ]
  },
  {
   "cell_type": "code",
   "execution_count": null,
   "metadata": {
    "hidden": true
   },
   "outputs": [],
   "source": [
    "# This is the function that will be fed into our np.apply_along_axis. This function has seveal additions that\n",
    "# wil help it run more smoothly. \n",
    "def grid_trend(temp,time):\n",
    "    # The first part is looking at if the whole dimension is nan values. This is useful\n",
    "    # if you have ocean points in your data set which will have nan values for every point.\n",
    "    # If this is not applied it will break.\n",
    "    if np.all(np.isnan(temp)):\n",
    "        return float('nan')\n",
    "    \n",
    "    # There may also be a few nan values here and there. We also want to remove them by \n",
    "    # looking at when both the temp and time points are finite (e.g. not nan).\n",
    "    idx = np.isfinite(temp) & np.isfinite(time)\n",
    "    temp = temp[idx]\n",
    "    time = time[idx]\n",
    "    # Now appplying the polyfit and just returning the gradient of the line using [0]\n",
    "    grad = np.polyfit(time, temp,1)[0] \n",
    "    \n",
    "    return grad"
   ]
  },
  {
   "cell_type": "code",
   "execution_count": null,
   "metadata": {
    "hidden": true
   },
   "outputs": [],
   "source": [
    "d1"
   ]
  },
  {
   "cell_type": "code",
   "execution_count": null,
   "metadata": {
    "hidden": true
   },
   "outputs": [],
   "source": [
    "\n",
    "\n",
    "\n"
   ]
  },
  {
   "cell_type": "code",
   "execution_count": null,
   "metadata": {
    "hidden": true
   },
   "outputs": [],
   "source": [
    "# Getting the axis number. \n",
    "axis_num = d1.tmpsfc.get_axis_num('time')\n",
    "axis_num"
   ]
  },
  {
   "cell_type": "markdown",
   "metadata": {
    "hidden": true
   },
   "source": [
    "As you can see the axis number of time is 0. Looking at the d1 data set in the data variables section we can see than we have tmpsfc (time, lat, lon). time is the 0 axis as it is in the 0 position for this data set. lat will be one and lon will be 2. "
   ]
  },
  {
   "cell_type": "markdown",
   "metadata": {
    "hidden": true
   },
   "source": [
    "* note: in the function below because we have time stamps we can not use this in the linear regression. If we had just a float values we could do this, but we have timestamps. Instead then we will just put some filler x values. All that really matters is that they are spaces 1 unit appart."
   ]
  },
  {
   "cell_type": "code",
   "execution_count": null,
   "metadata": {
    "hidden": true
   },
   "outputs": [],
   "source": [
    "time = np.arange(len(d1.time.values))\n",
    "time"
   ]
  },
  {
   "cell_type": "code",
   "execution_count": null,
   "metadata": {
    "hidden": true
   },
   "outputs": [],
   "source": [
    "'''Applying trends along each grid cell'''\n",
    "trend_meta = np.apply_along_axis(grid_trend, # The function to be applied \n",
    "                                axis_num, # The axis number (could have just put 0 here, but automation)\n",
    "                                arr = d1.tmpsfc.values, # the d1 values\n",
    "                                time = time) # The filler equally space\n",
    "trend_meta"
   ]
  },
  {
   "cell_type": "code",
   "execution_count": null,
   "metadata": {
    "hidden": true
   },
   "outputs": [],
   "source": [
    "trend_meta.shape"
   ]
  },
  {
   "cell_type": "code",
   "execution_count": null,
   "metadata": {
    "hidden": true
   },
   "outputs": [],
   "source": [
    "\n",
    "# np.apply_along_axis is a numpy method and not an xarray method, and thus will return a \n",
    "# numpy array and not an xarray d1 set. Thus we must read back into xarray. \n",
    "'''Turning into an xarray d1set'''\n",
    "trend  = xr.Dataset(\n",
    "    {'trend':(('lat','lon'), trend_meta)},\n",
    "\n",
    "    {\n",
    "     'lat':d1.lat,\n",
    "    'lon':d1.lon}\n",
    ")\n",
    "\n",
    "trend"
   ]
  },
  {
   "cell_type": "markdown",
   "metadata": {
    "hidden": true
   },
   "source": [
    "Thus we not have our trend data set :)"
   ]
  },
  {
   "cell_type": "markdown",
   "metadata": {},
   "source": [
    "## Spearman Correlation."
   ]
  },
  {
   "cell_type": "code",
   "execution_count": null,
   "metadata": {},
   "outputs": [],
   "source": [
    "from scipy.stats import spearmanr"
   ]
  },
  {
   "cell_type": "markdown",
   "metadata": {},
   "source": [
    "This gets a little trickier with the spearman correlation"
   ]
  },
  {
   "cell_type": "code",
   "execution_count": null,
   "metadata": {},
   "outputs": [],
   "source": [
    "d1"
   ]
  },
  {
   "cell_type": "code",
   "execution_count": null,
   "metadata": {},
   "outputs": [],
   "source": [
    "d3"
   ]
  },
  {
   "cell_type": "markdown",
   "metadata": {},
   "source": [
    "Say we wanted to see how the surface temperature (tmpsfc) and the min 2m temperature (tmin2m) correlated but with the non-parametric spearman correlation. This gets a little harder as the np.apply_along_axis can only take one array that we specify the axis number. We could always do this with for loops, but that is not in the true spirit of python (sometime needed though). So what we will instead do is merge the two data sets together and then split down the middle in the function (I know, weird)."
   ]
  },
  {
   "cell_type": "code",
   "execution_count": null,
   "metadata": {},
   "outputs": [],
   "source": [
    "# This is the function we will be using in our np.apply_along_axis function now. \n",
    "\n",
    "def helper(x, len_a):\n",
    "    # split x into 'a' and 'b' parts\n",
    "    \n",
    "    # Splitting into the two parts. This could also just be split in half\n",
    "    # as  for correlation to work you need equal data sets anyway. But hey, show casing some other stuff\n",
    "    # by doing it this way.\n",
    "    xa = x[0:len_a]\n",
    "    xb = x[len_a:]\n",
    "    \n",
    "\n",
    "    corr,sig = spearmanr(xa,xb, nan_policy = 'omit')\n",
    "    \n",
    "    return corr, sig"
   ]
  },
  {
   "cell_type": "code",
   "execution_count": null,
   "metadata": {},
   "outputs": [],
   "source": [
    "# THis is concating the two different datasets into the one xarry file. They will be split down the middle\n",
    "# later on.\n",
    "len_a = len(d1.tmpsfc['time'])\n",
    "len_a"
   ]
  },
  {
   "cell_type": "code",
   "execution_count": null,
   "metadata": {},
   "outputs": [],
   "source": [
    "# Joining the two dataset together. The time will now have twice as many points\n",
    "index_concat = xr.concat([d1.tmpsfc,d3.tmin2m], dim = 'time')\n",
    "index_concat"
   ]
  },
  {
   "cell_type": "code",
   "execution_count": null,
   "metadata": {},
   "outputs": [],
   "source": [
    "# Time now repeats itself as well now.\n",
    "plt.plot(index_concat.time.values)"
   ]
  },
  {
   "cell_type": "code",
   "execution_count": null,
   "metadata": {},
   "outputs": [],
   "source": [
    "# The axis number \n",
    "axis_num =  index_concat.get_axis_num('time')\n",
    "axis_num"
   ]
  },
  {
   "cell_type": "code",
   "execution_count": null,
   "metadata": {},
   "outputs": [],
   "source": [
    "# The data or arguement.\n",
    "arr = index_concat.values"
   ]
  },
  {
   "cell_type": "code",
   "execution_count": null,
   "metadata": {},
   "outputs": [],
   "source": [
    "spearman_index_meta, sig_meta = np.apply_along_axis(helper, arr = arr, \n",
    "                                     axis = axis_num, len_a = len_a)"
   ]
  },
  {
   "cell_type": "code",
   "execution_count": null,
   "metadata": {},
   "outputs": [],
   "source": [
    "# Here we have it, a whole array of the correlation values.\n",
    "spearman_index_meta"
   ]
  },
  {
   "cell_type": "code",
   "execution_count": null,
   "metadata": {},
   "outputs": [],
   "source": [
    "spearman_index = xr.Dataset({'correlation':(('lat','lon'), spearman_index_meta)},{\n",
    "    'lat':d1.tmpsfc.lat.values,\n",
    "    'lon':d1.tmpsfc.lon.values\n",
    "})\n",
    "\n",
    "\n",
    "spearman_sig = xr.Dataset({'p_value':(('lat','lon'), sig_meta)},{\n",
    "    'lat' : d1.tmpsfc.lat.values,\n",
    "    'lon': d1.tmpsfc.lon.values\n",
    "})"
   ]
  },
  {
   "cell_type": "code",
   "execution_count": null,
   "metadata": {},
   "outputs": [],
   "source": [
    "spearman_index"
   ]
  },
  {
   "cell_type": "code",
   "execution_count": null,
   "metadata": {},
   "outputs": [],
   "source": [
    "spearman_sig"
   ]
  },
  {
   "cell_type": "code",
   "execution_count": null,
   "metadata": {},
   "outputs": [],
   "source": [
    "# Getting only the significant points\n",
    "spearman_sig = spearman_sig.where(spearman_sig.p_value < 0.1)\n",
    "spearman_sig"
   ]
  },
  {
   "cell_type": "markdown",
   "metadata": {},
   "source": [
    "<h1> Saving data </h1>"
   ]
  },
  {
   "cell_type": "code",
   "execution_count": null,
   "metadata": {},
   "outputs": [],
   "source": [
    "# d1.to_netcdf('d5.nc')"
   ]
  }
 ],
 "metadata": {
  "kernelspec": {
   "display_name": "Python 3",
   "language": "python",
   "name": "python3"
  },
  "language_info": {
   "codemirror_mode": {
    "name": "ipython",
    "version": 3
   },
   "file_extension": ".py",
   "mimetype": "text/x-python",
   "name": "python",
   "nbconvert_exporter": "python",
   "pygments_lexer": "ipython3",
   "version": "3.6.8"
  },
  "latex_envs": {
   "LaTeX_envs_menu_present": true,
   "autoclose": false,
   "autocomplete": true,
   "bibliofile": "biblio.bib",
   "cite_by": "apalike",
   "current_citInitial": 1,
   "eqLabelWithNumbers": true,
   "eqNumInitial": 1,
   "hotkeys": {
    "equation": "Ctrl-E",
    "itemize": "Ctrl-I"
   },
   "labels_anchors": false,
   "latex_user_defs": false,
   "report_style_numbering": false,
   "user_envs_cfg": false
  },
  "toc": {
   "base_numbering": 1,
   "nav_menu": {},
   "number_sections": true,
   "sideBar": true,
   "skip_h1_title": false,
   "title_cell": "Table of Contents",
   "title_sidebar": "Contents",
   "toc_cell": false,
   "toc_position": {},
   "toc_section_display": true,
   "toc_window_display": false
  }
 },
 "nbformat": 4,
 "nbformat_minor": 2
}
