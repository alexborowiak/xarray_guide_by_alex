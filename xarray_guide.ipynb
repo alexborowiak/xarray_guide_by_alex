{
 "cells": [
  {
   "cell_type": "markdown",
   "metadata": {
    "heading_collapsed": true
   },
   "source": [
    "# Packages"
   ]
  },
  {
   "cell_type": "code",
   "execution_count": 4,
   "metadata": {
    "hidden": true
   },
   "outputs": [],
   "source": [
    "# Base packages needed for python. Most things done here will be using these two packages in the background.\n",
    "import numpy as np\n",
    "import pandas as pd\n",
    "\n",
    "# Needed for plotting\n",
    "import matplotlib.pyplot as plt\n",
    "\n",
    "# This is the main package that is going to be used here.\n",
    "import xarray as xr"
   ]
  },
  {
   "cell_type": "markdown",
   "metadata": {},
   "source": [
    "# Opening Files \n",
    "The files used in this tutorial are all files from the OPeNDAP NOAA site: <br>http://nomads.ncep.noaa.gov:80/dods/gfs_0p25/gfs.\n",
    "<br> <br>\n",
    "There are three seperate netcdf files that will be used in this tutorial."
   ]
  },
  {
   "cell_type": "markdown",
   "metadata": {},
   "source": [
    "Each netcdf file can be open separately using <b> xr.open_dataset </b>"
   ]
  },
  {
   "cell_type": "code",
   "execution_count": 5,
   "metadata": {},
   "outputs": [],
   "source": [
    "d1 = xr.open_dataset('data/d1.nc')"
   ]
  },
  {
   "cell_type": "markdown",
   "metadata": {},
   "source": [
    "Printing this dataset will show that is contain three dimension of time, lat and lon with one variable tmpsfc (surface temperature)."
   ]
  },
  {
   "cell_type": "code",
   "execution_count": 6,
   "metadata": {},
   "outputs": [
    {
     "data": {
      "text/html": [
       "<pre>&lt;xarray.Dataset&gt;\n",
       "Dimensions:  (lat: 209, lon: 294, time: 81)\n",
       "Coordinates:\n",
       "  * time     (time) datetime64[ns] 2020-11-25 2020-11-25T03:00:00 ... 2020-12-05\n",
       "  * lat      (lat) float64 -55.75 -55.5 -55.25 -55.0 ... -4.5 -4.25 -4.0 -3.75\n",
       "  * lon      (lon) float64 106.0 106.2 106.5 106.8 ... 178.5 178.8 179.0 179.2\n",
       "Data variables:\n",
       "    tmpsfc   (time, lat, lon) float32 ...</pre>"
      ],
      "text/plain": [
       "<xarray.Dataset>\n",
       "Dimensions:  (lat: 209, lon: 294, time: 81)\n",
       "Coordinates:\n",
       "  * time     (time) datetime64[ns] 2020-11-25 2020-11-25T03:00:00 ... 2020-12-05\n",
       "  * lat      (lat) float64 -55.75 -55.5 -55.25 -55.0 ... -4.5 -4.25 -4.0 -3.75\n",
       "  * lon      (lon) float64 106.0 106.2 106.5 106.8 ... 178.5 178.8 179.0 179.2\n",
       "Data variables:\n",
       "    tmpsfc   (time, lat, lon) float32 ..."
      ]
     },
     "execution_count": 6,
     "metadata": {},
     "output_type": "execute_result"
    }
   ],
   "source": [
    "d1"
   ]
  },
  {
   "cell_type": "markdown",
   "metadata": {},
   "source": [
    "To access the values of any coordinate or variable:"
   ]
  },
  {
   "cell_type": "code",
   "execution_count": 7,
   "metadata": {},
   "outputs": [
    {
     "data": {
      "text/plain": [
       "array([[[274.43408, 274.43408, 274.43408, ..., 279.7341 , 279.83408,\n",
       "         279.83408],\n",
       "        [274.5341 , 274.5341 , 274.5341 , ..., 279.93408, 279.93408,\n",
       "         279.93408],\n",
       "        [274.6341 , 274.6341 , 274.7341 , ..., 279.93408, 280.0341 ,\n",
       "         280.1341 ],\n",
       "        ...,\n",
       "        [302.43408, 302.43408, 302.43408, ..., 302.1341 , 302.0341 ,\n",
       "         302.0341 ],\n",
       "        [301.7341 , 302.43408, 302.43408, ..., 302.1341 , 302.0341 ,\n",
       "         302.0341 ],\n",
       "        [302.6341 , 302.5341 , 302.43408, ..., 302.0341 , 301.93408,\n",
       "         301.93408]],\n",
       "\n",
       "       [[274.49997, 274.49997, 274.49997, ..., 279.9    , 279.99997,\n",
       "         279.99997],\n",
       "        [274.59998, 274.49997, 274.59998, ..., 279.99997, 280.09998,\n",
       "         280.09998],\n",
       "        [274.59998, 274.59998, 274.69998, ..., 279.8    , 279.9    ,\n",
       "         279.99997],\n",
       "        ...,\n",
       "        [302.49997, 302.4    , 302.4    , ..., 302.19998, 302.19998,\n",
       "         302.09998],\n",
       "        [302.19998, 302.4    , 302.4    , ..., 302.19998, 302.09998,\n",
       "         302.09998],\n",
       "        [302.59998, 302.4    , 302.4    , ..., 302.09998, 301.99997,\n",
       "         301.99997]],\n",
       "\n",
       "       [[274.5102 , 274.5102 , 274.5102 , ..., 279.6102 , 279.71017,\n",
       "         279.71017],\n",
       "        [274.6102 , 274.5102 , 274.6102 , ..., 279.71017, 279.9102 ,\n",
       "         279.9102 ],\n",
       "        [274.6102 , 274.6102 , 274.71017, ..., 279.81018, 279.9102 ,\n",
       "         280.0102 ],\n",
       "        ...,\n",
       "        [302.9102 , 302.5102 , 302.5102 , ..., 302.0102 , 301.9102 ,\n",
       "         301.9102 ],\n",
       "        [303.0102 , 302.71017, 302.6102 , ..., 302.0102 , 301.9102 ,\n",
       "         301.9102 ],\n",
       "        [303.1102 , 302.9102 , 302.5102 , ..., 301.9102 , 301.9102 ,\n",
       "         301.81018]],\n",
       "\n",
       "       ...,\n",
       "\n",
       "       [[274.79947, 274.79947, 274.79947, ..., 279.69946, 279.79947,\n",
       "         279.79947],\n",
       "        [274.79947, 274.79947, 274.89948, ..., 279.79947, 279.99948,\n",
       "         279.99948],\n",
       "        [274.89948, 274.89948, 274.89948, ..., 279.89948, 279.99948,\n",
       "         280.09946],\n",
       "        ...,\n",
       "        [302.19946, 302.19946, 302.19946, ..., 301.99948, 301.99948,\n",
       "         301.99948],\n",
       "        [301.49948, 302.19946, 302.19946, ..., 301.99948, 301.89948,\n",
       "         301.89948],\n",
       "        [302.39948, 302.29947, 302.19946, ..., 301.99948, 301.89948,\n",
       "         301.89948]],\n",
       "\n",
       "       [[274.7242 , 274.7242 , 274.7242 , ..., 279.7242 , 279.7242 ,\n",
       "         279.8242 ],\n",
       "        [274.9242 , 274.8242 , 274.9242 , ..., 279.8242 , 279.9242 ,\n",
       "         279.9242 ],\n",
       "        [275.0242 , 274.9242 , 274.9242 , ..., 279.9242 , 280.0242 ,\n",
       "         280.0242 ],\n",
       "        ...,\n",
       "        [302.2242 , 302.2242 , 302.2242 , ..., 302.1242 , 302.0242 ,\n",
       "         302.0242 ],\n",
       "        [301.3242 , 302.2242 , 302.2242 , ..., 302.0242 , 302.0242 ,\n",
       "         301.9242 ],\n",
       "        [302.3242 , 302.2242 , 302.2242 , ..., 302.0242 , 301.9242 ,\n",
       "         301.9242 ]],\n",
       "\n",
       "       [[274.93527, 274.93527, 274.83527, ..., 279.73526, 279.83527,\n",
       "         279.83527],\n",
       "        [274.93527, 274.93527, 274.93527, ..., 279.93527, 280.03525,\n",
       "         280.03525],\n",
       "        [275.03525, 275.03525, 275.13525, ..., 280.13525, 280.13525,\n",
       "         280.13525],\n",
       "        ...,\n",
       "        [302.23526, 302.23526, 302.23526, ..., 302.23526, 302.23526,\n",
       "         302.13525],\n",
       "        [301.53525, 302.23526, 302.23526, ..., 302.23526, 302.13525,\n",
       "         302.13525],\n",
       "        [302.33527, 302.23526, 302.23526, ..., 302.13525, 302.03525,\n",
       "         302.03525]]], dtype=float32)"
      ]
     },
     "execution_count": 7,
     "metadata": {},
     "output_type": "execute_result"
    }
   ],
   "source": [
    "d1.tmpsfc.values"
   ]
  },
  {
   "cell_type": "markdown",
   "metadata": {},
   "source": [
    "or"
   ]
  },
  {
   "cell_type": "code",
   "execution_count": 8,
   "metadata": {},
   "outputs": [
    {
     "data": {
      "text/plain": [
       "array(['2020-11-25T00:00:00.000000000', '2020-11-25T03:00:00.000000000',\n",
       "       '2020-11-25T06:00:00.000000000', '2020-11-25T09:00:00.000000000',\n",
       "       '2020-11-25T12:00:00.000000000', '2020-11-25T15:00:00.000000000',\n",
       "       '2020-11-25T18:00:00.000000000', '2020-11-25T21:00:00.000000000',\n",
       "       '2020-11-26T00:00:00.000000000', '2020-11-26T03:00:00.000000000',\n",
       "       '2020-11-26T06:00:00.000000000', '2020-11-26T09:00:00.000000000',\n",
       "       '2020-11-26T12:00:00.000000000', '2020-11-26T15:00:00.000000000',\n",
       "       '2020-11-26T18:00:00.000000000', '2020-11-26T21:00:00.000000000',\n",
       "       '2020-11-27T00:00:00.000000000', '2020-11-27T03:00:00.000000000',\n",
       "       '2020-11-27T06:00:00.000000000', '2020-11-27T09:00:00.000000000',\n",
       "       '2020-11-27T12:00:00.000000000', '2020-11-27T15:00:00.000000000',\n",
       "       '2020-11-27T18:00:00.000000000', '2020-11-27T21:00:00.000000000',\n",
       "       '2020-11-28T00:00:00.000000000', '2020-11-28T03:00:00.000000000',\n",
       "       '2020-11-28T06:00:00.000000000', '2020-11-28T09:00:00.000000000',\n",
       "       '2020-11-28T12:00:00.000000000', '2020-11-28T15:00:00.000000000',\n",
       "       '2020-11-28T18:00:00.000000000', '2020-11-28T21:00:00.000000000',\n",
       "       '2020-11-29T00:00:00.000000000', '2020-11-29T03:00:00.000000000',\n",
       "       '2020-11-29T06:00:00.000000000', '2020-11-29T09:00:00.000000000',\n",
       "       '2020-11-29T12:00:00.000000000', '2020-11-29T15:00:00.000000000',\n",
       "       '2020-11-29T18:00:00.000000000', '2020-11-29T21:00:00.000000000',\n",
       "       '2020-11-30T00:00:00.000000000', '2020-11-30T03:00:00.000000000',\n",
       "       '2020-11-30T06:00:00.000000000', '2020-11-30T09:00:00.000000000',\n",
       "       '2020-11-30T12:00:00.000000000', '2020-11-30T15:00:00.000000000',\n",
       "       '2020-11-30T18:00:00.000000000', '2020-11-30T21:00:00.000000000',\n",
       "       '2020-12-01T00:00:00.000000000', '2020-12-01T03:00:00.000000000',\n",
       "       '2020-12-01T06:00:00.000000000', '2020-12-01T09:00:00.000000000',\n",
       "       '2020-12-01T12:00:00.000000000', '2020-12-01T15:00:00.000000000',\n",
       "       '2020-12-01T18:00:00.000000000', '2020-12-01T21:00:00.000000000',\n",
       "       '2020-12-02T00:00:00.000000000', '2020-12-02T03:00:00.000000000',\n",
       "       '2020-12-02T06:00:00.000000000', '2020-12-02T09:00:00.000000000',\n",
       "       '2020-12-02T12:00:00.000000000', '2020-12-02T15:00:00.000000000',\n",
       "       '2020-12-02T18:00:00.000000000', '2020-12-02T21:00:00.000000000',\n",
       "       '2020-12-03T00:00:00.000000000', '2020-12-03T03:00:00.000000000',\n",
       "       '2020-12-03T06:00:00.000000000', '2020-12-03T09:00:00.000000000',\n",
       "       '2020-12-03T12:00:00.000000000', '2020-12-03T15:00:00.000000000',\n",
       "       '2020-12-03T18:00:00.000000000', '2020-12-03T21:00:00.000000000',\n",
       "       '2020-12-04T00:00:00.000000000', '2020-12-04T03:00:00.000000000',\n",
       "       '2020-12-04T06:00:00.000000000', '2020-12-04T09:00:00.000000000',\n",
       "       '2020-12-04T12:00:00.000000000', '2020-12-04T15:00:00.000000000',\n",
       "       '2020-12-04T18:00:00.000000000', '2020-12-04T21:00:00.000000000',\n",
       "       '2020-12-05T00:00:00.000000000'], dtype='datetime64[ns]')"
      ]
     },
     "execution_count": 8,
     "metadata": {},
     "output_type": "execute_result"
    }
   ],
   "source": [
    "d1['time'].values"
   ]
  },
  {
   "cell_type": "markdown",
   "metadata": {},
   "source": [
    "The type of both of these objects is a numpy array"
   ]
  },
  {
   "cell_type": "code",
   "execution_count": 9,
   "metadata": {},
   "outputs": [
    {
     "data": {
      "text/plain": [
       "(numpy.ndarray, numpy.ndarray)"
      ]
     },
     "execution_count": 9,
     "metadata": {},
     "output_type": "execute_result"
    }
   ],
   "source": [
    "type(d1.time.values), type(d1['tmpsfc'].values)"
   ]
  },
  {
   "cell_type": "markdown",
   "metadata": {},
   "source": [
    "For the remaining files they can all be opened in the same way or they can all be opened together as long as they are in the same directory using the wild card symbol * and <b> xr.open_mfdataset </b> (mf standing for multi-file)."
   ]
  },
  {
   "cell_type": "code",
   "execution_count": 10,
   "metadata": {},
   "outputs": [],
   "source": [
    "d3 = xr.open_dataset('data/d3.nc')\n",
    "d4 = xr.open_dataset('data/d4.nc')"
   ]
  },
  {
   "cell_type": "code",
   "execution_count": 11,
   "metadata": {},
   "outputs": [
    {
     "data": {
      "text/html": [
       "<pre>&lt;xarray.Dataset&gt;\n",
       "Dimensions:  (lat: 209, lon: 294, time: 35)\n",
       "Coordinates:\n",
       "  * time     (time) datetime64[ns] 2020-11-25 ... 2020-11-29T06:00:00\n",
       "  * lat      (lat) float64 -55.75 -55.5 -55.25 -55.0 ... -4.5 -4.25 -4.0 -3.75\n",
       "  * lon      (lon) float64 106.0 106.2 106.5 106.8 ... 178.5 178.8 179.0 179.2\n",
       "Data variables:\n",
       "    tmax2m   (time, lat, lon) float32 ...</pre>"
      ],
      "text/plain": [
       "<xarray.Dataset>\n",
       "Dimensions:  (lat: 209, lon: 294, time: 35)\n",
       "Coordinates:\n",
       "  * time     (time) datetime64[ns] 2020-11-25 ... 2020-11-29T06:00:00\n",
       "  * lat      (lat) float64 -55.75 -55.5 -55.25 -55.0 ... -4.5 -4.25 -4.0 -3.75\n",
       "  * lon      (lon) float64 106.0 106.2 106.5 106.8 ... 178.5 178.8 179.0 179.2\n",
       "Data variables:\n",
       "    tmax2m   (time, lat, lon) float32 ..."
      ]
     },
     "execution_count": 11,
     "metadata": {},
     "output_type": "execute_result"
    }
   ],
   "source": [
    "d4"
   ]
  },
  {
   "cell_type": "code",
   "execution_count": 12,
   "metadata": {},
   "outputs": [],
   "source": [
    "data = xr.open_mfdataset('data/*.nc', combine='by_coords')"
   ]
  },
  {
   "cell_type": "code",
   "execution_count": 13,
   "metadata": {},
   "outputs": [
    {
     "data": {
      "text/html": [
       "<pre>&lt;xarray.Dataset&gt;\n",
       "Dimensions:  (lat: 209, lon: 294, time: 81)\n",
       "Coordinates:\n",
       "  * time     (time) datetime64[ns] 2020-11-25 2020-11-25T03:00:00 ... 2020-12-05\n",
       "  * lat      (lat) float64 -55.75 -55.5 -55.25 -55.0 ... -4.5 -4.25 -4.0 -3.75\n",
       "  * lon      (lon) float64 106.0 106.2 106.5 106.8 ... 178.5 178.8 179.0 179.2\n",
       "Data variables:\n",
       "    tmax2m   (time, lat, lon) float32 dask.array&lt;chunksize=(81, 209, 294), meta=np.ndarray&gt;\n",
       "    tmin2m   (time, lat, lon) float32 dask.array&lt;chunksize=(81, 209, 294), meta=np.ndarray&gt;\n",
       "    tmpsfc   (time, lat, lon) float32 dask.array&lt;chunksize=(81, 209, 294), meta=np.ndarray&gt;</pre>"
      ],
      "text/plain": [
       "<xarray.Dataset>\n",
       "Dimensions:  (lat: 209, lon: 294, time: 81)\n",
       "Coordinates:\n",
       "  * time     (time) datetime64[ns] 2020-11-25 2020-11-25T03:00:00 ... 2020-12-05\n",
       "  * lat      (lat) float64 -55.75 -55.5 -55.25 -55.0 ... -4.5 -4.25 -4.0 -3.75\n",
       "  * lon      (lon) float64 106.0 106.2 106.5 106.8 ... 178.5 178.8 179.0 179.2\n",
       "Data variables:\n",
       "    tmax2m   (time, lat, lon) float32 dask.array<chunksize=(81, 209, 294), meta=np.ndarray>\n",
       "    tmin2m   (time, lat, lon) float32 dask.array<chunksize=(81, 209, 294), meta=np.ndarray>\n",
       "    tmpsfc   (time, lat, lon) float32 dask.array<chunksize=(81, 209, 294), meta=np.ndarray>"
      ]
     },
     "execution_count": 13,
     "metadata": {},
     "output_type": "execute_result"
    }
   ],
   "source": [
    "data"
   ]
  },
  {
   "cell_type": "markdown",
   "metadata": {},
   "source": [
    "You can now see in this file that they the variables from all three dataset are now listed under data variables. There are many different ways of combing the datasets together. Maybe they are all different time steps, or different levels of a data set. This can all be found in the documentation."
   ]
  },
  {
   "cell_type": "markdown",
   "metadata": {},
   "source": [
    "!!! Notice that even though d4 contained fewer time steps that the other two datasets, using the open_mfdataset there where will 81 time steps listed. Xarray matched all the time steps together, and then filled in the missing steps with np.nan (not a number) values automatically."
   ]
  },
  {
   "cell_type": "markdown",
   "metadata": {},
   "source": [
    "If the files are already read in and you need to combine, this can be done with <b> xr.merge </b>"
   ]
  },
  {
   "cell_type": "code",
   "execution_count": 14,
   "metadata": {},
   "outputs": [
    {
     "data": {
      "text/html": [
       "<pre>&lt;xarray.Dataset&gt;\n",
       "Dimensions:  (lat: 209, lon: 294, time: 81)\n",
       "Coordinates:\n",
       "  * time     (time) datetime64[ns] 2020-11-25 2020-11-25T03:00:00 ... 2020-12-05\n",
       "  * lat      (lat) float64 -55.75 -55.5 -55.25 -55.0 ... -4.5 -4.25 -4.0 -3.75\n",
       "  * lon      (lon) float64 106.0 106.2 106.5 106.8 ... 178.5 178.8 179.0 179.2\n",
       "Data variables:\n",
       "    tmpsfc   (time, lat, lon) float32 274.43408 274.43408 ... 302.03525\n",
       "    tmin2m   (time, lat, lon) float32 ...\n",
       "    tmax2m   (time, lat, lon) float32 nan nan nan nan nan ... nan nan nan nan</pre>"
      ],
      "text/plain": [
       "<xarray.Dataset>\n",
       "Dimensions:  (lat: 209, lon: 294, time: 81)\n",
       "Coordinates:\n",
       "  * time     (time) datetime64[ns] 2020-11-25 2020-11-25T03:00:00 ... 2020-12-05\n",
       "  * lat      (lat) float64 -55.75 -55.5 -55.25 -55.0 ... -4.5 -4.25 -4.0 -3.75\n",
       "  * lon      (lon) float64 106.0 106.2 106.5 106.8 ... 178.5 178.8 179.0 179.2\n",
       "Data variables:\n",
       "    tmpsfc   (time, lat, lon) float32 274.43408 274.43408 ... 302.03525\n",
       "    tmin2m   (time, lat, lon) float32 ...\n",
       "    tmax2m   (time, lat, lon) float32 nan nan nan nan nan ... nan nan nan nan"
      ]
     },
     "execution_count": 14,
     "metadata": {},
     "output_type": "execute_result"
    }
   ],
   "source": [
    "xr.merge([d1,d3,d4])"
   ]
  },
  {
   "cell_type": "markdown",
   "metadata": {},
   "source": [
    "# Indexing"
   ]
  },
  {
   "cell_type": "markdown",
   "metadata": {},
   "source": [
    "Indexing by integer using <b> .isel() </b>"
   ]
  },
  {
   "cell_type": "code",
   "execution_count": 15,
   "metadata": {},
   "outputs": [
    {
     "data": {
      "text/html": [
       "<pre>&lt;xarray.Dataset&gt;\n",
       "Dimensions:  (lat: 209, lon: 294)\n",
       "Coordinates:\n",
       "    time     datetime64[ns] 2020-11-26T06:00:00\n",
       "  * lat      (lat) float64 -55.75 -55.5 -55.25 -55.0 ... -4.5 -4.25 -4.0 -3.75\n",
       "  * lon      (lon) float64 106.0 106.2 106.5 106.8 ... 178.5 178.8 179.0 179.2\n",
       "Data variables:\n",
       "    tmpsfc   (lat, lon) float32 274.7 274.6 274.7 274.6 ... 302.0 301.9 301.9</pre>"
      ],
      "text/plain": [
       "<xarray.Dataset>\n",
       "Dimensions:  (lat: 209, lon: 294)\n",
       "Coordinates:\n",
       "    time     datetime64[ns] 2020-11-26T06:00:00\n",
       "  * lat      (lat) float64 -55.75 -55.5 -55.25 -55.0 ... -4.5 -4.25 -4.0 -3.75\n",
       "  * lon      (lon) float64 106.0 106.2 106.5 106.8 ... 178.5 178.8 179.0 179.2\n",
       "Data variables:\n",
       "    tmpsfc   (lat, lon) float32 274.7 274.6 274.7 274.6 ... 302.0 301.9 301.9"
      ]
     },
     "execution_count": 15,
     "metadata": {},
     "output_type": "execute_result"
    }
   ],
   "source": [
    "# This gets the 10th time entry\n",
    "d1.isel(time = 10)"
   ]
  },
  {
   "cell_type": "code",
   "execution_count": 16,
   "metadata": {},
   "outputs": [
    {
     "data": {
      "text/html": [
       "<pre>&lt;xarray.Dataset&gt;\n",
       "Dimensions:  (lat: 209, lon: 294, time: 10)\n",
       "Coordinates:\n",
       "  * time     (time) datetime64[ns] 2020-11-25 ... 2020-11-26T03:00:00\n",
       "  * lat      (lat) float64 -55.75 -55.5 -55.25 -55.0 ... -4.5 -4.25 -4.0 -3.75\n",
       "  * lon      (lon) float64 106.0 106.2 106.5 106.8 ... 178.5 178.8 179.0 179.2\n",
       "Data variables:\n",
       "    tmpsfc   (time, lat, lon) float32 274.43408 274.43408 ... 301.84805</pre>"
      ],
      "text/plain": [
       "<xarray.Dataset>\n",
       "Dimensions:  (lat: 209, lon: 294, time: 10)\n",
       "Coordinates:\n",
       "  * time     (time) datetime64[ns] 2020-11-25 ... 2020-11-26T03:00:00\n",
       "  * lat      (lat) float64 -55.75 -55.5 -55.25 -55.0 ... -4.5 -4.25 -4.0 -3.75\n",
       "  * lon      (lon) float64 106.0 106.2 106.5 106.8 ... 178.5 178.8 179.0 179.2\n",
       "Data variables:\n",
       "    tmpsfc   (time, lat, lon) float32 274.43408 274.43408 ... 301.84805"
      ]
     },
     "execution_count": 16,
     "metadata": {},
     "output_type": "execute_result"
    }
   ],
   "source": [
    "# Getting a multiple time values (first 10)\n",
    "d1.isel(time = slice(0,10))"
   ]
  },
  {
   "cell_type": "markdown",
   "metadata": {},
   "source": [
    "Indexing by values using <b> .sel() </b>"
   ]
  },
  {
   "cell_type": "code",
   "execution_count": 17,
   "metadata": {},
   "outputs": [
    {
     "data": {
      "text/html": [
       "<pre>&lt;xarray.Dataset&gt;\n",
       "Dimensions:  (lon: 294, time: 81)\n",
       "Coordinates:\n",
       "  * time     (time) datetime64[ns] 2020-11-25 2020-11-25T03:00:00 ... 2020-12-05\n",
       "    lat      float64 -55.75\n",
       "  * lon      (lon) float64 106.0 106.2 106.5 106.8 ... 178.5 178.8 179.0 179.2\n",
       "Data variables:\n",
       "    tmpsfc   (time, lon) float32 274.43408 274.43408 ... 279.83527 279.83527</pre>"
      ],
      "text/plain": [
       "<xarray.Dataset>\n",
       "Dimensions:  (lon: 294, time: 81)\n",
       "Coordinates:\n",
       "  * time     (time) datetime64[ns] 2020-11-25 2020-11-25T03:00:00 ... 2020-12-05\n",
       "    lat      float64 -55.75\n",
       "  * lon      (lon) float64 106.0 106.2 106.5 106.8 ... 178.5 178.8 179.0 179.2\n",
       "Data variables:\n",
       "    tmpsfc   (time, lon) float32 274.43408 274.43408 ... 279.83527 279.83527"
      ]
     },
     "execution_count": 17,
     "metadata": {},
     "output_type": "execute_result"
    }
   ],
   "source": [
    "d1.sel(lat = -55.75)"
   ]
  },
  {
   "cell_type": "code",
   "execution_count": 18,
   "metadata": {},
   "outputs": [
    {
     "data": {
      "text/html": [
       "<pre>&lt;xarray.Dataset&gt;\n",
       "Dimensions:  (lat: 204, lon: 4, time: 81)\n",
       "Coordinates:\n",
       "  * time     (time) datetime64[ns] 2020-11-25 2020-11-25T03:00:00 ... 2020-12-05\n",
       "  * lat      (lat) float64 -55.75 -55.5 -55.25 -55.0 ... -5.75 -5.5 -5.25 -5.0\n",
       "  * lon      (lon) float64 106.0 106.2 106.5 106.8\n",
       "Data variables:\n",
       "    tmpsfc   (time, lat, lon) float32 274.43408 274.43408 ... 302.13525</pre>"
      ],
      "text/plain": [
       "<xarray.Dataset>\n",
       "Dimensions:  (lat: 204, lon: 4, time: 81)\n",
       "Coordinates:\n",
       "  * time     (time) datetime64[ns] 2020-11-25 2020-11-25T03:00:00 ... 2020-12-05\n",
       "  * lat      (lat) float64 -55.75 -55.5 -55.25 -55.0 ... -5.75 -5.5 -5.25 -5.0\n",
       "  * lon      (lon) float64 106.0 106.2 106.5 106.8\n",
       "Data variables:\n",
       "    tmpsfc   (time, lat, lon) float32 274.43408 274.43408 ... 302.13525"
      ]
     },
     "execution_count": 18,
     "metadata": {},
     "output_type": "execute_result"
    }
   ],
   "source": [
    "d1.sel(lat = slice(-55.75,-5), lon = slice(106,106.8))"
   ]
  },
  {
   "cell_type": "markdown",
   "metadata": {},
   "source": [
    "Chaining together multiple selections"
   ]
  },
  {
   "cell_type": "code",
   "execution_count": 19,
   "metadata": {},
   "outputs": [
    {
     "data": {
      "text/html": [
       "<pre>&lt;xarray.Dataset&gt;\n",
       "Dimensions:  (lon: 4)\n",
       "Coordinates:\n",
       "    time     datetime64[ns] 2020-11-26T06:00:00\n",
       "    lat      float64 -55.75\n",
       "  * lon      (lon) float64 106.0 106.2 106.5 106.8\n",
       "Data variables:\n",
       "    tmpsfc   (lon) float32 274.7 274.6 274.7 274.6</pre>"
      ],
      "text/plain": [
       "<xarray.Dataset>\n",
       "Dimensions:  (lon: 4)\n",
       "Coordinates:\n",
       "    time     datetime64[ns] 2020-11-26T06:00:00\n",
       "    lat      float64 -55.75\n",
       "  * lon      (lon) float64 106.0 106.2 106.5 106.8\n",
       "Data variables:\n",
       "    tmpsfc   (lon) float32 274.7 274.6 274.7 274.6"
      ]
     },
     "execution_count": 19,
     "metadata": {},
     "output_type": "execute_result"
    }
   ],
   "source": [
    "d1.isel(time = 10).sel(lat = -55.75, lon = slice(106,106.8))"
   ]
  },
  {
   "cell_type": "markdown",
   "metadata": {},
   "source": [
    "Indexing specific unrelated values using <b> .isin </b>. \n",
    "What this is going to do is get just the values that are equal to the values in the array. In the first example below it is just getting integers between 300 and 309. This is not the most useful example..."
   ]
  },
  {
   "cell_type": "code",
   "execution_count": 20,
   "metadata": {},
   "outputs": [
    {
     "data": {
      "text/html": [
       "<pre>&lt;xarray.Dataset&gt;\n",
       "Dimensions:  (lat: 144, lon: 294, time: 17)\n",
       "Coordinates:\n",
       "  * time     (time) datetime64[ns] 2020-11-25T18:00:00 ... 2020-12-04T09:00:00\n",
       "  * lat      (lat) float64 -44.25 -42.75 -42.0 -40.0 ... -4.5 -4.25 -4.0 -3.75\n",
       "  * lon      (lon) float64 106.0 106.2 106.5 106.8 ... 178.5 178.8 179.0 179.2\n",
       "Data variables:\n",
       "    tmpsfc   (time, lat, lon) float32 nan nan nan nan nan ... 302.0 nan nan nan</pre>"
      ],
      "text/plain": [
       "<xarray.Dataset>\n",
       "Dimensions:  (lat: 144, lon: 294, time: 17)\n",
       "Coordinates:\n",
       "  * time     (time) datetime64[ns] 2020-11-25T18:00:00 ... 2020-12-04T09:00:00\n",
       "  * lat      (lat) float64 -44.25 -42.75 -42.0 -40.0 ... -4.5 -4.25 -4.0 -3.75\n",
       "  * lon      (lon) float64 106.0 106.2 106.5 106.8 ... 178.5 178.8 179.0 179.2\n",
       "Data variables:\n",
       "    tmpsfc   (time, lat, lon) float32 nan nan nan nan nan ... 302.0 nan nan nan"
      ]
     },
     "execution_count": 20,
     "metadata": {},
     "output_type": "execute_result"
    }
   ],
   "source": [
    "d1.where(d1.tmpsfc.isin([300,301,302,303,304,305,306,307,308,309]), drop = True)"
   ]
  },
  {
   "cell_type": "markdown",
   "metadata": {},
   "source": [
    "# Plotting"
   ]
  },
  {
   "cell_type": "markdown",
   "metadata": {},
   "source": [
    "Plotting in xarray is quite easy. Xarray is combined with matplotlib, and can be plotted using <b> .plot() </b>\n",
    "<br>\n",
    "Note: the name of the variable must be called in order to plot"
   ]
  },
  {
   "cell_type": "code",
   "execution_count": 21,
   "metadata": {},
   "outputs": [
    {
     "name": "stderr",
     "output_type": "stream",
     "text": [
      "C:\\Users\\albor\\Anaconda3\\lib\\site-packages\\pandas\\plotting\\_matplotlib\\converter.py:103: FutureWarning: Using an implicitly registered datetime converter for a matplotlib plotting method. The converter was registered by pandas on import. Future versions of pandas will require you to explicitly register matplotlib converters.\n",
      "\n",
      "To register the converters:\n",
      "\t>>> from pandas.plotting import register_matplotlib_converters\n",
      "\t>>> register_matplotlib_converters()\n",
      "  warnings.warn(msg, FutureWarning)\n"
     ]
    },
    {
     "data": {
      "text/plain": [
       "[<matplotlib.lines.Line2D at 0x21a6bd30288>]"
      ]
     },
     "execution_count": 21,
     "metadata": {},
     "output_type": "execute_result"
    },
    {
     "data": {
      "image/png": "[encoded data removed]",
      "text/plain": [
       "<Figure size 432x288 with 1 Axes>"
      ]
     },
     "metadata": {
      "needs_background": "light"
     },
     "output_type": "display_data"
    }
   ],
   "source": [
    "# A single grid-cell for all time steps/\\.\n",
    "d1.tmpsfc.sel(lat = -30, lon = 135).plot()"
   ]
  },
  {
   "cell_type": "code",
   "execution_count": 22,
   "metadata": {},
   "outputs": [
    {
     "data": {
      "text/plain": [
       "<matplotlib.collections.QuadMesh at 0x21a6c0a3d08>"
      ]
     },
     "execution_count": 22,
     "metadata": {},
     "output_type": "execute_result"
    },
    {
     "data": {
      "image/png": "[encoded data removed]",
      "text/plain": [
       "<Figure size 432x288 with 2 Axes>"
      ]
     },
     "metadata": {
      "needs_background": "light"
     },
     "output_type": "display_data"
    }
   ],
   "source": [
    "# Specifying only timestep.\n",
    "d1.tmpsfc.isel(time = 10).plot()"
   ]
  },
  {
   "cell_type": "code",
   "execution_count": 23,
   "metadata": {},
   "outputs": [
    {
     "data": {
      "text/plain": [
       "(array([1.260000e+02, 3.696370e+05, 1.344402e+06, 1.140501e+06,\n",
       "        1.773674e+06, 1.534330e+05, 1.078560e+05, 7.125300e+04,\n",
       "        1.589800e+04, 3.460000e+02]),\n",
       " array([261.32922, 270.53723, 279.7452 , 288.9532 , 298.1612 , 307.3692 ,\n",
       "        316.57718, 325.78516, 334.99316, 344.20117, 353.40915],\n",
       "       dtype=float32),\n",
       " <a list of 10 Patch objects>)"
      ]
     },
     "execution_count": 23,
     "metadata": {},
     "output_type": "execute_result"
    },
    {
     "data": {
      "image/png": "[encoded data removed]",
      "text/plain": [
       "<Figure size 432x288 with 1 Axes>"
      ]
     },
     "metadata": {
      "needs_background": "light"
     },
     "output_type": "display_data"
    }
   ],
   "source": [
    "# Specifying all value will create a pdf of data.\n",
    "d1.tmpsfc.plot()"
   ]
  },
  {
   "cell_type": "markdown",
   "metadata": {},
   "source": [
    "<h1> Where Statement <h1>"
   ]
  },
  {
   "cell_type": "markdown",
   "metadata": {},
   "source": [
    "<b> Where </b> is used to find the locations of conditions"
   ]
  },
  {
   "cell_type": "code",
   "execution_count": 24,
   "metadata": {},
   "outputs": [
    {
     "data": {
      "text/html": [
       "<pre>&lt;xarray.DataArray &#x27;tmpsfc&#x27; (time: 81, lat: 209, lon: 294)&gt;\n",
       "array([[[ True,  True,  True, ...,  True,  True,  True],\n",
       "        [ True,  True,  True, ...,  True,  True,  True],\n",
       "        [ True,  True,  True, ...,  True,  True,  True],\n",
       "        ...,\n",
       "        [ True,  True,  True, ...,  True,  True,  True],\n",
       "        [ True,  True,  True, ...,  True,  True,  True],\n",
       "        [ True,  True,  True, ...,  True,  True,  True]],\n",
       "\n",
       "       [[ True,  True,  True, ...,  True,  True,  True],\n",
       "        [ True,  True,  True, ...,  True,  True,  True],\n",
       "        [ True,  True,  True, ...,  True,  True,  True],\n",
       "        ...,\n",
       "        [ True,  True,  True, ...,  True,  True,  True],\n",
       "        [ True,  True,  True, ...,  True,  True,  True],\n",
       "        [ True,  True,  True, ...,  True,  True,  True]],\n",
       "\n",
       "       [[ True,  True,  True, ...,  True,  True,  True],\n",
       "        [ True,  True,  True, ...,  True,  True,  True],\n",
       "        [ True,  True,  True, ...,  True,  True,  True],\n",
       "        ...,\n",
       "        [ True,  True,  True, ...,  True,  True,  True],\n",
       "        [ True,  True,  True, ...,  True,  True,  True],\n",
       "        [ True,  True,  True, ...,  True,  True,  True]],\n",
       "\n",
       "       ...,\n",
       "\n",
       "       [[ True,  True,  True, ...,  True,  True,  True],\n",
       "        [ True,  True,  True, ...,  True,  True,  True],\n",
       "        [ True,  True,  True, ...,  True,  True,  True],\n",
       "        ...,\n",
       "        [ True,  True,  True, ...,  True,  True,  True],\n",
       "        [ True,  True,  True, ...,  True,  True,  True],\n",
       "        [ True,  True,  True, ...,  True,  True,  True]],\n",
       "\n",
       "       [[ True,  True,  True, ...,  True,  True,  True],\n",
       "        [ True,  True,  True, ...,  True,  True,  True],\n",
       "        [ True,  True,  True, ...,  True,  True,  True],\n",
       "        ...,\n",
       "        [ True,  True,  True, ...,  True,  True,  True],\n",
       "        [ True,  True,  True, ...,  True,  True,  True],\n",
       "        [ True,  True,  True, ...,  True,  True,  True]],\n",
       "\n",
       "       [[ True,  True,  True, ...,  True,  True,  True],\n",
       "        [ True,  True,  True, ...,  True,  True,  True],\n",
       "        [ True,  True,  True, ...,  True,  True,  True],\n",
       "        ...,\n",
       "        [ True,  True,  True, ...,  True,  True,  True],\n",
       "        [ True,  True,  True, ...,  True,  True,  True],\n",
       "        [ True,  True,  True, ...,  True,  True,  True]]])\n",
       "Coordinates:\n",
       "  * time     (time) datetime64[ns] 2020-11-25 2020-11-25T03:00:00 ... 2020-12-05\n",
       "  * lat      (lat) float64 -55.75 -55.5 -55.25 -55.0 ... -4.5 -4.25 -4.0 -3.75\n",
       "  * lon      (lon) float64 106.0 106.2 106.5 106.8 ... 178.5 178.8 179.0 179.2</pre>"
      ],
      "text/plain": [
       "<xarray.DataArray 'tmpsfc' (time: 81, lat: 209, lon: 294)>\n",
       "array([[[ True,  True,  True, ...,  True,  True,  True],\n",
       "        [ True,  True,  True, ...,  True,  True,  True],\n",
       "        [ True,  True,  True, ...,  True,  True,  True],\n",
       "        ...,\n",
       "        [ True,  True,  True, ...,  True,  True,  True],\n",
       "        [ True,  True,  True, ...,  True,  True,  True],\n",
       "        [ True,  True,  True, ...,  True,  True,  True]],\n",
       "\n",
       "       [[ True,  True,  True, ...,  True,  True,  True],\n",
       "        [ True,  True,  True, ...,  True,  True,  True],\n",
       "        [ True,  True,  True, ...,  True,  True,  True],\n",
       "        ...,\n",
       "        [ True,  True,  True, ...,  True,  True,  True],\n",
       "        [ True,  True,  True, ...,  True,  True,  True],\n",
       "        [ True,  True,  True, ...,  True,  True,  True]],\n",
       "\n",
       "       [[ True,  True,  True, ...,  True,  True,  True],\n",
       "        [ True,  True,  True, ...,  True,  True,  True],\n",
       "        [ True,  True,  True, ...,  True,  True,  True],\n",
       "        ...,\n",
       "        [ True,  True,  True, ...,  True,  True,  True],\n",
       "        [ True,  True,  True, ...,  True,  True,  True],\n",
       "        [ True,  True,  True, ...,  True,  True,  True]],\n",
       "\n",
       "       ...,\n",
       "\n",
       "       [[ True,  True,  True, ...,  True,  True,  True],\n",
       "        [ True,  True,  True, ...,  True,  True,  True],\n",
       "        [ True,  True,  True, ...,  True,  True,  True],\n",
       "        ...,\n",
       "        [ True,  True,  True, ...,  True,  True,  True],\n",
       "        [ True,  True,  True, ...,  True,  True,  True],\n",
       "        [ True,  True,  True, ...,  True,  True,  True]],\n",
       "\n",
       "       [[ True,  True,  True, ...,  True,  True,  True],\n",
       "        [ True,  True,  True, ...,  True,  True,  True],\n",
       "        [ True,  True,  True, ...,  True,  True,  True],\n",
       "        ...,\n",
       "        [ True,  True,  True, ...,  True,  True,  True],\n",
       "        [ True,  True,  True, ...,  True,  True,  True],\n",
       "        [ True,  True,  True, ...,  True,  True,  True]],\n",
       "\n",
       "       [[ True,  True,  True, ...,  True,  True,  True],\n",
       "        [ True,  True,  True, ...,  True,  True,  True],\n",
       "        [ True,  True,  True, ...,  True,  True,  True],\n",
       "        ...,\n",
       "        [ True,  True,  True, ...,  True,  True,  True],\n",
       "        [ True,  True,  True, ...,  True,  True,  True],\n",
       "        [ True,  True,  True, ...,  True,  True,  True]]])\n",
       "Coordinates:\n",
       "  * time     (time) datetime64[ns] 2020-11-25 2020-11-25T03:00:00 ... 2020-12-05\n",
       "  * lat      (lat) float64 -55.75 -55.5 -55.25 -55.0 ... -4.5 -4.25 -4.0 -3.75\n",
       "  * lon      (lon) float64 106.0 106.2 106.5 106.8 ... 178.5 178.8 179.0 179.2"
      ]
     },
     "execution_count": 24,
     "metadata": {},
     "output_type": "execute_result"
    }
   ],
   "source": [
    "d1.tmpsfc > 20"
   ]
  },
  {
   "cell_type": "code",
   "execution_count": 25,
   "metadata": {},
   "outputs": [
    {
     "data": {
      "text/html": [
       "<pre>&lt;xarray.DataArray &#x27;tmpsfc&#x27; (time: 81, lat: 209, lon: 294)&gt;\n",
       "array([[[False, False, False, ..., False, False, False],\n",
       "        [False, False, False, ..., False, False, False],\n",
       "        [False, False, False, ..., False, False, False],\n",
       "        ...,\n",
       "        [ True,  True,  True, ...,  True,  True,  True],\n",
       "        [ True,  True,  True, ...,  True,  True,  True],\n",
       "        [ True,  True,  True, ...,  True,  True,  True]],\n",
       "\n",
       "       [[False, False, False, ..., False, False, False],\n",
       "        [False, False, False, ..., False, False, False],\n",
       "        [False, False, False, ..., False, False, False],\n",
       "        ...,\n",
       "        [ True,  True,  True, ...,  True,  True,  True],\n",
       "        [ True,  True,  True, ...,  True,  True,  True],\n",
       "        [ True,  True,  True, ...,  True,  True,  True]],\n",
       "\n",
       "       [[False, False, False, ..., False, False, False],\n",
       "        [False, False, False, ..., False, False, False],\n",
       "        [False, False, False, ..., False, False, False],\n",
       "        ...,\n",
       "        [ True,  True,  True, ...,  True,  True,  True],\n",
       "        [ True,  True,  True, ...,  True,  True,  True],\n",
       "        [ True,  True,  True, ...,  True,  True,  True]],\n",
       "\n",
       "       ...,\n",
       "\n",
       "       [[False, False, False, ..., False, False, False],\n",
       "        [False, False, False, ..., False, False, False],\n",
       "        [False, False, False, ..., False, False, False],\n",
       "        ...,\n",
       "        [ True,  True,  True, ...,  True,  True,  True],\n",
       "        [ True,  True,  True, ...,  True,  True,  True],\n",
       "        [ True,  True,  True, ...,  True,  True,  True]],\n",
       "\n",
       "       [[False, False, False, ..., False, False, False],\n",
       "        [False, False, False, ..., False, False, False],\n",
       "        [False, False, False, ..., False, False, False],\n",
       "        ...,\n",
       "        [ True,  True,  True, ...,  True,  True,  True],\n",
       "        [ True,  True,  True, ...,  True,  True,  True],\n",
       "        [ True,  True,  True, ...,  True,  True,  True]],\n",
       "\n",
       "       [[False, False, False, ..., False, False, False],\n",
       "        [False, False, False, ..., False, False, False],\n",
       "        [False, False, False, ..., False, False, False],\n",
       "        ...,\n",
       "        [ True,  True,  True, ...,  True,  True,  True],\n",
       "        [ True,  True,  True, ...,  True,  True,  True],\n",
       "        [ True,  True,  True, ...,  True,  True,  True]]])\n",
       "Coordinates:\n",
       "  * time     (time) datetime64[ns] 2020-11-25 2020-11-25T03:00:00 ... 2020-12-05\n",
       "  * lat      (lat) float64 -55.75 -55.5 -55.25 -55.0 ... -4.5 -4.25 -4.0 -3.75\n",
       "  * lon      (lon) float64 106.0 106.2 106.5 106.8 ... 178.5 178.8 179.0 179.2</pre>"
      ],
      "text/plain": [
       "<xarray.DataArray 'tmpsfc' (time: 81, lat: 209, lon: 294)>\n",
       "array([[[False, False, False, ..., False, False, False],\n",
       "        [False, False, False, ..., False, False, False],\n",
       "        [False, False, False, ..., False, False, False],\n",
       "        ...,\n",
       "        [ True,  True,  True, ...,  True,  True,  True],\n",
       "        [ True,  True,  True, ...,  True,  True,  True],\n",
       "        [ True,  True,  True, ...,  True,  True,  True]],\n",
       "\n",
       "       [[False, False, False, ..., False, False, False],\n",
       "        [False, False, False, ..., False, False, False],\n",
       "        [False, False, False, ..., False, False, False],\n",
       "        ...,\n",
       "        [ True,  True,  True, ...,  True,  True,  True],\n",
       "        [ True,  True,  True, ...,  True,  True,  True],\n",
       "        [ True,  True,  True, ...,  True,  True,  True]],\n",
       "\n",
       "       [[False, False, False, ..., False, False, False],\n",
       "        [False, False, False, ..., False, False, False],\n",
       "        [False, False, False, ..., False, False, False],\n",
       "        ...,\n",
       "        [ True,  True,  True, ...,  True,  True,  True],\n",
       "        [ True,  True,  True, ...,  True,  True,  True],\n",
       "        [ True,  True,  True, ...,  True,  True,  True]],\n",
       "\n",
       "       ...,\n",
       "\n",
       "       [[False, False, False, ..., False, False, False],\n",
       "        [False, False, False, ..., False, False, False],\n",
       "        [False, False, False, ..., False, False, False],\n",
       "        ...,\n",
       "        [ True,  True,  True, ...,  True,  True,  True],\n",
       "        [ True,  True,  True, ...,  True,  True,  True],\n",
       "        [ True,  True,  True, ...,  True,  True,  True]],\n",
       "\n",
       "       [[False, False, False, ..., False, False, False],\n",
       "        [False, False, False, ..., False, False, False],\n",
       "        [False, False, False, ..., False, False, False],\n",
       "        ...,\n",
       "        [ True,  True,  True, ...,  True,  True,  True],\n",
       "        [ True,  True,  True, ...,  True,  True,  True],\n",
       "        [ True,  True,  True, ...,  True,  True,  True]],\n",
       "\n",
       "       [[False, False, False, ..., False, False, False],\n",
       "        [False, False, False, ..., False, False, False],\n",
       "        [False, False, False, ..., False, False, False],\n",
       "        ...,\n",
       "        [ True,  True,  True, ...,  True,  True,  True],\n",
       "        [ True,  True,  True, ...,  True,  True,  True],\n",
       "        [ True,  True,  True, ...,  True,  True,  True]]])\n",
       "Coordinates:\n",
       "  * time     (time) datetime64[ns] 2020-11-25 2020-11-25T03:00:00 ... 2020-12-05\n",
       "  * lat      (lat) float64 -55.75 -55.5 -55.25 -55.0 ... -4.5 -4.25 -4.0 -3.75\n",
       "  * lon      (lon) float64 106.0 106.2 106.5 106.8 ... 178.5 178.8 179.0 179.2"
      ]
     },
     "execution_count": 25,
     "metadata": {},
     "output_type": "execute_result"
    }
   ],
   "source": [
    "# e.g finding all the locations where temperature is greater than 20 degrees (293 K).\n",
    "d1.tmpsfc > (20 + 273) # + 273 as tmperature units are in kelvin"
   ]
  },
  {
   "cell_type": "code",
   "execution_count": 26,
   "metadata": {},
   "outputs": [
    {
     "data": {
      "text/html": [
       "<pre>&lt;xarray.DataArray &#x27;tmpsfc&#x27; (time: 81, lat: 209, lon: 294)&gt;\n",
       "array([[[      nan,       nan,       nan, ...,       nan,       nan,\n",
       "               nan],\n",
       "        [      nan,       nan,       nan, ...,       nan,       nan,\n",
       "               nan],\n",
       "        [      nan,       nan,       nan, ...,       nan,       nan,\n",
       "               nan],\n",
       "        ...,\n",
       "        [302.43408, 302.43408, 302.43408, ..., 302.1341 , 302.0341 ,\n",
       "         302.0341 ],\n",
       "        [301.7341 , 302.43408, 302.43408, ..., 302.1341 , 302.0341 ,\n",
       "         302.0341 ],\n",
       "        [302.6341 , 302.5341 , 302.43408, ..., 302.0341 , 301.93408,\n",
       "         301.93408]],\n",
       "\n",
       "       [[      nan,       nan,       nan, ...,       nan,       nan,\n",
       "               nan],\n",
       "        [      nan,       nan,       nan, ...,       nan,       nan,\n",
       "               nan],\n",
       "        [      nan,       nan,       nan, ...,       nan,       nan,\n",
       "               nan],\n",
       "        ...,\n",
       "        [302.49997, 302.4    , 302.4    , ..., 302.19998, 302.19998,\n",
       "         302.09998],\n",
       "        [302.19998, 302.4    , 302.4    , ..., 302.19998, 302.09998,\n",
       "         302.09998],\n",
       "        [302.59998, 302.4    , 302.4    , ..., 302.09998, 301.99997,\n",
       "         301.99997]],\n",
       "\n",
       "       [[      nan,       nan,       nan, ...,       nan,       nan,\n",
       "               nan],\n",
       "        [      nan,       nan,       nan, ...,       nan,       nan,\n",
       "               nan],\n",
       "        [      nan,       nan,       nan, ...,       nan,       nan,\n",
       "               nan],\n",
       "        ...,\n",
       "        [302.9102 , 302.5102 , 302.5102 , ..., 302.0102 , 301.9102 ,\n",
       "         301.9102 ],\n",
       "        [303.0102 , 302.71017, 302.6102 , ..., 302.0102 , 301.9102 ,\n",
       "         301.9102 ],\n",
       "        [303.1102 , 302.9102 , 302.5102 , ..., 301.9102 , 301.9102 ,\n",
       "         301.81018]],\n",
       "\n",
       "       ...,\n",
       "\n",
       "       [[      nan,       nan,       nan, ...,       nan,       nan,\n",
       "               nan],\n",
       "        [      nan,       nan,       nan, ...,       nan,       nan,\n",
       "               nan],\n",
       "        [      nan,       nan,       nan, ...,       nan,       nan,\n",
       "               nan],\n",
       "        ...,\n",
       "        [302.19946, 302.19946, 302.19946, ..., 301.99948, 301.99948,\n",
       "         301.99948],\n",
       "        [301.49948, 302.19946, 302.19946, ..., 301.99948, 301.89948,\n",
       "         301.89948],\n",
       "        [302.39948, 302.29947, 302.19946, ..., 301.99948, 301.89948,\n",
       "         301.89948]],\n",
       "\n",
       "       [[      nan,       nan,       nan, ...,       nan,       nan,\n",
       "               nan],\n",
       "        [      nan,       nan,       nan, ...,       nan,       nan,\n",
       "               nan],\n",
       "        [      nan,       nan,       nan, ...,       nan,       nan,\n",
       "               nan],\n",
       "        ...,\n",
       "        [302.2242 , 302.2242 , 302.2242 , ..., 302.1242 , 302.0242 ,\n",
       "         302.0242 ],\n",
       "        [301.3242 , 302.2242 , 302.2242 , ..., 302.0242 , 302.0242 ,\n",
       "         301.9242 ],\n",
       "        [302.3242 , 302.2242 , 302.2242 , ..., 302.0242 , 301.9242 ,\n",
       "         301.9242 ]],\n",
       "\n",
       "       [[      nan,       nan,       nan, ...,       nan,       nan,\n",
       "               nan],\n",
       "        [      nan,       nan,       nan, ...,       nan,       nan,\n",
       "               nan],\n",
       "        [      nan,       nan,       nan, ...,       nan,       nan,\n",
       "               nan],\n",
       "        ...,\n",
       "        [302.23526, 302.23526, 302.23526, ..., 302.23526, 302.23526,\n",
       "         302.13525],\n",
       "        [301.53525, 302.23526, 302.23526, ..., 302.23526, 302.13525,\n",
       "         302.13525],\n",
       "        [302.33527, 302.23526, 302.23526, ..., 302.13525, 302.03525,\n",
       "         302.03525]]], dtype=float32)\n",
       "Coordinates:\n",
       "  * time     (time) datetime64[ns] 2020-11-25 2020-11-25T03:00:00 ... 2020-12-05\n",
       "  * lat      (lat) float64 -55.75 -55.5 -55.25 -55.0 ... -4.5 -4.25 -4.0 -3.75\n",
       "  * lon      (lon) float64 106.0 106.2 106.5 106.8 ... 178.5 178.8 179.0 179.2\n",
       "Attributes:\n",
       "    long_name:  ** surface temperature [k] </pre>"
      ],
      "text/plain": [
       "<xarray.DataArray 'tmpsfc' (time: 81, lat: 209, lon: 294)>\n",
       "array([[[      nan,       nan,       nan, ...,       nan,       nan,\n",
       "               nan],\n",
       "        [      nan,       nan,       nan, ...,       nan,       nan,\n",
       "               nan],\n",
       "        [      nan,       nan,       nan, ...,       nan,       nan,\n",
       "               nan],\n",
       "        ...,\n",
       "        [302.43408, 302.43408, 302.43408, ..., 302.1341 , 302.0341 ,\n",
       "         302.0341 ],\n",
       "        [301.7341 , 302.43408, 302.43408, ..., 302.1341 , 302.0341 ,\n",
       "         302.0341 ],\n",
       "        [302.6341 , 302.5341 , 302.43408, ..., 302.0341 , 301.93408,\n",
       "         301.93408]],\n",
       "\n",
       "       [[      nan,       nan,       nan, ...,       nan,       nan,\n",
       "               nan],\n",
       "        [      nan,       nan,       nan, ...,       nan,       nan,\n",
       "               nan],\n",
       "        [      nan,       nan,       nan, ...,       nan,       nan,\n",
       "               nan],\n",
       "        ...,\n",
       "        [302.49997, 302.4    , 302.4    , ..., 302.19998, 302.19998,\n",
       "         302.09998],\n",
       "        [302.19998, 302.4    , 302.4    , ..., 302.19998, 302.09998,\n",
       "         302.09998],\n",
       "        [302.59998, 302.4    , 302.4    , ..., 302.09998, 301.99997,\n",
       "         301.99997]],\n",
       "\n",
       "       [[      nan,       nan,       nan, ...,       nan,       nan,\n",
       "               nan],\n",
       "        [      nan,       nan,       nan, ...,       nan,       nan,\n",
       "               nan],\n",
       "        [      nan,       nan,       nan, ...,       nan,       nan,\n",
       "               nan],\n",
       "        ...,\n",
       "        [302.9102 , 302.5102 , 302.5102 , ..., 302.0102 , 301.9102 ,\n",
       "         301.9102 ],\n",
       "        [303.0102 , 302.71017, 302.6102 , ..., 302.0102 , 301.9102 ,\n",
       "         301.9102 ],\n",
       "        [303.1102 , 302.9102 , 302.5102 , ..., 301.9102 , 301.9102 ,\n",
       "         301.81018]],\n",
       "\n",
       "       ...,\n",
       "\n",
       "       [[      nan,       nan,       nan, ...,       nan,       nan,\n",
       "               nan],\n",
       "        [      nan,       nan,       nan, ...,       nan,       nan,\n",
       "               nan],\n",
       "        [      nan,       nan,       nan, ...,       nan,       nan,\n",
       "               nan],\n",
       "        ...,\n",
       "        [302.19946, 302.19946, 302.19946, ..., 301.99948, 301.99948,\n",
       "         301.99948],\n",
       "        [301.49948, 302.19946, 302.19946, ..., 301.99948, 301.89948,\n",
       "         301.89948],\n",
       "        [302.39948, 302.29947, 302.19946, ..., 301.99948, 301.89948,\n",
       "         301.89948]],\n",
       "\n",
       "       [[      nan,       nan,       nan, ...,       nan,       nan,\n",
       "               nan],\n",
       "        [      nan,       nan,       nan, ...,       nan,       nan,\n",
       "               nan],\n",
       "        [      nan,       nan,       nan, ...,       nan,       nan,\n",
       "               nan],\n",
       "        ...,\n",
       "        [302.2242 , 302.2242 , 302.2242 , ..., 302.1242 , 302.0242 ,\n",
       "         302.0242 ],\n",
       "        [301.3242 , 302.2242 , 302.2242 , ..., 302.0242 , 302.0242 ,\n",
       "         301.9242 ],\n",
       "        [302.3242 , 302.2242 , 302.2242 , ..., 302.0242 , 301.9242 ,\n",
       "         301.9242 ]],\n",
       "\n",
       "       [[      nan,       nan,       nan, ...,       nan,       nan,\n",
       "               nan],\n",
       "        [      nan,       nan,       nan, ...,       nan,       nan,\n",
       "               nan],\n",
       "        [      nan,       nan,       nan, ...,       nan,       nan,\n",
       "               nan],\n",
       "        ...,\n",
       "        [302.23526, 302.23526, 302.23526, ..., 302.23526, 302.23526,\n",
       "         302.13525],\n",
       "        [301.53525, 302.23526, 302.23526, ..., 302.23526, 302.13525,\n",
       "         302.13525],\n",
       "        [302.33527, 302.23526, 302.23526, ..., 302.13525, 302.03525,\n",
       "         302.03525]]], dtype=float32)\n",
       "Coordinates:\n",
       "  * time     (time) datetime64[ns] 2020-11-25 2020-11-25T03:00:00 ... 2020-12-05\n",
       "  * lat      (lat) float64 -55.75 -55.5 -55.25 -55.0 ... -4.5 -4.25 -4.0 -3.75\n",
       "  * lon      (lon) float64 106.0 106.2 106.5 106.8 ... 178.5 178.8 179.0 179.2\n",
       "Attributes:\n",
       "    long_name:  ** surface temperature [k] "
      ]
     },
     "execution_count": 26,
     "metadata": {},
     "output_type": "execute_result"
    }
   ],
   "source": [
    "# Applyting the conditional statements will now replace all the values below 20 with nan values.\n",
    "d1.tmpsfc.where(d1.tmpsfc > 293)"
   ]
  },
  {
   "cell_type": "code",
   "execution_count": 27,
   "metadata": {},
   "outputs": [
    {
     "data": {
      "text/html": [
       "<pre>&lt;xarray.DataArray &#x27;tmpsfc&#x27; (time: 81, lat: 209, lon: 294)&gt;\n",
       "array([[[99999.        , 99999.        , 99999.        , ...,\n",
       "         99999.        , 99999.        , 99999.        ],\n",
       "        [99999.        , 99999.        , 99999.        , ...,\n",
       "         99999.        , 99999.        , 99999.        ],\n",
       "        [99999.        , 99999.        , 99999.        , ...,\n",
       "         99999.        , 99999.        , 99999.        ],\n",
       "        ...,\n",
       "        [  302.43408203,   302.43408203,   302.43408203, ...,\n",
       "           302.13409424,   302.03408813,   302.03408813],\n",
       "        [  301.73410034,   302.43408203,   302.43408203, ...,\n",
       "           302.13409424,   302.03408813,   302.03408813],\n",
       "        [  302.63409424,   302.53408813,   302.43408203, ...,\n",
       "           302.03408813,   301.93408203,   301.93408203]],\n",
       "\n",
       "       [[99999.        , 99999.        , 99999.        , ...,\n",
       "         99999.        , 99999.        , 99999.        ],\n",
       "        [99999.        , 99999.        , 99999.        , ...,\n",
       "         99999.        , 99999.        , 99999.        ],\n",
       "        [99999.        , 99999.        , 99999.        , ...,\n",
       "         99999.        , 99999.        , 99999.        ],\n",
       "        ...,\n",
       "        [  302.49996948,   302.3999939 ,   302.3999939 , ...,\n",
       "           302.19998169,   302.19998169,   302.09997559],\n",
       "        [  302.19998169,   302.3999939 ,   302.3999939 , ...,\n",
       "           302.19998169,   302.09997559,   302.09997559],\n",
       "        [  302.59997559,   302.3999939 ,   302.3999939 , ...,\n",
       "           302.09997559,   301.99996948,   301.99996948]],\n",
       "\n",
       "       [[99999.        , 99999.        , 99999.        , ...,\n",
       "         99999.        , 99999.        , 99999.        ],\n",
       "        [99999.        , 99999.        , 99999.        , ...,\n",
       "         99999.        , 99999.        , 99999.        ],\n",
       "        [99999.        , 99999.        , 99999.        , ...,\n",
       "         99999.        , 99999.        , 99999.        ],\n",
       "        ...,\n",
       "        [  302.91018677,   302.51019287,   302.51019287, ...,\n",
       "           302.01019287,   301.91018677,   301.91018677],\n",
       "        [  303.01019287,   302.71017456,   302.61019897, ...,\n",
       "           302.01019287,   301.91018677,   301.91018677],\n",
       "        [  303.11019897,   302.91018677,   302.51019287, ...,\n",
       "           301.91018677,   301.91018677,   301.81018066]],\n",
       "\n",
       "       ...,\n",
       "\n",
       "       [[99999.        , 99999.        , 99999.        , ...,\n",
       "         99999.        , 99999.        , 99999.        ],\n",
       "        [99999.        , 99999.        , 99999.        , ...,\n",
       "         99999.        , 99999.        , 99999.        ],\n",
       "        [99999.        , 99999.        , 99999.        , ...,\n",
       "         99999.        , 99999.        , 99999.        ],\n",
       "        ...,\n",
       "        [  302.19946289,   302.19946289,   302.19946289, ...,\n",
       "           301.9994812 ,   301.9994812 ,   301.9994812 ],\n",
       "        [  301.4994812 ,   302.19946289,   302.19946289, ...,\n",
       "           301.9994812 ,   301.8994751 ,   301.8994751 ],\n",
       "        [  302.3994751 ,   302.29946899,   302.19946289, ...,\n",
       "           301.9994812 ,   301.8994751 ,   301.8994751 ]],\n",
       "\n",
       "       [[99999.        , 99999.        , 99999.        , ...,\n",
       "         99999.        , 99999.        , 99999.        ],\n",
       "        [99999.        , 99999.        , 99999.        , ...,\n",
       "         99999.        , 99999.        , 99999.        ],\n",
       "        [99999.        , 99999.        , 99999.        , ...,\n",
       "         99999.        , 99999.        , 99999.        ],\n",
       "        ...,\n",
       "        [  302.22421265,   302.22421265,   302.22421265, ...,\n",
       "           302.12420654,   302.02420044,   302.02420044],\n",
       "        [  301.32418823,   302.22421265,   302.22421265, ...,\n",
       "           302.02420044,   302.02420044,   301.92419434],\n",
       "        [  302.32418823,   302.22421265,   302.22421265, ...,\n",
       "           302.02420044,   301.92419434,   301.92419434]],\n",
       "\n",
       "       [[99999.        , 99999.        , 99999.        , ...,\n",
       "         99999.        , 99999.        , 99999.        ],\n",
       "        [99999.        , 99999.        , 99999.        , ...,\n",
       "         99999.        , 99999.        , 99999.        ],\n",
       "        [99999.        , 99999.        , 99999.        , ...,\n",
       "         99999.        , 99999.        , 99999.        ],\n",
       "        ...,\n",
       "        [  302.23526001,   302.23526001,   302.23526001, ...,\n",
       "           302.23526001,   302.23526001,   302.13525391],\n",
       "        [  301.5352478 ,   302.23526001,   302.23526001, ...,\n",
       "           302.23526001,   302.13525391,   302.13525391],\n",
       "        [  302.33526611,   302.23526001,   302.23526001, ...,\n",
       "           302.13525391,   302.0352478 ,   302.0352478 ]]])\n",
       "Coordinates:\n",
       "  * time     (time) datetime64[ns] 2020-11-25 2020-11-25T03:00:00 ... 2020-12-05\n",
       "  * lat      (lat) float64 -55.75 -55.5 -55.25 -55.0 ... -4.5 -4.25 -4.0 -3.75\n",
       "  * lon      (lon) float64 106.0 106.2 106.5 106.8 ... 178.5 178.8 179.0 179.2\n",
       "Attributes:\n",
       "    long_name:  ** surface temperature [k] </pre>"
      ],
      "text/plain": [
       "<xarray.DataArray 'tmpsfc' (time: 81, lat: 209, lon: 294)>\n",
       "array([[[99999.        , 99999.        , 99999.        , ...,\n",
       "         99999.        , 99999.        , 99999.        ],\n",
       "        [99999.        , 99999.        , 99999.        , ...,\n",
       "         99999.        , 99999.        , 99999.        ],\n",
       "        [99999.        , 99999.        , 99999.        , ...,\n",
       "         99999.        , 99999.        , 99999.        ],\n",
       "        ...,\n",
       "        [  302.43408203,   302.43408203,   302.43408203, ...,\n",
       "           302.13409424,   302.03408813,   302.03408813],\n",
       "        [  301.73410034,   302.43408203,   302.43408203, ...,\n",
       "           302.13409424,   302.03408813,   302.03408813],\n",
       "        [  302.63409424,   302.53408813,   302.43408203, ...,\n",
       "           302.03408813,   301.93408203,   301.93408203]],\n",
       "\n",
       "       [[99999.        , 99999.        , 99999.        , ...,\n",
       "         99999.        , 99999.        , 99999.        ],\n",
       "        [99999.        , 99999.        , 99999.        , ...,\n",
       "         99999.        , 99999.        , 99999.        ],\n",
       "        [99999.        , 99999.        , 99999.        , ...,\n",
       "         99999.        , 99999.        , 99999.        ],\n",
       "        ...,\n",
       "        [  302.49996948,   302.3999939 ,   302.3999939 , ...,\n",
       "           302.19998169,   302.19998169,   302.09997559],\n",
       "        [  302.19998169,   302.3999939 ,   302.3999939 , ...,\n",
       "           302.19998169,   302.09997559,   302.09997559],\n",
       "        [  302.59997559,   302.3999939 ,   302.3999939 , ...,\n",
       "           302.09997559,   301.99996948,   301.99996948]],\n",
       "\n",
       "       [[99999.        , 99999.        , 99999.        , ...,\n",
       "         99999.        , 99999.        , 99999.        ],\n",
       "        [99999.        , 99999.        , 99999.        , ...,\n",
       "         99999.        , 99999.        , 99999.        ],\n",
       "        [99999.        , 99999.        , 99999.        , ...,\n",
       "         99999.        , 99999.        , 99999.        ],\n",
       "        ...,\n",
       "        [  302.91018677,   302.51019287,   302.51019287, ...,\n",
       "           302.01019287,   301.91018677,   301.91018677],\n",
       "        [  303.01019287,   302.71017456,   302.61019897, ...,\n",
       "           302.01019287,   301.91018677,   301.91018677],\n",
       "        [  303.11019897,   302.91018677,   302.51019287, ...,\n",
       "           301.91018677,   301.91018677,   301.81018066]],\n",
       "\n",
       "       ...,\n",
       "\n",
       "       [[99999.        , 99999.        , 99999.        , ...,\n",
       "         99999.        , 99999.        , 99999.        ],\n",
       "        [99999.        , 99999.        , 99999.        , ...,\n",
       "         99999.        , 99999.        , 99999.        ],\n",
       "        [99999.        , 99999.        , 99999.        , ...,\n",
       "         99999.        , 99999.        , 99999.        ],\n",
       "        ...,\n",
       "        [  302.19946289,   302.19946289,   302.19946289, ...,\n",
       "           301.9994812 ,   301.9994812 ,   301.9994812 ],\n",
       "        [  301.4994812 ,   302.19946289,   302.19946289, ...,\n",
       "           301.9994812 ,   301.8994751 ,   301.8994751 ],\n",
       "        [  302.3994751 ,   302.29946899,   302.19946289, ...,\n",
       "           301.9994812 ,   301.8994751 ,   301.8994751 ]],\n",
       "\n",
       "       [[99999.        , 99999.        , 99999.        , ...,\n",
       "         99999.        , 99999.        , 99999.        ],\n",
       "        [99999.        , 99999.        , 99999.        , ...,\n",
       "         99999.        , 99999.        , 99999.        ],\n",
       "        [99999.        , 99999.        , 99999.        , ...,\n",
       "         99999.        , 99999.        , 99999.        ],\n",
       "        ...,\n",
       "        [  302.22421265,   302.22421265,   302.22421265, ...,\n",
       "           302.12420654,   302.02420044,   302.02420044],\n",
       "        [  301.32418823,   302.22421265,   302.22421265, ...,\n",
       "           302.02420044,   302.02420044,   301.92419434],\n",
       "        [  302.32418823,   302.22421265,   302.22421265, ...,\n",
       "           302.02420044,   301.92419434,   301.92419434]],\n",
       "\n",
       "       [[99999.        , 99999.        , 99999.        , ...,\n",
       "         99999.        , 99999.        , 99999.        ],\n",
       "        [99999.        , 99999.        , 99999.        , ...,\n",
       "         99999.        , 99999.        , 99999.        ],\n",
       "        [99999.        , 99999.        , 99999.        , ...,\n",
       "         99999.        , 99999.        , 99999.        ],\n",
       "        ...,\n",
       "        [  302.23526001,   302.23526001,   302.23526001, ...,\n",
       "           302.23526001,   302.23526001,   302.13525391],\n",
       "        [  301.5352478 ,   302.23526001,   302.23526001, ...,\n",
       "           302.23526001,   302.13525391,   302.13525391],\n",
       "        [  302.33526611,   302.23526001,   302.23526001, ...,\n",
       "           302.13525391,   302.0352478 ,   302.0352478 ]]])\n",
       "Coordinates:\n",
       "  * time     (time) datetime64[ns] 2020-11-25 2020-11-25T03:00:00 ... 2020-12-05\n",
       "  * lat      (lat) float64 -55.75 -55.5 -55.25 -55.0 ... -4.5 -4.25 -4.0 -3.75\n",
       "  * lon      (lon) float64 106.0 106.2 106.5 106.8 ... 178.5 178.8 179.0 179.2\n",
       "Attributes:\n",
       "    long_name:  ** surface temperature [k] "
      ]
     },
     "execution_count": 27,
     "metadata": {},
     "output_type": "execute_result"
    }
   ],
   "source": [
    "# By adding a second arguement to the where statement, all the values instead\n",
    "# of being replaced with nan will now be replaced with that values (99999 in this exmple).\n",
    "d1.tmpsfc.where(d1.tmpsfc > 293, 99999)"
   ]
  },
  {
   "cell_type": "markdown",
   "metadata": {},
   "source": [
    "This can also be done with replacing the value from the array in question with the value from another array. For example, if I wanted I could replace all the d1 values greater than 293 kelvin with the values from d3. This example does not make much sense, but is demonstrative of the principle."
   ]
  },
  {
   "cell_type": "code",
   "execution_count": 28,
   "metadata": {},
   "outputs": [
    {
     "data": {
      "text/html": [
       "<pre>&lt;xarray.DataArray &#x27;tmpsfc&#x27; (time: 81, lat: 209, lon: 294)&gt;\n",
       "array([[[      nan,       nan,       nan, ...,       nan,       nan,\n",
       "               nan],\n",
       "        [      nan,       nan,       nan, ...,       nan,       nan,\n",
       "               nan],\n",
       "        [      nan,       nan,       nan, ...,       nan,       nan,\n",
       "               nan],\n",
       "        ...,\n",
       "        [302.43408, 302.43408, 302.43408, ..., 302.1341 , 302.0341 ,\n",
       "         302.0341 ],\n",
       "        [301.7341 , 302.43408, 302.43408, ..., 302.1341 , 302.0341 ,\n",
       "         302.0341 ],\n",
       "        [302.6341 , 302.5341 , 302.43408, ..., 302.0341 , 301.93408,\n",
       "         301.93408]],\n",
       "\n",
       "       [[271.9298 , 271.9498 , 271.9598 , ..., 280.1698 , 280.2098 ,\n",
       "         280.2498 ],\n",
       "        [272.0198 , 272.0698 , 272.0998 , ..., 280.3798 , 280.4498 ,\n",
       "         280.4998 ],\n",
       "        [272.2098 , 272.0998 , 272.0798 , ..., 280.5798 , 280.6098 ,\n",
       "         280.6398 ],\n",
       "        ...,\n",
       "        [302.49997, 302.4    , 302.4    , ..., 302.19998, 302.19998,\n",
       "         302.09998],\n",
       "        [302.19998, 302.4    , 302.4    , ..., 302.19998, 302.09998,\n",
       "         302.09998],\n",
       "        [302.59998, 302.4    , 302.4    , ..., 302.09998, 301.99997,\n",
       "         301.99997]],\n",
       "\n",
       "       [[271.9272 , 271.94717, 271.9372 , ..., 280.16718, 280.20718,\n",
       "         280.2472 ],\n",
       "        [272.0272 , 272.06717, 272.10718, ..., 280.38718, 280.44717,\n",
       "         280.4972 ],\n",
       "        [272.20718, 272.09717, 272.07718, ..., 280.5572 , 280.60718,\n",
       "         280.6472 ],\n",
       "        ...,\n",
       "        [302.9102 , 302.5102 , 302.5102 , ..., 302.0102 , 301.9102 ,\n",
       "         301.9102 ],\n",
       "        [303.0102 , 302.71017, 302.6102 , ..., 302.0102 , 301.9102 ,\n",
       "         301.9102 ],\n",
       "        [303.1102 , 302.9102 , 302.5102 , ..., 301.9102 , 301.9102 ,\n",
       "         301.81018]],\n",
       "\n",
       "       ...,\n",
       "\n",
       "       [[273.7557 , 273.7657 , 273.7657 , ..., 277.1557 , 277.1957 ,\n",
       "         277.1957 ],\n",
       "        [273.8057 , 273.8457 , 273.8457 , ..., 277.2957 , 277.3157 ,\n",
       "         277.32568],\n",
       "        [273.8057 , 273.8457 , 273.8957 , ..., 277.3857 , 277.3757 ,\n",
       "         277.3757 ],\n",
       "        ...,\n",
       "        [302.19946, 302.19946, 302.19946, ..., 301.99948, 301.99948,\n",
       "         301.99948],\n",
       "        [301.49948, 302.19946, 302.19946, ..., 301.99948, 301.89948,\n",
       "         301.89948],\n",
       "        [302.39948, 302.29947, 302.19946, ..., 301.99948, 301.89948,\n",
       "         301.89948]],\n",
       "\n",
       "       [[273.82196, 273.80194, 273.79196, ..., 277.48193, 277.34195,\n",
       "         277.25195],\n",
       "        [273.97195, 273.91196, 273.90195, ..., 277.66196, 277.56195,\n",
       "         277.53195],\n",
       "        [274.13196, 274.04196, 274.00195, ..., 277.82196, 277.76193,\n",
       "         277.77194],\n",
       "        ...,\n",
       "        [302.2242 , 302.2242 , 302.2242 , ..., 302.1242 , 302.0242 ,\n",
       "         302.0242 ],\n",
       "        [301.3242 , 302.2242 , 302.2242 , ..., 302.0242 , 302.0242 ,\n",
       "         301.9242 ],\n",
       "        [302.3242 , 302.2242 , 302.2242 , ..., 302.0242 , 301.9242 ,\n",
       "         301.9242 ]],\n",
       "\n",
       "       [[273.82196, 273.80194, 273.79196, ..., 277.48193, 277.34195,\n",
       "         277.25195],\n",
       "        [273.97195, 273.91196, 273.90195, ..., 277.66196, 277.56195,\n",
       "         277.53195],\n",
       "        [274.13196, 274.04196, 274.00195, ..., 277.82196, 277.76193,\n",
       "         277.77194],\n",
       "        ...,\n",
       "        [302.23526, 302.23526, 302.23526, ..., 302.23526, 302.23526,\n",
       "         302.13525],\n",
       "        [301.53525, 302.23526, 302.23526, ..., 302.23526, 302.13525,\n",
       "         302.13525],\n",
       "        [302.33527, 302.23526, 302.23526, ..., 302.13525, 302.03525,\n",
       "         302.03525]]], dtype=float32)\n",
       "Coordinates:\n",
       "  * time     (time) datetime64[ns] 2020-11-25 2020-11-25T03:00:00 ... 2020-12-05\n",
       "  * lat      (lat) float64 -55.75 -55.5 -55.25 -55.0 ... -4.5 -4.25 -4.0 -3.75\n",
       "  * lon      (lon) float64 106.0 106.2 106.5 106.8 ... 178.5 178.8 179.0 179.2</pre>"
      ],
      "text/plain": [
       "<xarray.DataArray 'tmpsfc' (time: 81, lat: 209, lon: 294)>\n",
       "array([[[      nan,       nan,       nan, ...,       nan,       nan,\n",
       "               nan],\n",
       "        [      nan,       nan,       nan, ...,       nan,       nan,\n",
       "               nan],\n",
       "        [      nan,       nan,       nan, ...,       nan,       nan,\n",
       "               nan],\n",
       "        ...,\n",
       "        [302.43408, 302.43408, 302.43408, ..., 302.1341 , 302.0341 ,\n",
       "         302.0341 ],\n",
       "        [301.7341 , 302.43408, 302.43408, ..., 302.1341 , 302.0341 ,\n",
       "         302.0341 ],\n",
       "        [302.6341 , 302.5341 , 302.43408, ..., 302.0341 , 301.93408,\n",
       "         301.93408]],\n",
       "\n",
       "       [[271.9298 , 271.9498 , 271.9598 , ..., 280.1698 , 280.2098 ,\n",
       "         280.2498 ],\n",
       "        [272.0198 , 272.0698 , 272.0998 , ..., 280.3798 , 280.4498 ,\n",
       "         280.4998 ],\n",
       "        [272.2098 , 272.0998 , 272.0798 , ..., 280.5798 , 280.6098 ,\n",
       "         280.6398 ],\n",
       "        ...,\n",
       "        [302.49997, 302.4    , 302.4    , ..., 302.19998, 302.19998,\n",
       "         302.09998],\n",
       "        [302.19998, 302.4    , 302.4    , ..., 302.19998, 302.09998,\n",
       "         302.09998],\n",
       "        [302.59998, 302.4    , 302.4    , ..., 302.09998, 301.99997,\n",
       "         301.99997]],\n",
       "\n",
       "       [[271.9272 , 271.94717, 271.9372 , ..., 280.16718, 280.20718,\n",
       "         280.2472 ],\n",
       "        [272.0272 , 272.06717, 272.10718, ..., 280.38718, 280.44717,\n",
       "         280.4972 ],\n",
       "        [272.20718, 272.09717, 272.07718, ..., 280.5572 , 280.60718,\n",
       "         280.6472 ],\n",
       "        ...,\n",
       "        [302.9102 , 302.5102 , 302.5102 , ..., 302.0102 , 301.9102 ,\n",
       "         301.9102 ],\n",
       "        [303.0102 , 302.71017, 302.6102 , ..., 302.0102 , 301.9102 ,\n",
       "         301.9102 ],\n",
       "        [303.1102 , 302.9102 , 302.5102 , ..., 301.9102 , 301.9102 ,\n",
       "         301.81018]],\n",
       "\n",
       "       ...,\n",
       "\n",
       "       [[273.7557 , 273.7657 , 273.7657 , ..., 277.1557 , 277.1957 ,\n",
       "         277.1957 ],\n",
       "        [273.8057 , 273.8457 , 273.8457 , ..., 277.2957 , 277.3157 ,\n",
       "         277.32568],\n",
       "        [273.8057 , 273.8457 , 273.8957 , ..., 277.3857 , 277.3757 ,\n",
       "         277.3757 ],\n",
       "        ...,\n",
       "        [302.19946, 302.19946, 302.19946, ..., 301.99948, 301.99948,\n",
       "         301.99948],\n",
       "        [301.49948, 302.19946, 302.19946, ..., 301.99948, 301.89948,\n",
       "         301.89948],\n",
       "        [302.39948, 302.29947, 302.19946, ..., 301.99948, 301.89948,\n",
       "         301.89948]],\n",
       "\n",
       "       [[273.82196, 273.80194, 273.79196, ..., 277.48193, 277.34195,\n",
       "         277.25195],\n",
       "        [273.97195, 273.91196, 273.90195, ..., 277.66196, 277.56195,\n",
       "         277.53195],\n",
       "        [274.13196, 274.04196, 274.00195, ..., 277.82196, 277.76193,\n",
       "         277.77194],\n",
       "        ...,\n",
       "        [302.2242 , 302.2242 , 302.2242 , ..., 302.1242 , 302.0242 ,\n",
       "         302.0242 ],\n",
       "        [301.3242 , 302.2242 , 302.2242 , ..., 302.0242 , 302.0242 ,\n",
       "         301.9242 ],\n",
       "        [302.3242 , 302.2242 , 302.2242 , ..., 302.0242 , 301.9242 ,\n",
       "         301.9242 ]],\n",
       "\n",
       "       [[273.82196, 273.80194, 273.79196, ..., 277.48193, 277.34195,\n",
       "         277.25195],\n",
       "        [273.97195, 273.91196, 273.90195, ..., 277.66196, 277.56195,\n",
       "         277.53195],\n",
       "        [274.13196, 274.04196, 274.00195, ..., 277.82196, 277.76193,\n",
       "         277.77194],\n",
       "        ...,\n",
       "        [302.23526, 302.23526, 302.23526, ..., 302.23526, 302.23526,\n",
       "         302.13525],\n",
       "        [301.53525, 302.23526, 302.23526, ..., 302.23526, 302.13525,\n",
       "         302.13525],\n",
       "        [302.33527, 302.23526, 302.23526, ..., 302.13525, 302.03525,\n",
       "         302.03525]]], dtype=float32)\n",
       "Coordinates:\n",
       "  * time     (time) datetime64[ns] 2020-11-25 2020-11-25T03:00:00 ... 2020-12-05\n",
       "  * lat      (lat) float64 -55.75 -55.5 -55.25 -55.0 ... -4.5 -4.25 -4.0 -3.75\n",
       "  * lon      (lon) float64 106.0 106.2 106.5 106.8 ... 178.5 178.8 179.0 179.2"
      ]
     },
     "execution_count": 28,
     "metadata": {},
     "output_type": "execute_result"
    }
   ],
   "source": [
    "xr.where(d1.tmpsfc > 293, d1.tmpsfc.values, d3.tmin2m.values)"
   ]
  },
  {
   "cell_type": "markdown",
   "metadata": {},
   "source": [
    "<b> drop = True </b>"
   ]
  },
  {
   "cell_type": "markdown",
   "metadata": {},
   "source": [
    "This keyword will remove the coordinates where the where condition is not met."
   ]
  },
  {
   "cell_type": "code",
   "execution_count": 29,
   "metadata": {},
   "outputs": [],
   "source": [
    "# In the above exmpale this will not work, as there will be values for each time/lat/lon that still have \n",
    "# non-nan values and will thus, not be removed."
   ]
  },
  {
   "cell_type": "code",
   "execution_count": 30,
   "metadata": {},
   "outputs": [
    {
     "data": {
      "text/html": [
       "<pre>&lt;xarray.DataArray &#x27;tmpsfc&#x27; (time: 81, lat: 173, lon: 294)&gt;\n",
       "array([[[      nan,       nan,       nan, ...,       nan,       nan,\n",
       "               nan],\n",
       "        [      nan,       nan,       nan, ...,       nan,       nan,\n",
       "               nan],\n",
       "        [      nan,       nan,       nan, ...,       nan,       nan,\n",
       "               nan],\n",
       "        ...,\n",
       "        [302.43408, 302.43408, 302.43408, ..., 302.1341 , 302.0341 ,\n",
       "         302.0341 ],\n",
       "        [301.7341 , 302.43408, 302.43408, ..., 302.1341 , 302.0341 ,\n",
       "         302.0341 ],\n",
       "        [302.6341 , 302.5341 , 302.43408, ..., 302.0341 , 301.93408,\n",
       "         301.93408]],\n",
       "\n",
       "       [[      nan,       nan,       nan, ...,       nan,       nan,\n",
       "               nan],\n",
       "        [      nan,       nan,       nan, ...,       nan,       nan,\n",
       "               nan],\n",
       "        [      nan,       nan,       nan, ...,       nan,       nan,\n",
       "               nan],\n",
       "        ...,\n",
       "        [302.49997, 302.4    , 302.4    , ..., 302.19998, 302.19998,\n",
       "         302.09998],\n",
       "        [302.19998, 302.4    , 302.4    , ..., 302.19998, 302.09998,\n",
       "         302.09998],\n",
       "        [302.59998, 302.4    , 302.4    , ..., 302.09998, 301.99997,\n",
       "         301.99997]],\n",
       "\n",
       "       [[      nan,       nan,       nan, ...,       nan,       nan,\n",
       "               nan],\n",
       "        [      nan,       nan,       nan, ...,       nan,       nan,\n",
       "               nan],\n",
       "        [      nan,       nan,       nan, ...,       nan,       nan,\n",
       "               nan],\n",
       "        ...,\n",
       "        [302.9102 , 302.5102 , 302.5102 , ..., 302.0102 , 301.9102 ,\n",
       "         301.9102 ],\n",
       "        [303.0102 , 302.71017, 302.6102 , ..., 302.0102 , 301.9102 ,\n",
       "         301.9102 ],\n",
       "        [303.1102 , 302.9102 , 302.5102 , ..., 301.9102 , 301.9102 ,\n",
       "         301.81018]],\n",
       "\n",
       "       ...,\n",
       "\n",
       "       [[      nan,       nan,       nan, ...,       nan,       nan,\n",
       "               nan],\n",
       "        [      nan,       nan,       nan, ...,       nan,       nan,\n",
       "               nan],\n",
       "        [      nan,       nan,       nan, ...,       nan,       nan,\n",
       "               nan],\n",
       "        ...,\n",
       "        [302.19946, 302.19946, 302.19946, ..., 301.99948, 301.99948,\n",
       "         301.99948],\n",
       "        [301.49948, 302.19946, 302.19946, ..., 301.99948, 301.89948,\n",
       "         301.89948],\n",
       "        [302.39948, 302.29947, 302.19946, ..., 301.99948, 301.89948,\n",
       "         301.89948]],\n",
       "\n",
       "       [[      nan,       nan,       nan, ...,       nan,       nan,\n",
       "               nan],\n",
       "        [      nan,       nan,       nan, ...,       nan,       nan,\n",
       "               nan],\n",
       "        [      nan,       nan,       nan, ...,       nan,       nan,\n",
       "               nan],\n",
       "        ...,\n",
       "        [302.2242 , 302.2242 , 302.2242 , ..., 302.1242 , 302.0242 ,\n",
       "         302.0242 ],\n",
       "        [301.3242 , 302.2242 , 302.2242 , ..., 302.0242 , 302.0242 ,\n",
       "         301.9242 ],\n",
       "        [302.3242 , 302.2242 , 302.2242 , ..., 302.0242 , 301.9242 ,\n",
       "         301.9242 ]],\n",
       "\n",
       "       [[      nan,       nan,       nan, ...,       nan,       nan,\n",
       "               nan],\n",
       "        [      nan,       nan,       nan, ...,       nan,       nan,\n",
       "               nan],\n",
       "        [      nan,       nan,       nan, ...,       nan,       nan,\n",
       "               nan],\n",
       "        ...,\n",
       "        [302.23526, 302.23526, 302.23526, ..., 302.23526, 302.23526,\n",
       "         302.13525],\n",
       "        [301.53525, 302.23526, 302.23526, ..., 302.23526, 302.13525,\n",
       "         302.13525],\n",
       "        [302.33527, 302.23526, 302.23526, ..., 302.13525, 302.03525,\n",
       "         302.03525]]], dtype=float32)\n",
       "Coordinates:\n",
       "  * time     (time) datetime64[ns] 2020-11-25 2020-11-25T03:00:00 ... 2020-12-05\n",
       "  * lat      (lat) float64 -46.75 -46.5 -46.25 -46.0 ... -4.5 -4.25 -4.0 -3.75\n",
       "  * lon      (lon) float64 106.0 106.2 106.5 106.8 ... 178.5 178.8 179.0 179.2\n",
       "Attributes:\n",
       "    long_name:  ** surface temperature [k] </pre>"
      ],
      "text/plain": [
       "<xarray.DataArray 'tmpsfc' (time: 81, lat: 173, lon: 294)>\n",
       "array([[[      nan,       nan,       nan, ...,       nan,       nan,\n",
       "               nan],\n",
       "        [      nan,       nan,       nan, ...,       nan,       nan,\n",
       "               nan],\n",
       "        [      nan,       nan,       nan, ...,       nan,       nan,\n",
       "               nan],\n",
       "        ...,\n",
       "        [302.43408, 302.43408, 302.43408, ..., 302.1341 , 302.0341 ,\n",
       "         302.0341 ],\n",
       "        [301.7341 , 302.43408, 302.43408, ..., 302.1341 , 302.0341 ,\n",
       "         302.0341 ],\n",
       "        [302.6341 , 302.5341 , 302.43408, ..., 302.0341 , 301.93408,\n",
       "         301.93408]],\n",
       "\n",
       "       [[      nan,       nan,       nan, ...,       nan,       nan,\n",
       "               nan],\n",
       "        [      nan,       nan,       nan, ...,       nan,       nan,\n",
       "               nan],\n",
       "        [      nan,       nan,       nan, ...,       nan,       nan,\n",
       "               nan],\n",
       "        ...,\n",
       "        [302.49997, 302.4    , 302.4    , ..., 302.19998, 302.19998,\n",
       "         302.09998],\n",
       "        [302.19998, 302.4    , 302.4    , ..., 302.19998, 302.09998,\n",
       "         302.09998],\n",
       "        [302.59998, 302.4    , 302.4    , ..., 302.09998, 301.99997,\n",
       "         301.99997]],\n",
       "\n",
       "       [[      nan,       nan,       nan, ...,       nan,       nan,\n",
       "               nan],\n",
       "        [      nan,       nan,       nan, ...,       nan,       nan,\n",
       "               nan],\n",
       "        [      nan,       nan,       nan, ...,       nan,       nan,\n",
       "               nan],\n",
       "        ...,\n",
       "        [302.9102 , 302.5102 , 302.5102 , ..., 302.0102 , 301.9102 ,\n",
       "         301.9102 ],\n",
       "        [303.0102 , 302.71017, 302.6102 , ..., 302.0102 , 301.9102 ,\n",
       "         301.9102 ],\n",
       "        [303.1102 , 302.9102 , 302.5102 , ..., 301.9102 , 301.9102 ,\n",
       "         301.81018]],\n",
       "\n",
       "       ...,\n",
       "\n",
       "       [[      nan,       nan,       nan, ...,       nan,       nan,\n",
       "               nan],\n",
       "        [      nan,       nan,       nan, ...,       nan,       nan,\n",
       "               nan],\n",
       "        [      nan,       nan,       nan, ...,       nan,       nan,\n",
       "               nan],\n",
       "        ...,\n",
       "        [302.19946, 302.19946, 302.19946, ..., 301.99948, 301.99948,\n",
       "         301.99948],\n",
       "        [301.49948, 302.19946, 302.19946, ..., 301.99948, 301.89948,\n",
       "         301.89948],\n",
       "        [302.39948, 302.29947, 302.19946, ..., 301.99948, 301.89948,\n",
       "         301.89948]],\n",
       "\n",
       "       [[      nan,       nan,       nan, ...,       nan,       nan,\n",
       "               nan],\n",
       "        [      nan,       nan,       nan, ...,       nan,       nan,\n",
       "               nan],\n",
       "        [      nan,       nan,       nan, ...,       nan,       nan,\n",
       "               nan],\n",
       "        ...,\n",
       "        [302.2242 , 302.2242 , 302.2242 , ..., 302.1242 , 302.0242 ,\n",
       "         302.0242 ],\n",
       "        [301.3242 , 302.2242 , 302.2242 , ..., 302.0242 , 302.0242 ,\n",
       "         301.9242 ],\n",
       "        [302.3242 , 302.2242 , 302.2242 , ..., 302.0242 , 301.9242 ,\n",
       "         301.9242 ]],\n",
       "\n",
       "       [[      nan,       nan,       nan, ...,       nan,       nan,\n",
       "               nan],\n",
       "        [      nan,       nan,       nan, ...,       nan,       nan,\n",
       "               nan],\n",
       "        [      nan,       nan,       nan, ...,       nan,       nan,\n",
       "               nan],\n",
       "        ...,\n",
       "        [302.23526, 302.23526, 302.23526, ..., 302.23526, 302.23526,\n",
       "         302.13525],\n",
       "        [301.53525, 302.23526, 302.23526, ..., 302.23526, 302.13525,\n",
       "         302.13525],\n",
       "        [302.33527, 302.23526, 302.23526, ..., 302.13525, 302.03525,\n",
       "         302.03525]]], dtype=float32)\n",
       "Coordinates:\n",
       "  * time     (time) datetime64[ns] 2020-11-25 2020-11-25T03:00:00 ... 2020-12-05\n",
       "  * lat      (lat) float64 -46.75 -46.5 -46.25 -46.0 ... -4.5 -4.25 -4.0 -3.75\n",
       "  * lon      (lon) float64 106.0 106.2 106.5 106.8 ... 178.5 178.8 179.0 179.2\n",
       "Attributes:\n",
       "    long_name:  ** surface temperature [k] "
      ]
     },
     "execution_count": 30,
     "metadata": {},
     "output_type": "execute_result"
    }
   ],
   "source": [
    "d1.tmpsfc.where(d1.tmpsfc > 293, drop = True)"
   ]
  },
  {
   "cell_type": "markdown",
   "metadata": {},
   "source": [
    "However, when looking at say a single timeseries, this will remove time values"
   ]
  },
  {
   "cell_type": "code",
   "execution_count": 31,
   "metadata": {},
   "outputs": [
    {
     "data": {
      "text/plain": [
       "[<matplotlib.lines.Line2D at 0x21a6d7295c8>]"
      ]
     },
     "execution_count": 31,
     "metadata": {},
     "output_type": "execute_result"
    },
    {
     "data": {
      "image/png": "[encoded data removed]",
      "text/plain": [
       "<Figure size 432x288 with 1 Axes>"
      ]
     },
     "metadata": {
      "needs_background": "light"
     },
     "output_type": "display_data"
    }
   ],
   "source": [
    "d1.tmpsfc.sel(lat = -30, lon = 135).plot()"
   ]
  },
  {
   "cell_type": "code",
   "execution_count": 32,
   "metadata": {},
   "outputs": [
    {
     "data": {
      "text/plain": [
       "[<matplotlib.lines.Line2D at 0x21a6e12f088>]"
      ]
     },
     "execution_count": 32,
     "metadata": {},
     "output_type": "execute_result"
    },
    {
     "data": {
      "image/png": "[encoded data removed]",
      "text/plain": [
       "<Figure size 432x288 with 1 Axes>"
      ]
     },
     "metadata": {
      "needs_background": "light"
     },
     "output_type": "display_data"
    }
   ],
   "source": [
    "# No drop statment (time values are still there will nans in place).\n",
    "d1.tmpsfc.sel(lat = -30, lon = 135).where(d1.tmpsfc.sel(lat = -30, lon = 135) > 310).plot()"
   ]
  },
  {
   "cell_type": "markdown",
   "metadata": {},
   "source": [
    "The above statement was getting quite long for a single line. This could be made more manageable."
   ]
  },
  {
   "cell_type": "code",
   "execution_count": 33,
   "metadata": {},
   "outputs": [
    {
     "data": {
      "text/plain": [
       "[<matplotlib.lines.Line2D at 0x21a6e18f6c8>]"
      ]
     },
     "execution_count": 33,
     "metadata": {},
     "output_type": "execute_result"
    },
    {
     "data": {
      "image/png": "[encoded data removed]",
      "text/plain": [
       "<Figure size 432x288 with 1 Axes>"
      ]
     },
     "metadata": {
      "needs_background": "light"
     },
     "output_type": "display_data"
    }
   ],
   "source": [
    "single_cell = d1.tmpsfc.sel(lat = -30, lon = 135)\n",
    "single_cell.where(single_cell > 310).plot()"
   ]
  },
  {
   "cell_type": "code",
   "execution_count": 34,
   "metadata": {},
   "outputs": [
    {
     "data": {
      "text/plain": [
       "[<matplotlib.lines.Line2D at 0x21a6e1ff608>]"
      ]
     },
     "execution_count": 34,
     "metadata": {},
     "output_type": "execute_result"
    },
    {
     "data": {
      "image/png": "[encoded data removed]",
      "text/plain": [
       "<Figure size 432x288 with 1 Axes>"
      ]
     },
     "metadata": {
      "needs_background": "light"
     },
     "output_type": "display_data"
    }
   ],
   "source": [
    "# Drop now included.\n",
    "single_cell = d1.tmpsfc.sel(lat = -30, lon = 135)\n",
    "single_cell.where(single_cell > 310, drop = True).plot()"
   ]
  },
  {
   "cell_type": "markdown",
   "metadata": {},
   "source": [
    "However, this also works differently if there are two different conditions. np.logical_and or np.logical_or must be used with arguments separated by commas."
   ]
  },
  {
   "cell_type": "code",
   "execution_count": 35,
   "metadata": {},
   "outputs": [
    {
     "data": {
      "text/plain": [
       "[<matplotlib.lines.Line2D at 0x21a6e243a88>]"
      ]
     },
     "execution_count": 35,
     "metadata": {},
     "output_type": "execute_result"
    },
    {
     "data": {
      "image/png": "[encoded data removed]",
      "text/plain": [
       "<Figure size 432x288 with 1 Axes>"
      ]
     },
     "metadata": {
      "needs_background": "light"
     },
     "output_type": "display_data"
    }
   ],
   "source": [
    "single_cell.where(np.logical_and(single_cell > 300, single_cell < 310)).plot()"
   ]
  },
  {
   "cell_type": "markdown",
   "metadata": {},
   "source": [
    "<h1> Simple Maths </h1>"
   ]
  },
  {
   "cell_type": "markdown",
   "metadata": {},
   "source": [
    "Xarray has many built in commands that can be used on xarray datasets."
   ]
  },
  {
   "cell_type": "code",
   "execution_count": 36,
   "metadata": {},
   "outputs": [
    {
     "data": {
      "text/html": [
       "<pre>&lt;xarray.Dataset&gt;\n",
       "Dimensions:  (lat: 209, lon: 294, time: 81)\n",
       "Coordinates:\n",
       "  * time     (time) datetime64[ns] 2020-11-25 2020-11-25T03:00:00 ... 2020-12-05\n",
       "  * lat      (lat) float64 -55.75 -55.5 -55.25 -55.0 ... -4.5 -4.25 -4.0 -3.75\n",
       "  * lon      (lon) float64 106.0 106.2 106.5 106.8 ... 178.5 178.8 179.0 179.2\n",
       "Data variables:\n",
       "    tmpsfc   (time, lat, lon) float32 274.43408 274.43408 ... 302.03525</pre>"
      ],
      "text/plain": [
       "<xarray.Dataset>\n",
       "Dimensions:  (lat: 209, lon: 294, time: 81)\n",
       "Coordinates:\n",
       "  * time     (time) datetime64[ns] 2020-11-25 2020-11-25T03:00:00 ... 2020-12-05\n",
       "  * lat      (lat) float64 -55.75 -55.5 -55.25 -55.0 ... -4.5 -4.25 -4.0 -3.75\n",
       "  * lon      (lon) float64 106.0 106.2 106.5 106.8 ... 178.5 178.8 179.0 179.2\n",
       "Data variables:\n",
       "    tmpsfc   (time, lat, lon) float32 274.43408 274.43408 ... 302.03525"
      ]
     },
     "execution_count": 36,
     "metadata": {},
     "output_type": "execute_result"
    }
   ],
   "source": [
    "d1"
   ]
  },
  {
   "cell_type": "code",
   "execution_count": 37,
   "metadata": {},
   "outputs": [
    {
     "data": {
      "text/html": [
       "<pre>&lt;xarray.Dataset&gt;\n",
       "Dimensions:  ()\n",
       "Data variables:\n",
       "    tmpsfc   float32 1466821600.0</pre>"
      ],
      "text/plain": [
       "<xarray.Dataset>\n",
       "Dimensions:  ()\n",
       "Data variables:\n",
       "    tmpsfc   float32 1466821600.0"
      ]
     },
     "execution_count": 37,
     "metadata": {},
     "output_type": "execute_result"
    }
   ],
   "source": [
    "# Summing all values across the dataset.\n",
    "d1.sum()"
   ]
  },
  {
   "cell_type": "code",
   "execution_count": 38,
   "metadata": {},
   "outputs": [
    {
     "data": {
      "text/html": [
       "<pre>&lt;xarray.Dataset&gt;\n",
       "Dimensions:  ()\n",
       "Data variables:\n",
       "    tmpsfc   int32 4977126</pre>"
      ],
      "text/plain": [
       "<xarray.Dataset>\n",
       "Dimensions:  ()\n",
       "Data variables:\n",
       "    tmpsfc   int32 4977126"
      ]
     },
     "execution_count": 38,
     "metadata": {},
     "output_type": "execute_result"
    }
   ],
   "source": [
    "d1.count()"
   ]
  },
  {
   "cell_type": "code",
   "execution_count": 39,
   "metadata": {},
   "outputs": [
    {
     "data": {
      "text/html": [
       "<pre>&lt;xarray.Dataset&gt;\n",
       "Dimensions:  ()\n",
       "Data variables:\n",
       "    tmpsfc   float32 294.7126</pre>"
      ],
      "text/plain": [
       "<xarray.Dataset>\n",
       "Dimensions:  ()\n",
       "Data variables:\n",
       "    tmpsfc   float32 294.7126"
      ]
     },
     "execution_count": 39,
     "metadata": {},
     "output_type": "execute_result"
    }
   ],
   "source": [
    "d1.mean()"
   ]
  },
  {
   "cell_type": "code",
   "execution_count": 40,
   "metadata": {},
   "outputs": [
    {
     "data": {
      "text/html": [
       "<pre>&lt;xarray.Dataset&gt;\n",
       "Dimensions:  ()\n",
       "Data variables:\n",
       "    tmpsfc   float64 13.82</pre>"
      ],
      "text/plain": [
       "<xarray.Dataset>\n",
       "Dimensions:  ()\n",
       "Data variables:\n",
       "    tmpsfc   float64 13.82"
      ]
     },
     "execution_count": 40,
     "metadata": {},
     "output_type": "execute_result"
    }
   ],
   "source": [
    "d1.std()"
   ]
  },
  {
   "cell_type": "code",
   "execution_count": 41,
   "metadata": {},
   "outputs": [
    {
     "data": {
      "text/html": [
       "<pre>&lt;xarray.Dataset&gt;\n",
       "Dimensions:  ()\n",
       "Data variables:\n",
       "    tmpsfc   float64 353.4</pre>"
      ],
      "text/plain": [
       "<xarray.Dataset>\n",
       "Dimensions:  ()\n",
       "Data variables:\n",
       "    tmpsfc   float64 353.4"
      ]
     },
     "execution_count": 41,
     "metadata": {},
     "output_type": "execute_result"
    }
   ],
   "source": [
    "d1.max()"
   ]
  },
  {
   "cell_type": "code",
   "execution_count": 42,
   "metadata": {},
   "outputs": [
    {
     "data": {
      "text/html": [
       "<pre>&lt;xarray.Dataset&gt;\n",
       "Dimensions:  ()\n",
       "Data variables:\n",
       "    tmpsfc   float64 261.3</pre>"
      ],
      "text/plain": [
       "<xarray.Dataset>\n",
       "Dimensions:  ()\n",
       "Data variables:\n",
       "    tmpsfc   float64 261.3"
      ]
     },
     "execution_count": 42,
     "metadata": {},
     "output_type": "execute_result"
    }
   ],
   "source": [
    "d1.min()"
   ]
  },
  {
   "cell_type": "markdown",
   "metadata": {},
   "source": [
    "Percentiles"
   ]
  },
  {
   "cell_type": "code",
   "execution_count": 43,
   "metadata": {},
   "outputs": [
    {
     "data": {
      "text/html": [
       "<pre>&lt;xarray.Dataset&gt;\n",
       "Dimensions:  ()\n",
       "Data variables:\n",
       "    tmpsfc   float64 304.2</pre>"
      ],
      "text/plain": [
       "<xarray.Dataset>\n",
       "Dimensions:  ()\n",
       "Data variables:\n",
       "    tmpsfc   float64 304.2"
      ]
     },
     "execution_count": 43,
     "metadata": {},
     "output_type": "execute_result"
    }
   ],
   "source": [
    "d1.reduce(np.nanpercentile, q = 90)"
   ]
  },
  {
   "cell_type": "markdown",
   "metadata": {},
   "source": [
    "These can then also be applied across specific dimensions."
   ]
  },
  {
   "cell_type": "code",
   "execution_count": 44,
   "metadata": {},
   "outputs": [
    {
     "data": {
      "text/html": [
       "<pre>&lt;xarray.Dataset&gt;\n",
       "Dimensions:  (lat: 209, lon: 294)\n",
       "Coordinates:\n",
       "  * lat      (lat) float64 -55.75 -55.5 -55.25 -55.0 ... -4.5 -4.25 -4.0 -3.75\n",
       "  * lon      (lon) float64 106.0 106.2 106.5 106.8 ... 178.5 178.8 179.0 179.2\n",
       "Data variables:\n",
       "    tmpsfc   (lat, lon) float32 22252.88 22252.285 ... 24454.893 24452.664</pre>"
      ],
      "text/plain": [
       "<xarray.Dataset>\n",
       "Dimensions:  (lat: 209, lon: 294)\n",
       "Coordinates:\n",
       "  * lat      (lat) float64 -55.75 -55.5 -55.25 -55.0 ... -4.5 -4.25 -4.0 -3.75\n",
       "  * lon      (lon) float64 106.0 106.2 106.5 106.8 ... 178.5 178.8 179.0 179.2\n",
       "Data variables:\n",
       "    tmpsfc   (lat, lon) float32 22252.88 22252.285 ... 24454.893 24452.664"
      ]
     },
     "execution_count": 44,
     "metadata": {},
     "output_type": "execute_result"
    }
   ],
   "source": [
    "d1.sum(dim = 'time')"
   ]
  },
  {
   "cell_type": "code",
   "execution_count": 45,
   "metadata": {},
   "outputs": [
    {
     "data": {
      "text/html": [
       "<pre>&lt;xarray.Dataset&gt;\n",
       "Dimensions:  (lon: 294, time: 81)\n",
       "Coordinates:\n",
       "  * time     (time) datetime64[ns] 2020-11-25 2020-11-25T03:00:00 ... 2020-12-05\n",
       "  * lon      (lon) float64 106.0 106.2 106.5 106.8 ... 178.5 178.8 179.0 179.2\n",
       "Data variables:\n",
       "    tmpsfc   (time, lon) float32 60781.145 60779.145 ... 61459.06 61462.453</pre>"
      ],
      "text/plain": [
       "<xarray.Dataset>\n",
       "Dimensions:  (lon: 294, time: 81)\n",
       "Coordinates:\n",
       "  * time     (time) datetime64[ns] 2020-11-25 2020-11-25T03:00:00 ... 2020-12-05\n",
       "  * lon      (lon) float64 106.0 106.2 106.5 106.8 ... 178.5 178.8 179.0 179.2\n",
       "Data variables:\n",
       "    tmpsfc   (time, lon) float32 60781.145 60779.145 ... 61459.06 61462.453"
      ]
     },
     "execution_count": 45,
     "metadata": {},
     "output_type": "execute_result"
    }
   ],
   "source": [
    "d1.sum(dim = 'lat')"
   ]
  },
  {
   "cell_type": "code",
   "execution_count": 46,
   "metadata": {},
   "outputs": [
    {
     "data": {
      "text/html": [
       "<pre>&lt;xarray.Dataset&gt;\n",
       "Dimensions:  (lat: 209, lon: 294)\n",
       "Coordinates:\n",
       "  * lat      (lat) float64 -55.75 -55.5 -55.25 -55.0 ... -4.5 -4.25 -4.0 -3.75\n",
       "  * lon      (lon) float64 106.0 106.2 106.5 106.8 ... 178.5 178.8 179.0 179.2\n",
       "Data variables:\n",
       "    tmpsfc   (lat, lon) float32 274.72693 274.71957 ... 301.91226 301.88474</pre>"
      ],
      "text/plain": [
       "<xarray.Dataset>\n",
       "Dimensions:  (lat: 209, lon: 294)\n",
       "Coordinates:\n",
       "  * lat      (lat) float64 -55.75 -55.5 -55.25 -55.0 ... -4.5 -4.25 -4.0 -3.75\n",
       "  * lon      (lon) float64 106.0 106.2 106.5 106.8 ... 178.5 178.8 179.0 179.2\n",
       "Data variables:\n",
       "    tmpsfc   (lat, lon) float32 274.72693 274.71957 ... 301.91226 301.88474"
      ]
     },
     "execution_count": 46,
     "metadata": {},
     "output_type": "execute_result"
    }
   ],
   "source": [
    "d1.mean(dim = 'time')"
   ]
  },
  {
   "cell_type": "code",
   "execution_count": 47,
   "metadata": {},
   "outputs": [
    {
     "data": {
      "text/html": [
       "<pre>&lt;xarray.Dataset&gt;\n",
       "Dimensions:  (lat: 209, lon: 294)\n",
       "Coordinates:\n",
       "  * lat      (lat) float64 -55.75 -55.5 -55.25 -55.0 ... -4.5 -4.25 -4.0 -3.75\n",
       "  * lon      (lon) float64 106.0 106.2 106.5 106.8 ... 178.5 178.8 179.0 179.2\n",
       "Data variables:\n",
       "    tmpsfc   (lat, lon) float64 274.9 274.9 274.9 274.8 ... 302.1 302.0 302.0</pre>"
      ],
      "text/plain": [
       "<xarray.Dataset>\n",
       "Dimensions:  (lat: 209, lon: 294)\n",
       "Coordinates:\n",
       "  * lat      (lat) float64 -55.75 -55.5 -55.25 -55.0 ... -4.5 -4.25 -4.0 -3.75\n",
       "  * lon      (lon) float64 106.0 106.2 106.5 106.8 ... 178.5 178.8 179.0 179.2\n",
       "Data variables:\n",
       "    tmpsfc   (lat, lon) float64 274.9 274.9 274.9 274.8 ... 302.1 302.0 302.0"
      ]
     },
     "execution_count": 47,
     "metadata": {},
     "output_type": "execute_result"
    }
   ],
   "source": [
    "d1.reduce(np.nanpercentile, q = 90, dim = 'time')"
   ]
  },
  {
   "cell_type": "markdown",
   "metadata": {},
   "source": [
    "# Merging/Combining"
   ]
  },
  {
   "cell_type": "markdown",
   "metadata": {},
   "source": [
    "Merging two data sets that have the same coodinates."
   ]
  },
  {
   "cell_type": "code",
   "execution_count": 48,
   "metadata": {},
   "outputs": [
    {
     "data": {
      "text/html": [
       "<pre>&lt;xarray.Dataset&gt;\n",
       "Dimensions:  (lat: 209, lon: 294, time: 81)\n",
       "Coordinates:\n",
       "  * time     (time) datetime64[ns] 2020-11-25 2020-11-25T03:00:00 ... 2020-12-05\n",
       "  * lat      (lat) float64 -55.75 -55.5 -55.25 -55.0 ... -4.5 -4.25 -4.0 -3.75\n",
       "  * lon      (lon) float64 106.0 106.2 106.5 106.8 ... 178.5 178.8 179.0 179.2\n",
       "Data variables:\n",
       "    tmpsfc   (time, lat, lon) float32 274.43408 274.43408 ... 302.03525\n",
       "    tmin2m   (time, lat, lon) float32 nan nan nan ... 300.92194 300.86194</pre>"
      ],
      "text/plain": [
       "<xarray.Dataset>\n",
       "Dimensions:  (lat: 209, lon: 294, time: 81)\n",
       "Coordinates:\n",
       "  * time     (time) datetime64[ns] 2020-11-25 2020-11-25T03:00:00 ... 2020-12-05\n",
       "  * lat      (lat) float64 -55.75 -55.5 -55.25 -55.0 ... -4.5 -4.25 -4.0 -3.75\n",
       "  * lon      (lon) float64 106.0 106.2 106.5 106.8 ... 178.5 178.8 179.0 179.2\n",
       "Data variables:\n",
       "    tmpsfc   (time, lat, lon) float32 274.43408 274.43408 ... 302.03525\n",
       "    tmin2m   (time, lat, lon) float32 nan nan nan ... 300.92194 300.86194"
      ]
     },
     "execution_count": 48,
     "metadata": {},
     "output_type": "execute_result"
    }
   ],
   "source": [
    "xr.merge([d1, d3])"
   ]
  },
  {
   "cell_type": "markdown",
   "metadata": {},
   "source": [
    "Adding a numpy array to an xarray file"
   ]
  },
  {
   "cell_type": "code",
   "execution_count": 49,
   "metadata": {},
   "outputs": [
    {
     "data": {
      "text/html": [
       "<pre>&lt;xarray.Dataset&gt;\n",
       "Dimensions:   (lat: 209, lon: 294, time: 35)\n",
       "Coordinates:\n",
       "  * time      (time) datetime64[ns] 2020-11-25 ... 2020-11-29T06:00:00\n",
       "  * lat       (lat) float64 -55.75 -55.5 -55.25 -55.0 ... -4.5 -4.25 -4.0 -3.75\n",
       "  * lon       (lon) float64 106.0 106.2 106.5 106.8 ... 178.5 178.8 179.0 179.2\n",
       "Data variables:\n",
       "    tmax2m    (time, lat, lon) float32 nan nan nan ... 301.81326 301.82324\n",
       "    new_item  (time, lat, lon) float32 nan nan nan ... 91091.24 91097.266</pre>"
      ],
      "text/plain": [
       "<xarray.Dataset>\n",
       "Dimensions:   (lat: 209, lon: 294, time: 35)\n",
       "Coordinates:\n",
       "  * time      (time) datetime64[ns] 2020-11-25 ... 2020-11-29T06:00:00\n",
       "  * lat       (lat) float64 -55.75 -55.5 -55.25 -55.0 ... -4.5 -4.25 -4.0 -3.75\n",
       "  * lon       (lon) float64 106.0 106.2 106.5 106.8 ... 178.5 178.8 179.0 179.2\n",
       "Data variables:\n",
       "    tmax2m    (time, lat, lon) float32 nan nan nan ... 301.81326 301.82324\n",
       "    new_item  (time, lat, lon) float32 nan nan nan ... 91091.24 91097.266"
      ]
     },
     "execution_count": 49,
     "metadata": {},
     "output_type": "execute_result"
    }
   ],
   "source": [
    "d4['new_item'] = (('time','lat','lon'), d4.tmax2m.values ** 2)\n",
    "d4"
   ]
  },
  {
   "cell_type": "markdown",
   "metadata": {},
   "source": [
    "<b> Combining into the one coordinate (xr.concat) <b/>"
   ]
  },
  {
   "cell_type": "markdown",
   "metadata": {},
   "source": [
    "For example, say I had variables in different xarray files that where all different elevation levels of the same variable. I don't want a coordinate for each level, it would be much better to have the one coordinate called level and then a number (float) for each level. The data I'm using isn't different levels, but for the purpose of this example I will pretened it is."
   ]
  },
  {
   "cell_type": "code",
   "execution_count": 50,
   "metadata": {},
   "outputs": [
    {
     "data": {
      "text/html": [
       "<pre>&lt;xarray.DataArray &#x27;tmpsfc&#x27; (height: 3, time: 81, lat: 209, lon: 294)&gt;\n",
       "array([[[[274.43408, 274.43408, 274.43408, ..., 279.7341 , 279.83408,\n",
       "          279.83408],\n",
       "         [274.5341 , 274.5341 , 274.5341 , ..., 279.93408, 279.93408,\n",
       "          279.93408],\n",
       "         [274.6341 , 274.6341 , 274.7341 , ..., 279.93408, 280.0341 ,\n",
       "          280.1341 ],\n",
       "         ...,\n",
       "         [302.43408, 302.43408, 302.43408, ..., 302.1341 , 302.0341 ,\n",
       "          302.0341 ],\n",
       "         [301.7341 , 302.43408, 302.43408, ..., 302.1341 , 302.0341 ,\n",
       "          302.0341 ],\n",
       "         [302.6341 , 302.5341 , 302.43408, ..., 302.0341 , 301.93408,\n",
       "          301.93408]],\n",
       "\n",
       "        [[274.49997, 274.49997, 274.49997, ..., 279.9    , 279.99997,\n",
       "          279.99997],\n",
       "         [274.59998, 274.49997, 274.59998, ..., 279.99997, 280.09998,\n",
       "          280.09998],\n",
       "         [274.59998, 274.59998, 274.69998, ..., 279.8    , 279.9    ,\n",
       "          279.99997],\n",
       "         ...,\n",
       "         [302.49997, 302.4    , 302.4    , ..., 302.19998, 302.19998,\n",
       "          302.09998],\n",
       "         [302.19998, 302.4    , 302.4    , ..., 302.19998, 302.09998,\n",
       "          302.09998],\n",
       "         [302.59998, 302.4    , 302.4    , ..., 302.09998, 301.99997,\n",
       "          301.99997]],\n",
       "\n",
       "        [[274.5102 , 274.5102 , 274.5102 , ..., 279.6102 , 279.71017,\n",
       "          279.71017],\n",
       "         [274.6102 , 274.5102 , 274.6102 , ..., 279.71017, 279.9102 ,\n",
       "          279.9102 ],\n",
       "         [274.6102 , 274.6102 , 274.71017, ..., 279.81018, 279.9102 ,\n",
       "          280.0102 ],\n",
       "         ...,\n",
       "         [302.9102 , 302.5102 , 302.5102 , ..., 302.0102 , 301.9102 ,\n",
       "          301.9102 ],\n",
       "         [303.0102 , 302.71017, 302.6102 , ..., 302.0102 , 301.9102 ,\n",
       "          301.9102 ],\n",
       "         [303.1102 , 302.9102 , 302.5102 , ..., 301.9102 , 301.9102 ,\n",
       "          301.81018]],\n",
       "\n",
       "        ...,\n",
       "\n",
       "        [[274.79947, 274.79947, 274.79947, ..., 279.69946, 279.79947,\n",
       "          279.79947],\n",
       "         [274.79947, 274.79947, 274.89948, ..., 279.79947, 279.99948,\n",
       "          279.99948],\n",
       "         [274.89948, 274.89948, 274.89948, ..., 279.89948, 279.99948,\n",
       "          280.09946],\n",
       "         ...,\n",
       "         [302.19946, 302.19946, 302.19946, ..., 301.99948, 301.99948,\n",
       "          301.99948],\n",
       "         [301.49948, 302.19946, 302.19946, ..., 301.99948, 301.89948,\n",
       "          301.89948],\n",
       "         [302.39948, 302.29947, 302.19946, ..., 301.99948, 301.89948,\n",
       "          301.89948]],\n",
       "\n",
       "        [[274.7242 , 274.7242 , 274.7242 , ..., 279.7242 , 279.7242 ,\n",
       "          279.8242 ],\n",
       "         [274.9242 , 274.8242 , 274.9242 , ..., 279.8242 , 279.9242 ,\n",
       "          279.9242 ],\n",
       "         [275.0242 , 274.9242 , 274.9242 , ..., 279.9242 , 280.0242 ,\n",
       "          280.0242 ],\n",
       "         ...,\n",
       "         [302.2242 , 302.2242 , 302.2242 , ..., 302.1242 , 302.0242 ,\n",
       "          302.0242 ],\n",
       "         [301.3242 , 302.2242 , 302.2242 , ..., 302.0242 , 302.0242 ,\n",
       "          301.9242 ],\n",
       "         [302.3242 , 302.2242 , 302.2242 , ..., 302.0242 , 301.9242 ,\n",
       "          301.9242 ]],\n",
       "\n",
       "        [[274.93527, 274.93527, 274.83527, ..., 279.73526, 279.83527,\n",
       "          279.83527],\n",
       "         [274.93527, 274.93527, 274.93527, ..., 279.93527, 280.03525,\n",
       "          280.03525],\n",
       "         [275.03525, 275.03525, 275.13525, ..., 280.13525, 280.13525,\n",
       "          280.13525],\n",
       "         ...,\n",
       "         [302.23526, 302.23526, 302.23526, ..., 302.23526, 302.23526,\n",
       "          302.13525],\n",
       "         [301.53525, 302.23526, 302.23526, ..., 302.23526, 302.13525,\n",
       "          302.13525],\n",
       "         [302.33527, 302.23526, 302.23526, ..., 302.13525, 302.03525,\n",
       "          302.03525]]],\n",
       "\n",
       "\n",
       "       [[[      nan,       nan,       nan, ...,       nan,       nan,\n",
       "                nan],\n",
       "         [      nan,       nan,       nan, ...,       nan,       nan,\n",
       "                nan],\n",
       "         [      nan,       nan,       nan, ...,       nan,       nan,\n",
       "                nan],\n",
       "         ...,\n",
       "         [      nan,       nan,       nan, ...,       nan,       nan,\n",
       "                nan],\n",
       "         [      nan,       nan,       nan, ...,       nan,       nan,\n",
       "                nan],\n",
       "         [      nan,       nan,       nan, ...,       nan,       nan,\n",
       "                nan]],\n",
       "\n",
       "        [[271.9298 , 271.9498 , 271.9598 , ..., 280.1698 , 280.2098 ,\n",
       "          280.2498 ],\n",
       "         [272.0198 , 272.0698 , 272.0998 , ..., 280.3798 , 280.4498 ,\n",
       "          280.4998 ],\n",
       "         [272.2098 , 272.0998 , 272.0798 , ..., 280.5798 , 280.6098 ,\n",
       "          280.6398 ],\n",
       "         ...,\n",
       "         [298.8798 , 299.6898 , 299.7498 , ..., 301.4998 , 301.4798 ,\n",
       "          301.4398 ],\n",
       "         [298.55978, 299.2098 , 299.6798 , ..., 301.4198 , 301.4098 ,\n",
       "          301.3998 ],\n",
       "         [298.6398 , 299.3998 , 299.4598 , ..., 301.2498 , 301.2098 ,\n",
       "          301.2398 ]],\n",
       "\n",
       "        [[271.9272 , 271.94717, 271.9372 , ..., 280.16718, 280.20718,\n",
       "          280.2472 ],\n",
       "         [272.0272 , 272.06717, 272.10718, ..., 280.38718, 280.44717,\n",
       "          280.4972 ],\n",
       "         [272.20718, 272.09717, 272.07718, ..., 280.5572 , 280.60718,\n",
       "          280.6472 ],\n",
       "         ...,\n",
       "         [298.87717, 299.6872 , 299.6872 , ..., 301.40717, 301.34717,\n",
       "          301.28717],\n",
       "         [298.5572 , 299.16718, 299.25717, ..., 301.40717, 301.3072 ,\n",
       "          301.2472 ],\n",
       "         [298.62717, 299.2472 , 299.37717, ..., 301.2472 , 301.20718,\n",
       "          301.23718]],\n",
       "\n",
       "        ...,\n",
       "\n",
       "        [[273.7557 , 273.7657 , 273.7657 , ..., 277.1557 , 277.1957 ,\n",
       "          277.1957 ],\n",
       "         [273.8057 , 273.8457 , 273.8457 , ..., 277.2957 , 277.3157 ,\n",
       "          277.32568],\n",
       "         [273.8057 , 273.8457 , 273.8957 , ..., 277.3857 , 277.3757 ,\n",
       "          277.3757 ],\n",
       "         ...,\n",
       "         [300.7657 , 301.5957 , 301.9157 , ..., 300.9457 , 300.8757 ,\n",
       "          300.88568],\n",
       "         [300.38568, 301.4357 , 301.9357 , ..., 301.0357 , 300.9657 ,\n",
       "          300.9257 ],\n",
       "         [300.2557 , 301.3357 , 301.7957 , ..., 301.0257 , 300.9957 ,\n",
       "          300.9357 ]],\n",
       "\n",
       "        [[273.82196, 273.80194, 273.79196, ..., 277.48193, 277.34195,\n",
       "          277.25195],\n",
       "         [273.97195, 273.91196, 273.90195, ..., 277.66196, 277.56195,\n",
       "          277.53195],\n",
       "         [274.13196, 274.04196, 274.00195, ..., 277.82196, 277.76193,\n",
       "          277.77194],\n",
       "         ...,\n",
       "         [300.68195, 301.25195, 301.33194, ..., 301.01193, 301.03195,\n",
       "          300.98193],\n",
       "         [300.04196, 301.27194, 301.64194, ..., 301.04193, 300.96194,\n",
       "          300.91196],\n",
       "         [299.73193, 301.15195, 301.60196, ..., 300.99194, 300.92194,\n",
       "          300.86194]],\n",
       "\n",
       "        [[273.82196, 273.80194, 273.79196, ..., 277.48193, 277.34195,\n",
       "          277.25195],\n",
       "         [273.97195, 273.91196, 273.90195, ..., 277.66196, 277.56195,\n",
       "          277.53195],\n",
       "         [274.13196, 274.04196, 274.00195, ..., 277.82196, 277.76193,\n",
       "          277.77194],\n",
       "         ...,\n",
       "         [300.66196, 301.22195, 301.21194, ..., 301.01193, 301.03195,\n",
       "          300.98193],\n",
       "         [299.97195, 301.22195, 301.34195, ..., 301.01193, 300.96194,\n",
       "          300.91196],\n",
       "         [299.49194, 301.09195, 301.39194, ..., 300.99194, 300.92194,\n",
       "          300.86194]]],\n",
       "\n",
       "\n",
       "       [[[      nan,       nan,       nan, ...,       nan,       nan,\n",
       "                nan],\n",
       "         [      nan,       nan,       nan, ...,       nan,       nan,\n",
       "                nan],\n",
       "         [      nan,       nan,       nan, ...,       nan,       nan,\n",
       "                nan],\n",
       "         ...,\n",
       "         [      nan,       nan,       nan, ...,       nan,       nan,\n",
       "                nan],\n",
       "         [      nan,       nan,       nan, ...,       nan,       nan,\n",
       "                nan],\n",
       "         [      nan,       nan,       nan, ...,       nan,       nan,\n",
       "                nan]],\n",
       "\n",
       "        [[272.2739 , 272.2339 , 272.2039 , ..., 280.5439 , 280.5939 ,\n",
       "          280.6239 ],\n",
       "         [272.3539 , 272.3839 , 272.3939 , ..., 280.6739 , 280.7039 ,\n",
       "          280.7139 ],\n",
       "         [272.5139 , 272.4139 , 272.3939 , ..., 280.6939 , 280.7339 ,\n",
       "          280.8039 ],\n",
       "         ...,\n",
       "         [299.8339 , 299.9939 , 300.3639 , ..., 301.6039 , 301.5739 ,\n",
       "          301.5239 ],\n",
       "         [299.6239 , 299.8339 , 300.3039 , ..., 301.4939 , 301.5039 ,\n",
       "          301.5339 ],\n",
       "         [299.3139 , 299.8039 , 300.0239 , ..., 301.4239 , 301.4839 ,\n",
       "          301.5039 ]],\n",
       "\n",
       "        [[272.2945 , 272.2945 , 272.3145 , ..., 280.6545 , 280.6845 ,\n",
       "          280.7045 ],\n",
       "         [272.3945 , 272.4845 , 272.53452, ..., 280.8145 , 280.8445 ,\n",
       "          280.8545 ],\n",
       "         [272.5545 , 272.5545 , 272.5745 , ..., 280.8945 , 280.9345 ,\n",
       "          280.97452],\n",
       "         ...,\n",
       "         [301.4045 , 300.4345 , 300.3845 , ..., 301.6045 , 301.5745 ,\n",
       "          301.5245 ],\n",
       "         [300.9945 , 300.0145 , 300.3045 , ..., 301.5145 , 301.5145 ,\n",
       "          301.53452],\n",
       "         [299.8945 , 299.8245 , 300.0645 , ..., 301.4945 , 301.4945 ,\n",
       "          301.50452]],\n",
       "\n",
       "        ...,\n",
       "\n",
       "        [[      nan,       nan,       nan, ...,       nan,       nan,\n",
       "                nan],\n",
       "         [      nan,       nan,       nan, ...,       nan,       nan,\n",
       "                nan],\n",
       "         [      nan,       nan,       nan, ...,       nan,       nan,\n",
       "                nan],\n",
       "         ...,\n",
       "         [      nan,       nan,       nan, ...,       nan,       nan,\n",
       "                nan],\n",
       "         [      nan,       nan,       nan, ...,       nan,       nan,\n",
       "                nan],\n",
       "         [      nan,       nan,       nan, ...,       nan,       nan,\n",
       "                nan]],\n",
       "\n",
       "        [[      nan,       nan,       nan, ...,       nan,       nan,\n",
       "                nan],\n",
       "         [      nan,       nan,       nan, ...,       nan,       nan,\n",
       "                nan],\n",
       "         [      nan,       nan,       nan, ...,       nan,       nan,\n",
       "                nan],\n",
       "         ...,\n",
       "         [      nan,       nan,       nan, ...,       nan,       nan,\n",
       "                nan],\n",
       "         [      nan,       nan,       nan, ...,       nan,       nan,\n",
       "                nan],\n",
       "         [      nan,       nan,       nan, ...,       nan,       nan,\n",
       "                nan]],\n",
       "\n",
       "        [[      nan,       nan,       nan, ...,       nan,       nan,\n",
       "                nan],\n",
       "         [      nan,       nan,       nan, ...,       nan,       nan,\n",
       "                nan],\n",
       "         [      nan,       nan,       nan, ...,       nan,       nan,\n",
       "                nan],\n",
       "         ...,\n",
       "         [      nan,       nan,       nan, ...,       nan,       nan,\n",
       "                nan],\n",
       "         [      nan,       nan,       nan, ...,       nan,       nan,\n",
       "                nan],\n",
       "         [      nan,       nan,       nan, ...,       nan,       nan,\n",
       "                nan]]]], dtype=float32)\n",
       "Coordinates:\n",
       "  * lat      (lat) float64 -55.75 -55.5 -55.25 -55.0 ... -4.5 -4.25 -4.0 -3.75\n",
       "  * time     (time) datetime64[ns] 2020-11-25 2020-11-25T03:00:00 ... 2020-12-05\n",
       "  * lon      (lon) float64 106.0 106.2 106.5 106.8 ... 178.5 178.8 179.0 179.2\n",
       "  * height   (height) int64 0 10 20\n",
       "Attributes:\n",
       "    long_name:  ** surface temperature [k] </pre>"
      ],
      "text/plain": [
       "<xarray.DataArray 'tmpsfc' (height: 3, time: 81, lat: 209, lon: 294)>\n",
       "array([[[[274.43408, 274.43408, 274.43408, ..., 279.7341 , 279.83408,\n",
       "          279.83408],\n",
       "         [274.5341 , 274.5341 , 274.5341 , ..., 279.93408, 279.93408,\n",
       "          279.93408],\n",
       "         [274.6341 , 274.6341 , 274.7341 , ..., 279.93408, 280.0341 ,\n",
       "          280.1341 ],\n",
       "         ...,\n",
       "         [302.43408, 302.43408, 302.43408, ..., 302.1341 , 302.0341 ,\n",
       "          302.0341 ],\n",
       "         [301.7341 , 302.43408, 302.43408, ..., 302.1341 , 302.0341 ,\n",
       "          302.0341 ],\n",
       "         [302.6341 , 302.5341 , 302.43408, ..., 302.0341 , 301.93408,\n",
       "          301.93408]],\n",
       "\n",
       "        [[274.49997, 274.49997, 274.49997, ..., 279.9    , 279.99997,\n",
       "          279.99997],\n",
       "         [274.59998, 274.49997, 274.59998, ..., 279.99997, 280.09998,\n",
       "          280.09998],\n",
       "         [274.59998, 274.59998, 274.69998, ..., 279.8    , 279.9    ,\n",
       "          279.99997],\n",
       "         ...,\n",
       "         [302.49997, 302.4    , 302.4    , ..., 302.19998, 302.19998,\n",
       "          302.09998],\n",
       "         [302.19998, 302.4    , 302.4    , ..., 302.19998, 302.09998,\n",
       "          302.09998],\n",
       "         [302.59998, 302.4    , 302.4    , ..., 302.09998, 301.99997,\n",
       "          301.99997]],\n",
       "\n",
       "        [[274.5102 , 274.5102 , 274.5102 , ..., 279.6102 , 279.71017,\n",
       "          279.71017],\n",
       "         [274.6102 , 274.5102 , 274.6102 , ..., 279.71017, 279.9102 ,\n",
       "          279.9102 ],\n",
       "         [274.6102 , 274.6102 , 274.71017, ..., 279.81018, 279.9102 ,\n",
       "          280.0102 ],\n",
       "         ...,\n",
       "         [302.9102 , 302.5102 , 302.5102 , ..., 302.0102 , 301.9102 ,\n",
       "          301.9102 ],\n",
       "         [303.0102 , 302.71017, 302.6102 , ..., 302.0102 , 301.9102 ,\n",
       "          301.9102 ],\n",
       "         [303.1102 , 302.9102 , 302.5102 , ..., 301.9102 , 301.9102 ,\n",
       "          301.81018]],\n",
       "\n",
       "        ...,\n",
       "\n",
       "        [[274.79947, 274.79947, 274.79947, ..., 279.69946, 279.79947,\n",
       "          279.79947],\n",
       "         [274.79947, 274.79947, 274.89948, ..., 279.79947, 279.99948,\n",
       "          279.99948],\n",
       "         [274.89948, 274.89948, 274.89948, ..., 279.89948, 279.99948,\n",
       "          280.09946],\n",
       "         ...,\n",
       "         [302.19946, 302.19946, 302.19946, ..., 301.99948, 301.99948,\n",
       "          301.99948],\n",
       "         [301.49948, 302.19946, 302.19946, ..., 301.99948, 301.89948,\n",
       "          301.89948],\n",
       "         [302.39948, 302.29947, 302.19946, ..., 301.99948, 301.89948,\n",
       "          301.89948]],\n",
       "\n",
       "        [[274.7242 , 274.7242 , 274.7242 , ..., 279.7242 , 279.7242 ,\n",
       "          279.8242 ],\n",
       "         [274.9242 , 274.8242 , 274.9242 , ..., 279.8242 , 279.9242 ,\n",
       "          279.9242 ],\n",
       "         [275.0242 , 274.9242 , 274.9242 , ..., 279.9242 , 280.0242 ,\n",
       "          280.0242 ],\n",
       "         ...,\n",
       "         [302.2242 , 302.2242 , 302.2242 , ..., 302.1242 , 302.0242 ,\n",
       "          302.0242 ],\n",
       "         [301.3242 , 302.2242 , 302.2242 , ..., 302.0242 , 302.0242 ,\n",
       "          301.9242 ],\n",
       "         [302.3242 , 302.2242 , 302.2242 , ..., 302.0242 , 301.9242 ,\n",
       "          301.9242 ]],\n",
       "\n",
       "        [[274.93527, 274.93527, 274.83527, ..., 279.73526, 279.83527,\n",
       "          279.83527],\n",
       "         [274.93527, 274.93527, 274.93527, ..., 279.93527, 280.03525,\n",
       "          280.03525],\n",
       "         [275.03525, 275.03525, 275.13525, ..., 280.13525, 280.13525,\n",
       "          280.13525],\n",
       "         ...,\n",
       "         [302.23526, 302.23526, 302.23526, ..., 302.23526, 302.23526,\n",
       "          302.13525],\n",
       "         [301.53525, 302.23526, 302.23526, ..., 302.23526, 302.13525,\n",
       "          302.13525],\n",
       "         [302.33527, 302.23526, 302.23526, ..., 302.13525, 302.03525,\n",
       "          302.03525]]],\n",
       "\n",
       "\n",
       "       [[[      nan,       nan,       nan, ...,       nan,       nan,\n",
       "                nan],\n",
       "         [      nan,       nan,       nan, ...,       nan,       nan,\n",
       "                nan],\n",
       "         [      nan,       nan,       nan, ...,       nan,       nan,\n",
       "                nan],\n",
       "         ...,\n",
       "         [      nan,       nan,       nan, ...,       nan,       nan,\n",
       "                nan],\n",
       "         [      nan,       nan,       nan, ...,       nan,       nan,\n",
       "                nan],\n",
       "         [      nan,       nan,       nan, ...,       nan,       nan,\n",
       "                nan]],\n",
       "\n",
       "        [[271.9298 , 271.9498 , 271.9598 , ..., 280.1698 , 280.2098 ,\n",
       "          280.2498 ],\n",
       "         [272.0198 , 272.0698 , 272.0998 , ..., 280.3798 , 280.4498 ,\n",
       "          280.4998 ],\n",
       "         [272.2098 , 272.0998 , 272.0798 , ..., 280.5798 , 280.6098 ,\n",
       "          280.6398 ],\n",
       "         ...,\n",
       "         [298.8798 , 299.6898 , 299.7498 , ..., 301.4998 , 301.4798 ,\n",
       "          301.4398 ],\n",
       "         [298.55978, 299.2098 , 299.6798 , ..., 301.4198 , 301.4098 ,\n",
       "          301.3998 ],\n",
       "         [298.6398 , 299.3998 , 299.4598 , ..., 301.2498 , 301.2098 ,\n",
       "          301.2398 ]],\n",
       "\n",
       "        [[271.9272 , 271.94717, 271.9372 , ..., 280.16718, 280.20718,\n",
       "          280.2472 ],\n",
       "         [272.0272 , 272.06717, 272.10718, ..., 280.38718, 280.44717,\n",
       "          280.4972 ],\n",
       "         [272.20718, 272.09717, 272.07718, ..., 280.5572 , 280.60718,\n",
       "          280.6472 ],\n",
       "         ...,\n",
       "         [298.87717, 299.6872 , 299.6872 , ..., 301.40717, 301.34717,\n",
       "          301.28717],\n",
       "         [298.5572 , 299.16718, 299.25717, ..., 301.40717, 301.3072 ,\n",
       "          301.2472 ],\n",
       "         [298.62717, 299.2472 , 299.37717, ..., 301.2472 , 301.20718,\n",
       "          301.23718]],\n",
       "\n",
       "        ...,\n",
       "\n",
       "        [[273.7557 , 273.7657 , 273.7657 , ..., 277.1557 , 277.1957 ,\n",
       "          277.1957 ],\n",
       "         [273.8057 , 273.8457 , 273.8457 , ..., 277.2957 , 277.3157 ,\n",
       "          277.32568],\n",
       "         [273.8057 , 273.8457 , 273.8957 , ..., 277.3857 , 277.3757 ,\n",
       "          277.3757 ],\n",
       "         ...,\n",
       "         [300.7657 , 301.5957 , 301.9157 , ..., 300.9457 , 300.8757 ,\n",
       "          300.88568],\n",
       "         [300.38568, 301.4357 , 301.9357 , ..., 301.0357 , 300.9657 ,\n",
       "          300.9257 ],\n",
       "         [300.2557 , 301.3357 , 301.7957 , ..., 301.0257 , 300.9957 ,\n",
       "          300.9357 ]],\n",
       "\n",
       "        [[273.82196, 273.80194, 273.79196, ..., 277.48193, 277.34195,\n",
       "          277.25195],\n",
       "         [273.97195, 273.91196, 273.90195, ..., 277.66196, 277.56195,\n",
       "          277.53195],\n",
       "         [274.13196, 274.04196, 274.00195, ..., 277.82196, 277.76193,\n",
       "          277.77194],\n",
       "         ...,\n",
       "         [300.68195, 301.25195, 301.33194, ..., 301.01193, 301.03195,\n",
       "          300.98193],\n",
       "         [300.04196, 301.27194, 301.64194, ..., 301.04193, 300.96194,\n",
       "          300.91196],\n",
       "         [299.73193, 301.15195, 301.60196, ..., 300.99194, 300.92194,\n",
       "          300.86194]],\n",
       "\n",
       "        [[273.82196, 273.80194, 273.79196, ..., 277.48193, 277.34195,\n",
       "          277.25195],\n",
       "         [273.97195, 273.91196, 273.90195, ..., 277.66196, 277.56195,\n",
       "          277.53195],\n",
       "         [274.13196, 274.04196, 274.00195, ..., 277.82196, 277.76193,\n",
       "          277.77194],\n",
       "         ...,\n",
       "         [300.66196, 301.22195, 301.21194, ..., 301.01193, 301.03195,\n",
       "          300.98193],\n",
       "         [299.97195, 301.22195, 301.34195, ..., 301.01193, 300.96194,\n",
       "          300.91196],\n",
       "         [299.49194, 301.09195, 301.39194, ..., 300.99194, 300.92194,\n",
       "          300.86194]]],\n",
       "\n",
       "\n",
       "       [[[      nan,       nan,       nan, ...,       nan,       nan,\n",
       "                nan],\n",
       "         [      nan,       nan,       nan, ...,       nan,       nan,\n",
       "                nan],\n",
       "         [      nan,       nan,       nan, ...,       nan,       nan,\n",
       "                nan],\n",
       "         ...,\n",
       "         [      nan,       nan,       nan, ...,       nan,       nan,\n",
       "                nan],\n",
       "         [      nan,       nan,       nan, ...,       nan,       nan,\n",
       "                nan],\n",
       "         [      nan,       nan,       nan, ...,       nan,       nan,\n",
       "                nan]],\n",
       "\n",
       "        [[272.2739 , 272.2339 , 272.2039 , ..., 280.5439 , 280.5939 ,\n",
       "          280.6239 ],\n",
       "         [272.3539 , 272.3839 , 272.3939 , ..., 280.6739 , 280.7039 ,\n",
       "          280.7139 ],\n",
       "         [272.5139 , 272.4139 , 272.3939 , ..., 280.6939 , 280.7339 ,\n",
       "          280.8039 ],\n",
       "         ...,\n",
       "         [299.8339 , 299.9939 , 300.3639 , ..., 301.6039 , 301.5739 ,\n",
       "          301.5239 ],\n",
       "         [299.6239 , 299.8339 , 300.3039 , ..., 301.4939 , 301.5039 ,\n",
       "          301.5339 ],\n",
       "         [299.3139 , 299.8039 , 300.0239 , ..., 301.4239 , 301.4839 ,\n",
       "          301.5039 ]],\n",
       "\n",
       "        [[272.2945 , 272.2945 , 272.3145 , ..., 280.6545 , 280.6845 ,\n",
       "          280.7045 ],\n",
       "         [272.3945 , 272.4845 , 272.53452, ..., 280.8145 , 280.8445 ,\n",
       "          280.8545 ],\n",
       "         [272.5545 , 272.5545 , 272.5745 , ..., 280.8945 , 280.9345 ,\n",
       "          280.97452],\n",
       "         ...,\n",
       "         [301.4045 , 300.4345 , 300.3845 , ..., 301.6045 , 301.5745 ,\n",
       "          301.5245 ],\n",
       "         [300.9945 , 300.0145 , 300.3045 , ..., 301.5145 , 301.5145 ,\n",
       "          301.53452],\n",
       "         [299.8945 , 299.8245 , 300.0645 , ..., 301.4945 , 301.4945 ,\n",
       "          301.50452]],\n",
       "\n",
       "        ...,\n",
       "\n",
       "        [[      nan,       nan,       nan, ...,       nan,       nan,\n",
       "                nan],\n",
       "         [      nan,       nan,       nan, ...,       nan,       nan,\n",
       "                nan],\n",
       "         [      nan,       nan,       nan, ...,       nan,       nan,\n",
       "                nan],\n",
       "         ...,\n",
       "         [      nan,       nan,       nan, ...,       nan,       nan,\n",
       "                nan],\n",
       "         [      nan,       nan,       nan, ...,       nan,       nan,\n",
       "                nan],\n",
       "         [      nan,       nan,       nan, ...,       nan,       nan,\n",
       "                nan]],\n",
       "\n",
       "        [[      nan,       nan,       nan, ...,       nan,       nan,\n",
       "                nan],\n",
       "         [      nan,       nan,       nan, ...,       nan,       nan,\n",
       "                nan],\n",
       "         [      nan,       nan,       nan, ...,       nan,       nan,\n",
       "                nan],\n",
       "         ...,\n",
       "         [      nan,       nan,       nan, ...,       nan,       nan,\n",
       "                nan],\n",
       "         [      nan,       nan,       nan, ...,       nan,       nan,\n",
       "                nan],\n",
       "         [      nan,       nan,       nan, ...,       nan,       nan,\n",
       "                nan]],\n",
       "\n",
       "        [[      nan,       nan,       nan, ...,       nan,       nan,\n",
       "                nan],\n",
       "         [      nan,       nan,       nan, ...,       nan,       nan,\n",
       "                nan],\n",
       "         [      nan,       nan,       nan, ...,       nan,       nan,\n",
       "                nan],\n",
       "         ...,\n",
       "         [      nan,       nan,       nan, ...,       nan,       nan,\n",
       "                nan],\n",
       "         [      nan,       nan,       nan, ...,       nan,       nan,\n",
       "                nan],\n",
       "         [      nan,       nan,       nan, ...,       nan,       nan,\n",
       "                nan]]]], dtype=float32)\n",
       "Coordinates:\n",
       "  * lat      (lat) float64 -55.75 -55.5 -55.25 -55.0 ... -4.5 -4.25 -4.0 -3.75\n",
       "  * time     (time) datetime64[ns] 2020-11-25 2020-11-25T03:00:00 ... 2020-12-05\n",
       "  * lon      (lon) float64 106.0 106.2 106.5 106.8 ... 178.5 178.8 179.0 179.2\n",
       "  * height   (height) int64 0 10 20\n",
       "Attributes:\n",
       "    long_name:  ** surface temperature [k] "
      ]
     },
     "execution_count": 50,
     "metadata": {},
     "output_type": "execute_result"
    }
   ],
   "source": [
    "xr.concat([d1.tmpsfc, d3.tmin2m, d4.tmax2m], pd.Index([0,10,20], name = 'height'))"
   ]
  },
  {
   "cell_type": "markdown",
   "metadata": {},
   "source": [
    "Note: even though these arrays are off different shape, xarray was still able to concatenate them together."
   ]
  },
  {
   "cell_type": "markdown",
   "metadata": {
    "heading_collapsed": true
   },
   "source": [
    "# Resampling"
   ]
  },
  {
   "cell_type": "markdown",
   "metadata": {
    "hidden": true
   },
   "source": [
    "This is can be done in two ways: <b> groupby() </b> or <b> resample <b>."
   ]
  },
  {
   "cell_type": "code",
   "execution_count": 51,
   "metadata": {
    "hidden": true
   },
   "outputs": [
    {
     "data": {
      "text/html": [
       "<pre>&lt;xarray.Dataset&gt;\n",
       "Dimensions:  (lat: 209, lon: 294, time: 81)\n",
       "Coordinates:\n",
       "  * time     (time) datetime64[ns] 2020-11-25 2020-11-25T03:00:00 ... 2020-12-05\n",
       "  * lat      (lat) float64 -55.75 -55.5 -55.25 -55.0 ... -4.5 -4.25 -4.0 -3.75\n",
       "  * lon      (lon) float64 106.0 106.2 106.5 106.8 ... 178.5 178.8 179.0 179.2\n",
       "Data variables:\n",
       "    tmpsfc   (time, lat, lon) float32 274.43408 274.43408 ... 302.03525</pre>"
      ],
      "text/plain": [
       "<xarray.Dataset>\n",
       "Dimensions:  (lat: 209, lon: 294, time: 81)\n",
       "Coordinates:\n",
       "  * time     (time) datetime64[ns] 2020-11-25 2020-11-25T03:00:00 ... 2020-12-05\n",
       "  * lat      (lat) float64 -55.75 -55.5 -55.25 -55.0 ... -4.5 -4.25 -4.0 -3.75\n",
       "  * lon      (lon) float64 106.0 106.2 106.5 106.8 ... 178.5 178.8 179.0 179.2\n",
       "Data variables:\n",
       "    tmpsfc   (time, lat, lon) float32 274.43408 274.43408 ... 302.03525"
      ]
     },
     "execution_count": 51,
     "metadata": {},
     "output_type": "execute_result"
    }
   ],
   "source": [
    "d1"
   ]
  },
  {
   "cell_type": "code",
   "execution_count": 52,
   "metadata": {
    "hidden": true
   },
   "outputs": [
    {
     "data": {
      "text/html": [
       "<pre>&lt;xarray.Dataset&gt;\n",
       "Dimensions:  (day: 11, lat: 209, lon: 294)\n",
       "Coordinates:\n",
       "  * lat      (lat) float64 -55.75 -55.5 -55.25 -55.0 ... -4.5 -4.25 -4.0 -3.75\n",
       "  * lon      (lon) float64 106.0 106.2 106.5 106.8 ... 178.5 178.8 179.0 179.2\n",
       "  * day      (day) int64 1 2 3 4 5 25 26 27 28 29 30\n",
       "Data variables:\n",
       "    tmpsfc   (day, lat, lon) float32 274.96368 274.96365 ... 301.91666 301.90417</pre>"
      ],
      "text/plain": [
       "<xarray.Dataset>\n",
       "Dimensions:  (day: 11, lat: 209, lon: 294)\n",
       "Coordinates:\n",
       "  * lat      (lat) float64 -55.75 -55.5 -55.25 -55.0 ... -4.5 -4.25 -4.0 -3.75\n",
       "  * lon      (lon) float64 106.0 106.2 106.5 106.8 ... 178.5 178.8 179.0 179.2\n",
       "  * day      (day) int64 1 2 3 4 5 25 26 27 28 29 30\n",
       "Data variables:\n",
       "    tmpsfc   (day, lat, lon) float32 274.96368 274.96365 ... 301.91666 301.90417"
      ]
     },
     "execution_count": 52,
     "metadata": {},
     "output_type": "execute_result"
    }
   ],
   "source": [
    "# The average temperature each day.\n",
    "d1.groupby('time.day').mean(dim = 'time')"
   ]
  },
  {
   "cell_type": "code",
   "execution_count": 53,
   "metadata": {
    "hidden": true
   },
   "outputs": [
    {
     "data": {
      "text/html": [
       "<pre>&lt;xarray.Dataset&gt;\n",
       "Dimensions:  (lat: 209, lon: 294, time: 11)\n",
       "Coordinates:\n",
       "  * time     (time) datetime64[ns] 2020-11-25 2020-11-26 ... 2020-12-05\n",
       "  * lat      (lat) float64 -55.75 -55.5 -55.25 -55.0 ... -4.5 -4.25 -4.0 -3.75\n",
       "  * lon      (lon) float64 106.0 106.2 106.5 106.8 ... 178.5 178.8 179.0 179.2\n",
       "Data variables:\n",
       "    tmpsfc   (time, lat, lon) float32 274.47934 274.47934 ... 302.03525</pre>"
      ],
      "text/plain": [
       "<xarray.Dataset>\n",
       "Dimensions:  (lat: 209, lon: 294, time: 11)\n",
       "Coordinates:\n",
       "  * time     (time) datetime64[ns] 2020-11-25 2020-11-26 ... 2020-12-05\n",
       "  * lat      (lat) float64 -55.75 -55.5 -55.25 -55.0 ... -4.5 -4.25 -4.0 -3.75\n",
       "  * lon      (lon) float64 106.0 106.2 106.5 106.8 ... 178.5 178.8 179.0 179.2\n",
       "Data variables:\n",
       "    tmpsfc   (time, lat, lon) float32 274.47934 274.47934 ... 302.03525"
      ]
     },
     "execution_count": 53,
     "metadata": {},
     "output_type": "execute_result"
    }
   ],
   "source": [
    "# Also the everage temperature each day.\n",
    "d1.resample(time = 'D').mean()"
   ]
  },
  {
   "cell_type": "markdown",
   "metadata": {
    "hidden": true
   },
   "source": [
    "With this data it is hard to show the difference between the two approaches. However, with a longer dataset the differences would become more apparent. \n",
    "<br>\n",
    "* groupby('time.day').mean(dim = 'time') when applied to multiple years would group all the same days together (e.g 01-02-2008, 01-02-2009, 01-02-2020...) and take the mean this way.\n",
    "* resample(time = 'D').mean() finds the mean for each separate day."
   ]
  },
  {
   "cell_type": "markdown",
   "metadata": {
    "heading_collapsed": true
   },
   "source": [
    "# Applying Function to All Cells Individually"
   ]
  },
  {
   "cell_type": "markdown",
   "metadata": {
    "hidden": true
   },
   "source": [
    "This can be done by creating a function then vectorising the function."
   ]
  },
  {
   "cell_type": "code",
   "execution_count": 54,
   "metadata": {
    "hidden": true
   },
   "outputs": [],
   "source": [
    "def hot_or_not(temp):\n",
    "    if temp < (25 + 273):\n",
    "        return 'not hot'\n",
    "    if temp < (30 + 273):\n",
    "        return 'a smidgen hot'\n",
    "    return 'hot hot hot hot hot'"
   ]
  },
  {
   "cell_type": "code",
   "execution_count": 55,
   "metadata": {
    "hidden": true
   },
   "outputs": [],
   "source": [
    "hot_or_not_vec = np.vectorize(hot_or_not)"
   ]
  },
  {
   "cell_type": "code",
   "execution_count": 56,
   "metadata": {
    "hidden": true
   },
   "outputs": [
    {
     "data": {
      "text/plain": [
       "array([[['not hot', 'not hot', 'not hot', ..., 'not hot', 'not hot',\n",
       "         'not hot'],\n",
       "        ['not hot', 'not hot', 'not hot', ..., 'not hot', 'not hot',\n",
       "         'not hot'],\n",
       "        ['not hot', 'not hot', 'not hot', ..., 'not hot', 'not hot',\n",
       "         'not hot'],\n",
       "        ...,\n",
       "        ['a smidgen hot', 'a smidgen hot', 'a smidgen hot', ...,\n",
       "         'a smidgen hot', 'a smidgen hot', 'a smidgen hot'],\n",
       "        ['a smidgen hot', 'a smidgen hot', 'a smidgen hot', ...,\n",
       "         'a smidgen hot', 'a smidgen hot', 'a smidgen hot'],\n",
       "        ['a smidgen hot', 'a smidgen hot', 'a smidgen hot', ...,\n",
       "         'a smidgen hot', 'a smidgen hot', 'a smidgen hot']],\n",
       "\n",
       "       [['not hot', 'not hot', 'not hot', ..., 'not hot', 'not hot',\n",
       "         'not hot'],\n",
       "        ['not hot', 'not hot', 'not hot', ..., 'not hot', 'not hot',\n",
       "         'not hot'],\n",
       "        ['not hot', 'not hot', 'not hot', ..., 'not hot', 'not hot',\n",
       "         'not hot'],\n",
       "        ...,\n",
       "        ['a smidgen hot', 'a smidgen hot', 'a smidgen hot', ...,\n",
       "         'a smidgen hot', 'a smidgen hot', 'a smidgen hot'],\n",
       "        ['a smidgen hot', 'a smidgen hot', 'a smidgen hot', ...,\n",
       "         'a smidgen hot', 'a smidgen hot', 'a smidgen hot'],\n",
       "        ['a smidgen hot', 'a smidgen hot', 'a smidgen hot', ...,\n",
       "         'a smidgen hot', 'a smidgen hot', 'a smidgen hot']],\n",
       "\n",
       "       [['not hot', 'not hot', 'not hot', ..., 'not hot', 'not hot',\n",
       "         'not hot'],\n",
       "        ['not hot', 'not hot', 'not hot', ..., 'not hot', 'not hot',\n",
       "         'not hot'],\n",
       "        ['not hot', 'not hot', 'not hot', ..., 'not hot', 'not hot',\n",
       "         'not hot'],\n",
       "        ...,\n",
       "        ['a smidgen hot', 'a smidgen hot', 'a smidgen hot', ...,\n",
       "         'a smidgen hot', 'a smidgen hot', 'a smidgen hot'],\n",
       "        ['hot hot hot hot hot', 'a smidgen hot', 'a smidgen hot', ...,\n",
       "         'a smidgen hot', 'a smidgen hot', 'a smidgen hot'],\n",
       "        ['hot hot hot hot hot', 'a smidgen hot', 'a smidgen hot', ...,\n",
       "         'a smidgen hot', 'a smidgen hot', 'a smidgen hot']],\n",
       "\n",
       "       ...,\n",
       "\n",
       "       [['not hot', 'not hot', 'not hot', ..., 'not hot', 'not hot',\n",
       "         'not hot'],\n",
       "        ['not hot', 'not hot', 'not hot', ..., 'not hot', 'not hot',\n",
       "         'not hot'],\n",
       "        ['not hot', 'not hot', 'not hot', ..., 'not hot', 'not hot',\n",
       "         'not hot'],\n",
       "        ...,\n",
       "        ['a smidgen hot', 'a smidgen hot', 'a smidgen hot', ...,\n",
       "         'a smidgen hot', 'a smidgen hot', 'a smidgen hot'],\n",
       "        ['a smidgen hot', 'a smidgen hot', 'a smidgen hot', ...,\n",
       "         'a smidgen hot', 'a smidgen hot', 'a smidgen hot'],\n",
       "        ['a smidgen hot', 'a smidgen hot', 'a smidgen hot', ...,\n",
       "         'a smidgen hot', 'a smidgen hot', 'a smidgen hot']],\n",
       "\n",
       "       [['not hot', 'not hot', 'not hot', ..., 'not hot', 'not hot',\n",
       "         'not hot'],\n",
       "        ['not hot', 'not hot', 'not hot', ..., 'not hot', 'not hot',\n",
       "         'not hot'],\n",
       "        ['not hot', 'not hot', 'not hot', ..., 'not hot', 'not hot',\n",
       "         'not hot'],\n",
       "        ...,\n",
       "        ['a smidgen hot', 'a smidgen hot', 'a smidgen hot', ...,\n",
       "         'a smidgen hot', 'a smidgen hot', 'a smidgen hot'],\n",
       "        ['a smidgen hot', 'a smidgen hot', 'a smidgen hot', ...,\n",
       "         'a smidgen hot', 'a smidgen hot', 'a smidgen hot'],\n",
       "        ['a smidgen hot', 'a smidgen hot', 'a smidgen hot', ...,\n",
       "         'a smidgen hot', 'a smidgen hot', 'a smidgen hot']],\n",
       "\n",
       "       [['not hot', 'not hot', 'not hot', ..., 'not hot', 'not hot',\n",
       "         'not hot'],\n",
       "        ['not hot', 'not hot', 'not hot', ..., 'not hot', 'not hot',\n",
       "         'not hot'],\n",
       "        ['not hot', 'not hot', 'not hot', ..., 'not hot', 'not hot',\n",
       "         'not hot'],\n",
       "        ...,\n",
       "        ['a smidgen hot', 'a smidgen hot', 'a smidgen hot', ...,\n",
       "         'a smidgen hot', 'a smidgen hot', 'a smidgen hot'],\n",
       "        ['a smidgen hot', 'a smidgen hot', 'a smidgen hot', ...,\n",
       "         'a smidgen hot', 'a smidgen hot', 'a smidgen hot'],\n",
       "        ['a smidgen hot', 'a smidgen hot', 'a smidgen hot', ...,\n",
       "         'a smidgen hot', 'a smidgen hot', 'a smidgen hot']]],\n",
       "      dtype='<U19')"
      ]
     },
     "execution_count": 56,
     "metadata": {},
     "output_type": "execute_result"
    }
   ],
   "source": [
    "hot_or_not_vec(d1.tmpsfc)"
   ]
  },
  {
   "cell_type": "markdown",
   "metadata": {},
   "source": [
    "# Applying Function Along Axis (e.g. trends and spearman correlation)"
   ]
  },
  {
   "cell_type": "markdown",
   "metadata": {
    "heading_collapsed": true
   },
   "source": [
    "## Linear Trends"
   ]
  },
  {
   "cell_type": "markdown",
   "metadata": {
    "hidden": true
   },
   "source": [
    "This is done using the np.apply_along axis. This requires a few more steps than the other methods that have been used previously. \n",
    "https://numpy.org/doc/stable/reference/generated/numpy.apply_along_axis.html"
   ]
  },
  {
   "cell_type": "markdown",
   "metadata": {
    "hidden": true
   },
   "source": [
    "np.apply_along_axis takes several arguments. These arguments, in order are:\n",
    "* a function that will be applied along an axis (e.g the linear trends)\n",
    "* the number of the axis that it will be applied along\n",
    "* the data that you will be applying it to\n",
    "* an extra info (e.g. if we are using it for linear trends then this is where the time values might go into the function)"
   ]
  },
  {
   "cell_type": "markdown",
   "metadata": {
    "hidden": true
   },
   "source": [
    "The example below will be for calculating the trend of our data set. As are data set is just random temperature values then we will not be expecting any trend."
   ]
  },
  {
   "cell_type": "code",
   "execution_count": 57,
   "metadata": {
    "hidden": true
   },
   "outputs": [
    {
     "data": {
      "text/html": [
       "<pre>&lt;xarray.Dataset&gt;\n",
       "Dimensions:  (lat: 209, lon: 294, time: 81)\n",
       "Coordinates:\n",
       "  * time     (time) datetime64[ns] 2020-11-25 2020-11-25T03:00:00 ... 2020-12-05\n",
       "  * lat      (lat) float64 -55.75 -55.5 -55.25 -55.0 ... -4.5 -4.25 -4.0 -3.75\n",
       "  * lon      (lon) float64 106.0 106.2 106.5 106.8 ... 178.5 178.8 179.0 179.2\n",
       "Data variables:\n",
       "    tmpsfc   (time, lat, lon) float32 274.43408 274.43408 ... 302.03525</pre>"
      ],
      "text/plain": [
       "<xarray.Dataset>\n",
       "Dimensions:  (lat: 209, lon: 294, time: 81)\n",
       "Coordinates:\n",
       "  * time     (time) datetime64[ns] 2020-11-25 2020-11-25T03:00:00 ... 2020-12-05\n",
       "  * lat      (lat) float64 -55.75 -55.5 -55.25 -55.0 ... -4.5 -4.25 -4.0 -3.75\n",
       "  * lon      (lon) float64 106.0 106.2 106.5 106.8 ... 178.5 178.8 179.0 179.2\n",
       "Data variables:\n",
       "    tmpsfc   (time, lat, lon) float32 274.43408 274.43408 ... 302.03525"
      ]
     },
     "execution_count": 57,
     "metadata": {},
     "output_type": "execute_result"
    }
   ],
   "source": [
    "d1"
   ]
  },
  {
   "cell_type": "code",
   "execution_count": 58,
   "metadata": {
    "hidden": true
   },
   "outputs": [],
   "source": [
    "# This is the function that will be fed into our np.apply_along_axis. This function has seveal additions that\n",
    "# wil help it run more smoothly. \n",
    "def grid_trend(temp,time):\n",
    "    # The first part is looking at if the whole dimension is nan values. This is useful\n",
    "    # if you have ocean points in your data set which will have nan values for every point.\n",
    "    # If this is not applied it will break.\n",
    "    if np.all(np.isnan(temp)):\n",
    "        return float('nan')\n",
    "    \n",
    "    # There may also be a few nan values here and there. We also want to remove them by \n",
    "    # looking at when both the temp and time points are finite (e.g. not nan).\n",
    "    idx = np.isfinite(temp) & np.isfinite(time)\n",
    "    temp = temp[idx]\n",
    "    time = time[idx]\n",
    "    # Now appplying the polyfit and just returning the gradient of the line using [0]\n",
    "    grad = np.polyfit(time, temp,1)[0] \n",
    "    \n",
    "    return grad"
   ]
  },
  {
   "cell_type": "code",
   "execution_count": 59,
   "metadata": {
    "hidden": true
   },
   "outputs": [
    {
     "data": {
      "text/html": [
       "<pre>&lt;xarray.Dataset&gt;\n",
       "Dimensions:  (lat: 209, lon: 294, time: 81)\n",
       "Coordinates:\n",
       "  * time     (time) datetime64[ns] 2020-11-25 2020-11-25T03:00:00 ... 2020-12-05\n",
       "  * lat      (lat) float64 -55.75 -55.5 -55.25 -55.0 ... -4.5 -4.25 -4.0 -3.75\n",
       "  * lon      (lon) float64 106.0 106.2 106.5 106.8 ... 178.5 178.8 179.0 179.2\n",
       "Data variables:\n",
       "    tmpsfc   (time, lat, lon) float32 274.43408 274.43408 ... 302.03525</pre>"
      ],
      "text/plain": [
       "<xarray.Dataset>\n",
       "Dimensions:  (lat: 209, lon: 294, time: 81)\n",
       "Coordinates:\n",
       "  * time     (time) datetime64[ns] 2020-11-25 2020-11-25T03:00:00 ... 2020-12-05\n",
       "  * lat      (lat) float64 -55.75 -55.5 -55.25 -55.0 ... -4.5 -4.25 -4.0 -3.75\n",
       "  * lon      (lon) float64 106.0 106.2 106.5 106.8 ... 178.5 178.8 179.0 179.2\n",
       "Data variables:\n",
       "    tmpsfc   (time, lat, lon) float32 274.43408 274.43408 ... 302.03525"
      ]
     },
     "execution_count": 59,
     "metadata": {},
     "output_type": "execute_result"
    }
   ],
   "source": [
    "d1"
   ]
  },
  {
   "cell_type": "code",
   "execution_count": null,
   "metadata": {
    "hidden": true
   },
   "outputs": [],
   "source": [
    "\n",
    "\n",
    "\n"
   ]
  },
  {
   "cell_type": "code",
   "execution_count": 60,
   "metadata": {
    "hidden": true
   },
   "outputs": [
    {
     "data": {
      "text/plain": [
       "0"
      ]
     },
     "execution_count": 60,
     "metadata": {},
     "output_type": "execute_result"
    }
   ],
   "source": [
    "# Getting the axis number. \n",
    "axis_num = d1.tmpsfc.get_axis_num('time')\n",
    "axis_num"
   ]
  },
  {
   "cell_type": "markdown",
   "metadata": {
    "hidden": true
   },
   "source": [
    "As you can see the axis number of time is 0. Looking at the d1 data set in the data variables section we can see than we have tmpsfc (time, lat, lon). time is the 0 axis as it is in the 0 position for this data set. lat will be one and lon will be 2. "
   ]
  },
  {
   "cell_type": "markdown",
   "metadata": {
    "hidden": true
   },
   "source": [
    "* note: in the function below because we have time stamps we can not use this in the linear regression. If we had just a float values we could do this, but we have timestamps. Instead then we will just put some filler x values. All that really matters is that they are spaces 1 unit appart."
   ]
  },
  {
   "cell_type": "code",
   "execution_count": 61,
   "metadata": {
    "hidden": true
   },
   "outputs": [
    {
     "data": {
      "text/plain": [
       "array([ 0,  1,  2,  3,  4,  5,  6,  7,  8,  9, 10, 11, 12, 13, 14, 15, 16,\n",
       "       17, 18, 19, 20, 21, 22, 23, 24, 25, 26, 27, 28, 29, 30, 31, 32, 33,\n",
       "       34, 35, 36, 37, 38, 39, 40, 41, 42, 43, 44, 45, 46, 47, 48, 49, 50,\n",
       "       51, 52, 53, 54, 55, 56, 57, 58, 59, 60, 61, 62, 63, 64, 65, 66, 67,\n",
       "       68, 69, 70, 71, 72, 73, 74, 75, 76, 77, 78, 79, 80])"
      ]
     },
     "execution_count": 61,
     "metadata": {},
     "output_type": "execute_result"
    }
   ],
   "source": [
    "time = np.arange(len(d1.time.values))\n",
    "time"
   ]
  },
  {
   "cell_type": "code",
   "execution_count": 62,
   "metadata": {
    "hidden": true
   },
   "outputs": [
    {
     "data": {
      "text/plain": [
       "array([[ 4.39747618e-03,  4.44948288e-03,  4.27549615e-03, ...,\n",
       "         1.06069604e-03,  1.10596723e-03,  1.45259261e-03],\n",
       "       [ 4.10831868e-03,  4.44148338e-03,  4.26302999e-03, ...,\n",
       "         9.24156761e-04,  1.37012003e-03,  1.60727083e-03],\n",
       "       [ 4.06991120e-03,  4.28336815e-03,  4.33083580e-03, ...,\n",
       "         1.40511531e-03,  1.38140354e-03,  1.40731729e-03],\n",
       "       ...,\n",
       "       [-2.63389718e-03, -1.98575152e-03, -1.94959494e-03, ...,\n",
       "        -4.43370512e-04, -4.71567569e-04, -2.53623266e-04],\n",
       "       [-1.56808662e-03, -3.25155284e-03, -2.26806255e-03, ...,\n",
       "        -6.61288626e-04, -1.54259879e-04, -6.95239776e-05],\n",
       "       [-3.57113970e-03, -3.94148099e-03, -2.94219295e-03, ...,\n",
       "        -1.37344264e-04, -1.45171458e-04,  8.62838345e-05]])"
      ]
     },
     "execution_count": 62,
     "metadata": {},
     "output_type": "execute_result"
    }
   ],
   "source": [
    "'''Applying trends along each grid cell'''\n",
    "trend_meta = np.apply_along_axis(grid_trend, # The function to be applied \n",
    "                                axis_num, # The axis number (could have just put 0 here, but automation)\n",
    "                                arr = d1.tmpsfc.values, # the d1 values\n",
    "                                time = time) # The filler equally space\n",
    "trend_meta"
   ]
  },
  {
   "cell_type": "code",
   "execution_count": 63,
   "metadata": {
    "hidden": true
   },
   "outputs": [
    {
     "data": {
      "text/plain": [
       "(209, 294)"
      ]
     },
     "execution_count": 63,
     "metadata": {},
     "output_type": "execute_result"
    }
   ],
   "source": [
    "trend_meta.shape"
   ]
  },
  {
   "cell_type": "code",
   "execution_count": 64,
   "metadata": {
    "hidden": true
   },
   "outputs": [
    {
     "data": {
      "text/html": [
       "<pre>&lt;xarray.Dataset&gt;\n",
       "Dimensions:  (lat: 209, lon: 294)\n",
       "Coordinates:\n",
       "  * lat      (lat) float64 -55.75 -55.5 -55.25 -55.0 ... -4.5 -4.25 -4.0 -3.75\n",
       "  * lon      (lon) float64 106.0 106.2 106.5 106.8 ... 178.5 178.8 179.0 179.2\n",
       "Data variables:\n",
       "    trend    (lat, lon) float64 0.004397 0.004449 ... -0.0001452 8.628e-05</pre>"
      ],
      "text/plain": [
       "<xarray.Dataset>\n",
       "Dimensions:  (lat: 209, lon: 294)\n",
       "Coordinates:\n",
       "  * lat      (lat) float64 -55.75 -55.5 -55.25 -55.0 ... -4.5 -4.25 -4.0 -3.75\n",
       "  * lon      (lon) float64 106.0 106.2 106.5 106.8 ... 178.5 178.8 179.0 179.2\n",
       "Data variables:\n",
       "    trend    (lat, lon) float64 0.004397 0.004449 ... -0.0001452 8.628e-05"
      ]
     },
     "execution_count": 64,
     "metadata": {},
     "output_type": "execute_result"
    }
   ],
   "source": [
    "\n",
    "# np.apply_along_axis is a numpy method and not an xarray method, and thus will return a \n",
    "# numpy array and not an xarray d1 set. Thus we must read back into xarray. \n",
    "'''Turning into an xarray d1set'''\n",
    "trend  = xr.Dataset(\n",
    "    {'trend':(('lat','lon'), trend_meta)},\n",
    "\n",
    "    {\n",
    "     'lat':d1.lat,\n",
    "    'lon':d1.lon}\n",
    ")\n",
    "\n",
    "trend"
   ]
  },
  {
   "cell_type": "markdown",
   "metadata": {
    "hidden": true
   },
   "source": [
    "Thus we not have our trend data set :)"
   ]
  },
  {
   "cell_type": "markdown",
   "metadata": {},
   "source": [
    "## Spearman Correlation."
   ]
  },
  {
   "cell_type": "code",
   "execution_count": 65,
   "metadata": {},
   "outputs": [],
   "source": [
    "from scipy.stats import spearmanr"
   ]
  },
  {
   "cell_type": "markdown",
   "metadata": {},
   "source": [
    "This gets a little trickier with the spearman correlation"
   ]
  },
  {
   "cell_type": "code",
   "execution_count": 66,
   "metadata": {},
   "outputs": [
    {
     "data": {
      "text/html": [
       "<pre>&lt;xarray.Dataset&gt;\n",
       "Dimensions:  (lat: 209, lon: 294, time: 81)\n",
       "Coordinates:\n",
       "  * time     (time) datetime64[ns] 2020-11-25 2020-11-25T03:00:00 ... 2020-12-05\n",
       "  * lat      (lat) float64 -55.75 -55.5 -55.25 -55.0 ... -4.5 -4.25 -4.0 -3.75\n",
       "  * lon      (lon) float64 106.0 106.2 106.5 106.8 ... 178.5 178.8 179.0 179.2\n",
       "Data variables:\n",
       "    tmpsfc   (time, lat, lon) float32 274.43408 274.43408 ... 302.03525</pre>"
      ],
      "text/plain": [
       "<xarray.Dataset>\n",
       "Dimensions:  (lat: 209, lon: 294, time: 81)\n",
       "Coordinates:\n",
       "  * time     (time) datetime64[ns] 2020-11-25 2020-11-25T03:00:00 ... 2020-12-05\n",
       "  * lat      (lat) float64 -55.75 -55.5 -55.25 -55.0 ... -4.5 -4.25 -4.0 -3.75\n",
       "  * lon      (lon) float64 106.0 106.2 106.5 106.8 ... 178.5 178.8 179.0 179.2\n",
       "Data variables:\n",
       "    tmpsfc   (time, lat, lon) float32 274.43408 274.43408 ... 302.03525"
      ]
     },
     "execution_count": 66,
     "metadata": {},
     "output_type": "execute_result"
    }
   ],
   "source": [
    "d1"
   ]
  },
  {
   "cell_type": "code",
   "execution_count": 67,
   "metadata": {},
   "outputs": [
    {
     "data": {
      "text/html": [
       "<pre>&lt;xarray.Dataset&gt;\n",
       "Dimensions:  (lat: 209, lon: 294, time: 81)\n",
       "Coordinates:\n",
       "  * time     (time) datetime64[ns] 2020-11-25 2020-11-25T03:00:00 ... 2020-12-05\n",
       "  * lat      (lat) float64 -55.75 -55.5 -55.25 -55.0 ... -4.5 -4.25 -4.0 -3.75\n",
       "  * lon      (lon) float64 106.0 106.2 106.5 106.8 ... 178.5 178.8 179.0 179.2\n",
       "Data variables:\n",
       "    tmin2m   (time, lat, lon) float32 nan nan nan ... 300.92194 300.86194</pre>"
      ],
      "text/plain": [
       "<xarray.Dataset>\n",
       "Dimensions:  (lat: 209, lon: 294, time: 81)\n",
       "Coordinates:\n",
       "  * time     (time) datetime64[ns] 2020-11-25 2020-11-25T03:00:00 ... 2020-12-05\n",
       "  * lat      (lat) float64 -55.75 -55.5 -55.25 -55.0 ... -4.5 -4.25 -4.0 -3.75\n",
       "  * lon      (lon) float64 106.0 106.2 106.5 106.8 ... 178.5 178.8 179.0 179.2\n",
       "Data variables:\n",
       "    tmin2m   (time, lat, lon) float32 nan nan nan ... 300.92194 300.86194"
      ]
     },
     "execution_count": 67,
     "metadata": {},
     "output_type": "execute_result"
    }
   ],
   "source": [
    "d3"
   ]
  },
  {
   "cell_type": "markdown",
   "metadata": {},
   "source": [
    "Say we wanted to see how the surface temperature (tmpsfc) and the min 2m temperature (tmin2m) correlated but with the non-parametric spearman correlation. This gets a little harder as the np.apply_along_axis can only take one array that we specify the axis number. We could always do this with for loops, but that is not in the true spirit of python (sometime needed though). So what we will instead do is merge the two data sets together and then split down the middle in the function (I know, weird)."
   ]
  },
  {
   "cell_type": "code",
   "execution_count": 68,
   "metadata": {},
   "outputs": [],
   "source": [
    "# This is the function we will be using in our np.apply_along_axis function now. \n",
    "\n",
    "def helper(x, len_a):\n",
    "    # split x into 'a' and 'b' parts\n",
    "    \n",
    "    # Splitting into the two parts. This could also just be split in half\n",
    "    # as  for correlation to work you need equal data sets anyway. But hey, show casing some other stuff\n",
    "    # by doing it this way.\n",
    "    xa = x[0:len_a]\n",
    "    xb = x[len_a:]\n",
    "    \n",
    "\n",
    "    corr,sig = spearmanr(xa,xb, nan_policy = 'omit')\n",
    "    \n",
    "    return corr, sig"
   ]
  },
  {
   "cell_type": "code",
   "execution_count": 69,
   "metadata": {},
   "outputs": [
    {
     "data": {
      "text/plain": [
       "81"
      ]
     },
     "execution_count": 69,
     "metadata": {},
     "output_type": "execute_result"
    }
   ],
   "source": [
    "# THis is concating the two different datasets into the one xarry file. They will be split down the middle\n",
    "# later on.\n",
    "len_a = len(d1.tmpsfc['time'])\n",
    "len_a"
   ]
  },
  {
   "cell_type": "code",
   "execution_count": 70,
   "metadata": {},
   "outputs": [
    {
     "data": {
      "text/html": [
       "<pre>&lt;xarray.DataArray &#x27;tmpsfc&#x27; (time: 162, lat: 209, lon: 294)&gt;\n",
       "array([[[274.43408, 274.43408, 274.43408, ..., 279.7341 , 279.83408,\n",
       "         279.83408],\n",
       "        [274.5341 , 274.5341 , 274.5341 , ..., 279.93408, 279.93408,\n",
       "         279.93408],\n",
       "        [274.6341 , 274.6341 , 274.7341 , ..., 279.93408, 280.0341 ,\n",
       "         280.1341 ],\n",
       "        ...,\n",
       "        [302.43408, 302.43408, 302.43408, ..., 302.1341 , 302.0341 ,\n",
       "         302.0341 ],\n",
       "        [301.7341 , 302.43408, 302.43408, ..., 302.1341 , 302.0341 ,\n",
       "         302.0341 ],\n",
       "        [302.6341 , 302.5341 , 302.43408, ..., 302.0341 , 301.93408,\n",
       "         301.93408]],\n",
       "\n",
       "       [[274.49997, 274.49997, 274.49997, ..., 279.9    , 279.99997,\n",
       "         279.99997],\n",
       "        [274.59998, 274.49997, 274.59998, ..., 279.99997, 280.09998,\n",
       "         280.09998],\n",
       "        [274.59998, 274.59998, 274.69998, ..., 279.8    , 279.9    ,\n",
       "         279.99997],\n",
       "        ...,\n",
       "        [302.49997, 302.4    , 302.4    , ..., 302.19998, 302.19998,\n",
       "         302.09998],\n",
       "        [302.19998, 302.4    , 302.4    , ..., 302.19998, 302.09998,\n",
       "         302.09998],\n",
       "        [302.59998, 302.4    , 302.4    , ..., 302.09998, 301.99997,\n",
       "         301.99997]],\n",
       "\n",
       "       [[274.5102 , 274.5102 , 274.5102 , ..., 279.6102 , 279.71017,\n",
       "         279.71017],\n",
       "        [274.6102 , 274.5102 , 274.6102 , ..., 279.71017, 279.9102 ,\n",
       "         279.9102 ],\n",
       "        [274.6102 , 274.6102 , 274.71017, ..., 279.81018, 279.9102 ,\n",
       "         280.0102 ],\n",
       "        ...,\n",
       "        [302.9102 , 302.5102 , 302.5102 , ..., 302.0102 , 301.9102 ,\n",
       "         301.9102 ],\n",
       "        [303.0102 , 302.71017, 302.6102 , ..., 302.0102 , 301.9102 ,\n",
       "         301.9102 ],\n",
       "        [303.1102 , 302.9102 , 302.5102 , ..., 301.9102 , 301.9102 ,\n",
       "         301.81018]],\n",
       "\n",
       "       ...,\n",
       "\n",
       "       [[273.7557 , 273.7657 , 273.7657 , ..., 277.1557 , 277.1957 ,\n",
       "         277.1957 ],\n",
       "        [273.8057 , 273.8457 , 273.8457 , ..., 277.2957 , 277.3157 ,\n",
       "         277.32568],\n",
       "        [273.8057 , 273.8457 , 273.8957 , ..., 277.3857 , 277.3757 ,\n",
       "         277.3757 ],\n",
       "        ...,\n",
       "        [300.7657 , 301.5957 , 301.9157 , ..., 300.9457 , 300.8757 ,\n",
       "         300.88568],\n",
       "        [300.38568, 301.4357 , 301.9357 , ..., 301.0357 , 300.9657 ,\n",
       "         300.9257 ],\n",
       "        [300.2557 , 301.3357 , 301.7957 , ..., 301.0257 , 300.9957 ,\n",
       "         300.9357 ]],\n",
       "\n",
       "       [[273.82196, 273.80194, 273.79196, ..., 277.48193, 277.34195,\n",
       "         277.25195],\n",
       "        [273.97195, 273.91196, 273.90195, ..., 277.66196, 277.56195,\n",
       "         277.53195],\n",
       "        [274.13196, 274.04196, 274.00195, ..., 277.82196, 277.76193,\n",
       "         277.77194],\n",
       "        ...,\n",
       "        [300.68195, 301.25195, 301.33194, ..., 301.01193, 301.03195,\n",
       "         300.98193],\n",
       "        [300.04196, 301.27194, 301.64194, ..., 301.04193, 300.96194,\n",
       "         300.91196],\n",
       "        [299.73193, 301.15195, 301.60196, ..., 300.99194, 300.92194,\n",
       "         300.86194]],\n",
       "\n",
       "       [[273.82196, 273.80194, 273.79196, ..., 277.48193, 277.34195,\n",
       "         277.25195],\n",
       "        [273.97195, 273.91196, 273.90195, ..., 277.66196, 277.56195,\n",
       "         277.53195],\n",
       "        [274.13196, 274.04196, 274.00195, ..., 277.82196, 277.76193,\n",
       "         277.77194],\n",
       "        ...,\n",
       "        [300.66196, 301.22195, 301.21194, ..., 301.01193, 301.03195,\n",
       "         300.98193],\n",
       "        [299.97195, 301.22195, 301.34195, ..., 301.01193, 300.96194,\n",
       "         300.91196],\n",
       "        [299.49194, 301.09195, 301.39194, ..., 300.99194, 300.92194,\n",
       "         300.86194]]], dtype=float32)\n",
       "Coordinates:\n",
       "  * lat      (lat) float64 -55.75 -55.5 -55.25 -55.0 ... -4.5 -4.25 -4.0 -3.75\n",
       "  * lon      (lon) float64 106.0 106.2 106.5 106.8 ... 178.5 178.8 179.0 179.2\n",
       "  * time     (time) datetime64[ns] 2020-11-25 2020-11-25T03:00:00 ... 2020-12-05\n",
       "Attributes:\n",
       "    long_name:  ** surface temperature [k] </pre>"
      ],
      "text/plain": [
       "<xarray.DataArray 'tmpsfc' (time: 162, lat: 209, lon: 294)>\n",
       "array([[[274.43408, 274.43408, 274.43408, ..., 279.7341 , 279.83408,\n",
       "         279.83408],\n",
       "        [274.5341 , 274.5341 , 274.5341 , ..., 279.93408, 279.93408,\n",
       "         279.93408],\n",
       "        [274.6341 , 274.6341 , 274.7341 , ..., 279.93408, 280.0341 ,\n",
       "         280.1341 ],\n",
       "        ...,\n",
       "        [302.43408, 302.43408, 302.43408, ..., 302.1341 , 302.0341 ,\n",
       "         302.0341 ],\n",
       "        [301.7341 , 302.43408, 302.43408, ..., 302.1341 , 302.0341 ,\n",
       "         302.0341 ],\n",
       "        [302.6341 , 302.5341 , 302.43408, ..., 302.0341 , 301.93408,\n",
       "         301.93408]],\n",
       "\n",
       "       [[274.49997, 274.49997, 274.49997, ..., 279.9    , 279.99997,\n",
       "         279.99997],\n",
       "        [274.59998, 274.49997, 274.59998, ..., 279.99997, 280.09998,\n",
       "         280.09998],\n",
       "        [274.59998, 274.59998, 274.69998, ..., 279.8    , 279.9    ,\n",
       "         279.99997],\n",
       "        ...,\n",
       "        [302.49997, 302.4    , 302.4    , ..., 302.19998, 302.19998,\n",
       "         302.09998],\n",
       "        [302.19998, 302.4    , 302.4    , ..., 302.19998, 302.09998,\n",
       "         302.09998],\n",
       "        [302.59998, 302.4    , 302.4    , ..., 302.09998, 301.99997,\n",
       "         301.99997]],\n",
       "\n",
       "       [[274.5102 , 274.5102 , 274.5102 , ..., 279.6102 , 279.71017,\n",
       "         279.71017],\n",
       "        [274.6102 , 274.5102 , 274.6102 , ..., 279.71017, 279.9102 ,\n",
       "         279.9102 ],\n",
       "        [274.6102 , 274.6102 , 274.71017, ..., 279.81018, 279.9102 ,\n",
       "         280.0102 ],\n",
       "        ...,\n",
       "        [302.9102 , 302.5102 , 302.5102 , ..., 302.0102 , 301.9102 ,\n",
       "         301.9102 ],\n",
       "        [303.0102 , 302.71017, 302.6102 , ..., 302.0102 , 301.9102 ,\n",
       "         301.9102 ],\n",
       "        [303.1102 , 302.9102 , 302.5102 , ..., 301.9102 , 301.9102 ,\n",
       "         301.81018]],\n",
       "\n",
       "       ...,\n",
       "\n",
       "       [[273.7557 , 273.7657 , 273.7657 , ..., 277.1557 , 277.1957 ,\n",
       "         277.1957 ],\n",
       "        [273.8057 , 273.8457 , 273.8457 , ..., 277.2957 , 277.3157 ,\n",
       "         277.32568],\n",
       "        [273.8057 , 273.8457 , 273.8957 , ..., 277.3857 , 277.3757 ,\n",
       "         277.3757 ],\n",
       "        ...,\n",
       "        [300.7657 , 301.5957 , 301.9157 , ..., 300.9457 , 300.8757 ,\n",
       "         300.88568],\n",
       "        [300.38568, 301.4357 , 301.9357 , ..., 301.0357 , 300.9657 ,\n",
       "         300.9257 ],\n",
       "        [300.2557 , 301.3357 , 301.7957 , ..., 301.0257 , 300.9957 ,\n",
       "         300.9357 ]],\n",
       "\n",
       "       [[273.82196, 273.80194, 273.79196, ..., 277.48193, 277.34195,\n",
       "         277.25195],\n",
       "        [273.97195, 273.91196, 273.90195, ..., 277.66196, 277.56195,\n",
       "         277.53195],\n",
       "        [274.13196, 274.04196, 274.00195, ..., 277.82196, 277.76193,\n",
       "         277.77194],\n",
       "        ...,\n",
       "        [300.68195, 301.25195, 301.33194, ..., 301.01193, 301.03195,\n",
       "         300.98193],\n",
       "        [300.04196, 301.27194, 301.64194, ..., 301.04193, 300.96194,\n",
       "         300.91196],\n",
       "        [299.73193, 301.15195, 301.60196, ..., 300.99194, 300.92194,\n",
       "         300.86194]],\n",
       "\n",
       "       [[273.82196, 273.80194, 273.79196, ..., 277.48193, 277.34195,\n",
       "         277.25195],\n",
       "        [273.97195, 273.91196, 273.90195, ..., 277.66196, 277.56195,\n",
       "         277.53195],\n",
       "        [274.13196, 274.04196, 274.00195, ..., 277.82196, 277.76193,\n",
       "         277.77194],\n",
       "        ...,\n",
       "        [300.66196, 301.22195, 301.21194, ..., 301.01193, 301.03195,\n",
       "         300.98193],\n",
       "        [299.97195, 301.22195, 301.34195, ..., 301.01193, 300.96194,\n",
       "         300.91196],\n",
       "        [299.49194, 301.09195, 301.39194, ..., 300.99194, 300.92194,\n",
       "         300.86194]]], dtype=float32)\n",
       "Coordinates:\n",
       "  * lat      (lat) float64 -55.75 -55.5 -55.25 -55.0 ... -4.5 -4.25 -4.0 -3.75\n",
       "  * lon      (lon) float64 106.0 106.2 106.5 106.8 ... 178.5 178.8 179.0 179.2\n",
       "  * time     (time) datetime64[ns] 2020-11-25 2020-11-25T03:00:00 ... 2020-12-05\n",
       "Attributes:\n",
       "    long_name:  ** surface temperature [k] "
      ]
     },
     "execution_count": 70,
     "metadata": {},
     "output_type": "execute_result"
    }
   ],
   "source": [
    "# Joining the two dataset together. The time will now have twice as many points\n",
    "index_concat = xr.concat([d1.tmpsfc,d3.tmin2m], dim = 'time')\n",
    "index_concat"
   ]
  },
  {
   "cell_type": "code",
   "execution_count": 71,
   "metadata": {},
   "outputs": [
    {
     "data": {
      "text/plain": [
       "[<matplotlib.lines.Line2D at 0x21a00a1fac8>]"
      ]
     },
     "execution_count": 71,
     "metadata": {},
     "output_type": "execute_result"
    },
    {
     "data": {
      "image/png": "[encoded data removed]",
      "text/plain": [
       "<Figure size 432x288 with 1 Axes>"
      ]
     },
     "metadata": {
      "needs_background": "light"
     },
     "output_type": "display_data"
    }
   ],
   "source": [
    "# Time now repeats itself as well now.\n",
    "plt.plot(index_concat.time.values)"
   ]
  },
  {
   "cell_type": "code",
   "execution_count": 72,
   "metadata": {},
   "outputs": [
    {
     "data": {
      "text/plain": [
       "0"
      ]
     },
     "execution_count": 72,
     "metadata": {},
     "output_type": "execute_result"
    }
   ],
   "source": [
    "# The axis number \n",
    "axis_num =  index_concat.get_axis_num('time')\n",
    "axis_num"
   ]
  },
  {
   "cell_type": "code",
   "execution_count": 73,
   "metadata": {},
   "outputs": [],
   "source": [
    "# The data or arguement.\n",
    "arr = index_concat.values"
   ]
  },
  {
   "cell_type": "code",
   "execution_count": 74,
   "metadata": {},
   "outputs": [],
   "source": [
    "spearman_index_meta, sig_meta = np.apply_along_axis(helper, arr = arr, \n",
    "                                     axis = axis_num, len_a = len_a)"
   ]
  },
  {
   "cell_type": "code",
   "execution_count": 75,
   "metadata": {},
   "outputs": [
    {
     "data": {
      "text/plain": [
       "array([[ 0.60445868,  0.64154355,  0.58945077, ...,  0.02792223,\n",
       "         0.13843345,  0.09916167],\n",
       "       [ 0.61944544,  0.62000055,  0.57372687, ..., -0.01610453,\n",
       "         0.02629883,  0.00180119],\n",
       "       [ 0.59930099,  0.59545842,  0.59957314, ..., -0.00078639,\n",
       "         0.10321055,  0.06037799],\n",
       "       ...,\n",
       "       [ 0.06740677, -0.00499472, -0.0543022 , ...,  0.25554739,\n",
       "         0.31193446,  0.34830597],\n",
       "       [ 0.11270025, -0.02991779, -0.09022319, ...,  0.39684791,\n",
       "         0.25448096,  0.26081756],\n",
       "       [ 0.00260818, -0.14941552, -0.08143393, ...,  0.2540629 ,\n",
       "         0.11701855,  0.24321944]])"
      ]
     },
     "execution_count": 75,
     "metadata": {},
     "output_type": "execute_result"
    }
   ],
   "source": [
    "# Here we have it, a whole array of the correlation values.\n",
    "spearman_index_meta"
   ]
  },
  {
   "cell_type": "code",
   "execution_count": 76,
   "metadata": {},
   "outputs": [],
   "source": [
    "spearman_index = xr.Dataset({'correlation':(('lat','lon'), spearman_index_meta)},{\n",
    "    'lat':d1.tmpsfc.lat.values,\n",
    "    'lon':d1.tmpsfc.lon.values\n",
    "})\n",
    "\n",
    "\n",
    "spearman_sig = xr.Dataset({'p_value':(('lat','lon'), sig_meta)},{\n",
    "    'lat' : d1.tmpsfc.lat.values,\n",
    "    'lon': d1.tmpsfc.lon.values\n",
    "})"
   ]
  },
  {
   "cell_type": "code",
   "execution_count": 77,
   "metadata": {},
   "outputs": [
    {
     "data": {
      "text/html": [
       "<pre>&lt;xarray.Dataset&gt;\n",
       "Dimensions:      (lat: 209, lon: 294)\n",
       "Coordinates:\n",
       "  * lat          (lat) float64 -55.75 -55.5 -55.25 -55.0 ... -4.25 -4.0 -3.75\n",
       "  * lon          (lon) float64 106.0 106.2 106.5 106.8 ... 178.8 179.0 179.2\n",
       "Data variables:\n",
       "    correlation  (lat, lon) float64 0.6045 0.6415 0.5895 ... 0.2541 0.117 0.2432</pre>"
      ],
      "text/plain": [
       "<xarray.Dataset>\n",
       "Dimensions:      (lat: 209, lon: 294)\n",
       "Coordinates:\n",
       "  * lat          (lat) float64 -55.75 -55.5 -55.25 -55.0 ... -4.25 -4.0 -3.75\n",
       "  * lon          (lon) float64 106.0 106.2 106.5 106.8 ... 178.8 179.0 179.2\n",
       "Data variables:\n",
       "    correlation  (lat, lon) float64 0.6045 0.6415 0.5895 ... 0.2541 0.117 0.2432"
      ]
     },
     "execution_count": 77,
     "metadata": {},
     "output_type": "execute_result"
    }
   ],
   "source": [
    "spearman_index"
   ]
  },
  {
   "cell_type": "code",
   "execution_count": 78,
   "metadata": {},
   "outputs": [
    {
     "data": {
      "text/html": [
       "<pre>&lt;xarray.Dataset&gt;\n",
       "Dimensions:  (lat: 209, lon: 294)\n",
       "Coordinates:\n",
       "  * lat      (lat) float64 -55.75 -55.5 -55.25 -55.0 ... -4.5 -4.25 -4.0 -3.75\n",
       "  * lon      (lon) float64 106.0 106.2 106.5 106.8 ... 178.5 178.8 179.0 179.2\n",
       "Data variables:\n",
       "    p_value  (lat, lon) float64 2.9e-09 1.438e-10 8.796e-09 ... 0.3013 0.02971</pre>"
      ],
      "text/plain": [
       "<xarray.Dataset>\n",
       "Dimensions:  (lat: 209, lon: 294)\n",
       "Coordinates:\n",
       "  * lat      (lat) float64 -55.75 -55.5 -55.25 -55.0 ... -4.5 -4.25 -4.0 -3.75\n",
       "  * lon      (lon) float64 106.0 106.2 106.5 106.8 ... 178.5 178.8 179.0 179.2\n",
       "Data variables:\n",
       "    p_value  (lat, lon) float64 2.9e-09 1.438e-10 8.796e-09 ... 0.3013 0.02971"
      ]
     },
     "execution_count": 78,
     "metadata": {},
     "output_type": "execute_result"
    }
   ],
   "source": [
    "spearman_sig"
   ]
  },
  {
   "cell_type": "code",
   "execution_count": 79,
   "metadata": {},
   "outputs": [
    {
     "data": {
      "text/html": [
       "<pre>&lt;xarray.Dataset&gt;\n",
       "Dimensions:  (lat: 209, lon: 294)\n",
       "Coordinates:\n",
       "  * lat      (lat) float64 -55.75 -55.5 -55.25 -55.0 ... -4.5 -4.25 -4.0 -3.75\n",
       "  * lon      (lon) float64 106.0 106.2 106.5 106.8 ... 178.5 178.8 179.0 179.2\n",
       "Data variables:\n",
       "    p_value  (lat, lon) float64 2.9e-09 1.438e-10 8.796e-09 ... nan 0.02971</pre>"
      ],
      "text/plain": [
       "<xarray.Dataset>\n",
       "Dimensions:  (lat: 209, lon: 294)\n",
       "Coordinates:\n",
       "  * lat      (lat) float64 -55.75 -55.5 -55.25 -55.0 ... -4.5 -4.25 -4.0 -3.75\n",
       "  * lon      (lon) float64 106.0 106.2 106.5 106.8 ... 178.5 178.8 179.0 179.2\n",
       "Data variables:\n",
       "    p_value  (lat, lon) float64 2.9e-09 1.438e-10 8.796e-09 ... nan 0.02971"
      ]
     },
     "execution_count": 79,
     "metadata": {},
     "output_type": "execute_result"
    }
   ],
   "source": [
    "# Getting only the significant points\n",
    "spearman_sig = spearman_sig.where(spearman_sig.p_value < 0.1)\n",
    "spearman_sig"
   ]
  },
  {
   "cell_type": "markdown",
   "metadata": {},
   "source": [
    "<h1> Saving data </h1>"
   ]
  },
  {
   "cell_type": "code",
   "execution_count": 80,
   "metadata": {},
   "outputs": [],
   "source": [
    "d1.to_netcdf('d5.nc')"
   ]
  },
  {
   "cell_type": "markdown",
   "metadata": {},
   "source": [
    "Xarray also has the ability to save netcdf files with compressions. I have not fully used this feature, as such the explanation will be rather spase."
   ]
  },
  {
   "cell_type": "code",
   "execution_count": 81,
   "metadata": {},
   "outputs": [
    {
     "ename": "SyntaxError",
     "evalue": "invalid syntax (<ipython-input-81-2db25b92cf50>, line 3)",
     "output_type": "error",
     "traceback": [
      "\u001b[1;36m  File \u001b[1;32m\"<ipython-input-81-2db25b92cf50>\"\u001b[1;36m, line \u001b[1;32m3\u001b[0m\n\u001b[1;33m    'complevel':4 # The higher the number the greater than amount of compression.\u001b[0m\n\u001b[1;37m              ^\u001b[0m\n\u001b[1;31mSyntaxError\u001b[0m\u001b[1;31m:\u001b[0m invalid syntax\n"
     ]
    }
   ],
   "source": [
    "encoding = d1.encoding.update({\n",
    "    'zlib': True\n",
    "    'complevel':4 # The higher the number the greater than amount of compression. \n",
    "})"
   ]
  },
  {
   "cell_type": "code",
   "execution_count": null,
   "metadata": {},
   "outputs": [],
   "source": [
    "d1.to_netcdf('d1_compressed.nc', encoding = encoding)"
   ]
  },
  {
   "cell_type": "markdown",
   "metadata": {},
   "source": [
    "Bash can also be used in jupyter notebook"
   ]
  },
  {
   "cell_type": "code",
   "execution_count": null,
   "metadata": {},
   "outputs": [],
   "source": [
    "!ls"
   ]
  },
  {
   "cell_type": "code",
   "execution_count": null,
   "metadata": {},
   "outputs": [],
   "source": []
  }
 ],
 "metadata": {
  "kernelspec": {
   "display_name": "Python 3",
   "language": "python",
   "name": "python3"
  },
  "language_info": {
   "codemirror_mode": {
    "name": "ipython",
    "version": 3
   },
   "file_extension": ".py",
   "mimetype": "text/x-python",
   "name": "python",
   "nbconvert_exporter": "python",
   "pygments_lexer": "ipython3",
   "version": "3.7.4"
  },
  "latex_envs": {
   "LaTeX_envs_menu_present": true,
   "autoclose": false,
   "autocomplete": true,
   "bibliofile": "biblio.bib",
   "cite_by": "apalike",
   "current_citInitial": 1,
   "eqLabelWithNumbers": true,
   "eqNumInitial": 1,
   "hotkeys": {
    "equation": "Ctrl-E",
    "itemize": "Ctrl-I"
   },
   "labels_anchors": false,
   "latex_user_defs": false,
   "report_style_numbering": false,
   "user_envs_cfg": false
  },
  "toc": {
   "base_numbering": 1,
   "nav_menu": {},
   "number_sections": true,
   "sideBar": true,
   "skip_h1_title": false,
   "title_cell": "Table of Contents",
   "title_sidebar": "Contents",
   "toc_cell": false,
   "toc_position": {},
   "toc_section_display": true,
   "toc_window_display": false
  }
 },
 "nbformat": 4,
 "nbformat_minor": 2
}
